{
 "cells": [
  {
   "cell_type": "markdown",
   "id": "22872ec8",
   "metadata": {},
   "source": [
    "**Q0.** Examine how many missing values there are in different columns of your dataset. Remove columns with totally missing values."
   ]
  },
  {
   "cell_type": "markdown",
   "id": "674cb8d8",
   "metadata": {},
   "source": [
    "**Q1.** Visualize the correlation matrix of the numeric features of your dataset. Find top-10 of the most correlated pairs of columns. Can you explain why are they highly correlated?"
   ]
  },
  {
   "cell_type": "markdown",
   "id": "02034a1c",
   "metadata": {},
   "source": [
    "**Q2.** Plot a graph of the number of cancelled flights by carrier (also provide human-readable carriers' names). Which company cancelled races most often?"
   ]
  },
  {
   "cell_type": "markdown",
   "id": "175f8bba",
   "metadata": {},
   "source": [
    "**Q3.** Select all flights of the most popular carrier scheduled on 1st day of a month. Print top-10 of such flights with greatest arrival delays."
   ]
  },
  {
   "cell_type": "markdown",
   "id": "1f99d1f9",
   "metadata": {},
   "source": [
    "**Q4.** Create column `DepDatetime` with datetimes of departures in the format `yyyy-mm-dd HH:MM`."
   ]
  },
  {
   "cell_type": "markdown",
   "id": "c5f1fab9",
   "metadata": {},
   "source": [
    "**Q5.** Plot the histograms of arrival and departure delays. Adjust figure size, number of bins and type of scales."
   ]
  },
  {
   "cell_type": "markdown",
   "id": "e2ff301c",
   "metadata": {},
   "source": [
    "**Q6.** Plot boxplots of arrival delays, grouped by \n",
    "* month\n",
    "* day of week\n",
    "* hour\n",
    "* carrier\n",
    "\n",
    "Answer question (a) from the coursework project file."
   ]
  },
  {
   "cell_type": "markdown",
   "id": "69cea7fa",
   "metadata": {},
   "source": [
    "**Q7.** Add column with ages of planes. Do older planes suffer more delays? Plot some graphs justifying your answer.\n",
    "\n",
    "**Q8.** For each year, fit a logistic regression model for the probability of diverted US flights using as many features as possible from attributes of the departure date, the scheduled departure and arrival times, the coordinates and distance between departure and planned arrival airports, and the carrier. Visualize the coefficients across years."
   ]
  }
 ],
 "metadata": {
  "kernelspec": {
   "display_name": "Python 3 (ipykernel)",
   "language": "python",
   "name": "python3"
  },
  "language_info": {
   "codemirror_mode": {
    "name": "ipython",
    "version": 3
   },
   "file_extension": ".py",
   "mimetype": "text/x-python",
   "name": "python",
   "nbconvert_exporter": "python",
   "pygments_lexer": "ipython3",
   "version": "3.11.4"
  }
 },
 "nbformat": 4,
 "nbformat_minor": 5
}
