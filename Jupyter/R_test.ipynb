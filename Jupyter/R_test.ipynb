{
 "cells": [
  {
   "cell_type": "code",
   "execution_count": 1,
   "id": "65bd28ec",
   "metadata": {},
   "outputs": [
    {
     "name": "stdout",
     "output_type": "stream",
     "text": [
      "x + y returns:  26 \n"
     ]
    }
   ],
   "source": [
    "x <- 5\n",
    "y <- 21\n",
    "cat(\"x + y returns: \",x+y,\"\\n\")"
   ]
  },
  {
   "cell_type": "code",
   "execution_count": 2,
   "id": "ad567f57",
   "metadata": {},
   "outputs": [
    {
     "name": "stdout",
     "output_type": "stream",
     "text": [
      "x - y returns:  -16 \n",
      "x * y returns:  105 \n",
      "x / y returns:  0.2380952 \n",
      "y %/% x returns:  4 \n",
      "y %% x returns:  1 \n",
      "y ^ x returns:  4084101"
     ]
    }
   ],
   "source": [
    "cat(\"x - y returns: \",x-y,\"\\n\")\n",
    "cat(\"x * y returns: \",x*y,\"\\n\")\n",
    "cat(\"x / y returns: \",x/y,\"\\n\")\n",
    "cat(\"y %/% x returns: \",y%/%x,\"\\n\")\n",
    "cat(\"y %% x returns: \",y%%x,\"\\n\")\n",
    "cat(\"y ^ x returns: \",y^x)"
   ]
  },
  {
   "cell_type": "code",
   "execution_count": 4,
   "id": "a9379031",
   "metadata": {},
   "outputs": [
    {
     "name": "stdout",
     "output_type": "stream",
     "text": [
      "x < y is:  TRUE \n",
      "x > y is:  FALSE \n",
      "x <= 5 is:  TRUE \n",
      "y >= 20 is:  TRUE \n",
      "y == 16 is:  FALSE \n",
      "x != 5 is:  FALSE"
     ]
    }
   ],
   "source": [
    "cat(\"x < y is: \",x<y,\"\\n\") \n",
    "cat(\"x > y is: \",x>y,\"\\n\") \n",
    "cat(\"x <= 5 is: \",x<=5,\"\\n\") \n",
    "cat(\"y >= 20 is: \",y>=20,\"\\n\") \n",
    "cat(\"y == 16 is: \",y==16,\"\\n\") \n",
    "cat(\"x != 5 is: \",x!=5)"
   ]
  },
  {
   "cell_type": "code",
   "execution_count": 5,
   "id": "0711c2ea",
   "metadata": {},
   "outputs": [
    {
     "name": "stdout",
     "output_type": "stream",
     "text": [
      "!x returns:  FALSE TRUE TRUE FALSE \n",
      "x&y returns:  FALSE FALSE FALSE TRUE \n"
     ]
    },
    {
     "name": "stderr",
     "output_type": "stream",
     "text": [
      "Warning message in x && y:\n",
      "“'length(x) = 4 > 1' перекодирован в 'logical(1)'”\n",
      "Warning message in x && y:\n",
      "“'length(x) = 4 > 1' перекодирован в 'logical(1)'”\n"
     ]
    },
    {
     "name": "stdout",
     "output_type": "stream",
     "text": [
      "x&&y returns:  FALSE \n",
      "x|y returns:  TRUE TRUE FALSE TRUE \n"
     ]
    },
    {
     "name": "stderr",
     "output_type": "stream",
     "text": [
      "Warning message in x || y:\n",
      "“'length(x) = 4 > 1' перекодирован в 'logical(1)'”\n"
     ]
    },
    {
     "name": "stdout",
     "output_type": "stream",
     "text": [
      "x||y returns:  TRUE \n"
     ]
    }
   ],
   "source": [
    "x <- c(TRUE, FALSE, 0, 7)\n",
    "y <- c(FALSE, TRUE, FALSE, TRUE) \n",
    "cat(\"!x returns: \",!x,\"\\n\")\n",
    "cat(\"x&y returns: \",x&y,\"\\n\") \n",
    "cat(\"x&&y returns: \",x&&y,\"\\n\") \n",
    "cat(\"x|y returns: \",x|y,\"\\n\")\n",
    "cat(\"x||y returns: \",x||y,\"\\n\")"
   ]
  },
  {
   "cell_type": "code",
   "execution_count": 9,
   "id": "706f5bd8",
   "metadata": {},
   "outputs": [
    {
     "name": "stdout",
     "output_type": "stream",
     "text": [
      "[1] \"Y is an Integer\"\n"
     ]
    }
   ],
   "source": [
    "y <- 12L\n",
    "if(is.integer(y)) {\n",
    "    print(\"Y is an Integer\") \n",
    "}"
   ]
  },
  {
   "cell_type": "code",
   "execution_count": 15,
   "id": "ffc52101",
   "metadata": {},
   "outputs": [
    {
     "name": "stdout",
     "output_type": "stream",
     "text": [
      "[1] \"Hello\"  \"World!\"\n",
      "[1] \"Hello\"  \"World!\"\n",
      "[1] \"Hello\"  \"World!\"\n",
      "[1] \"Hello\"  \"World!\"\n"
     ]
    }
   ],
   "source": [
    "msg <- c(\"Hello\",\"World!\") \n",
    "count <- 2\n",
    "repeat {\n",
    "    print(msg)\n",
    "    count <- count+1 \n",
    "    if(count > 5) {\n",
    "        break\n",
    "    }\n",
    "}"
   ]
  },
  {
   "cell_type": "code",
   "execution_count": 17,
   "id": "1a421995",
   "metadata": {},
   "outputs": [
    {
     "name": "stdout",
     "output_type": "stream",
     "text": [
      "[1] \"A\"\n",
      "[1] \"B\"\n",
      "[1] \"C\"\n",
      "[1] \"D\"\n",
      "[1] \"E\"\n"
     ]
    }
   ],
   "source": [
    "l <- LETTERS[1:5]\n",
    "for ( j in l) {\n",
    "    print(j)\n",
    "}"
   ]
  },
  {
   "cell_type": "code",
   "execution_count": 22,
   "id": "6e091c23",
   "metadata": {},
   "outputs": [
    {
     "name": "stdout",
     "output_type": "stream",
     "text": [
      "[1] \"q\" \"w\" \"e\" \"r\" \"t\" \"y\"\n"
     ]
    }
   ],
   "source": [
    "for ( j in strsplit(\"qwerty\", split = \"\")) {\n",
    "    print(j)\n",
    "}"
   ]
  },
  {
   "cell_type": "code",
   "execution_count": 26,
   "id": "d302d927",
   "metadata": {},
   "outputs": [
    {
     "data": {
      "text/html": [
       "'list'"
      ],
      "text/latex": [
       "'list'"
      ],
      "text/markdown": [
       "'list'"
      ],
      "text/plain": [
       "[1] \"list\""
      ]
     },
     "metadata": {},
     "output_type": "display_data"
    },
    {
     "data": {
      "text/html": [
       "'character'"
      ],
      "text/latex": [
       "'character'"
      ],
      "text/markdown": [
       "'character'"
      ],
      "text/plain": [
       "[1] \"character\""
      ]
     },
     "metadata": {},
     "output_type": "display_data"
    }
   ],
   "source": [
    "typeof(strsplit(\"qwerty\", split = \"\")); typeof(l)"
   ]
  },
  {
   "cell_type": "code",
   "execution_count": 32,
   "id": "82ee1c97",
   "metadata": {},
   "outputs": [
    {
     "name": "stdout",
     "output_type": "stream",
     "text": [
      "[1] 1\n",
      "[1] 4\n",
      "[1] 9\n",
      "[1] 16\n",
      "[1] 25\n",
      "[1] 36\n",
      "[1] 49\n",
      "[1] 64\n"
     ]
    }
   ],
   "source": [
    "new.function <- function(x) {\n",
    "    for(j in 1:x) {\n",
    "        y <- j^2\n",
    "        print(y)\n",
    "    }\n",
    "}\n",
    "\n",
    "new.function(\"8\")"
   ]
  },
  {
   "cell_type": "code",
   "execution_count": 49,
   "id": "02cb761e",
   "metadata": {},
   "outputs": [
    {
     "name": "stdout",
     "output_type": "stream",
     "text": [
      "[1] \"14 raised to power 16 is 2177953337809371136\"\n"
     ]
    }
   ],
   "source": [
    "pow <- function(a, b) {\n",
    "    # function to print a raised to the power b \n",
    "    result <- a^b\n",
    "    print(paste(a,\"raised to power\", b, \"is\", result)) \n",
    "}\n",
    "\n",
    "pow(14L, 16L)"
   ]
  },
  {
   "cell_type": "code",
   "execution_count": 52,
   "id": "68d6be75",
   "metadata": {},
   "outputs": [
    {
     "data": {
      "text/html": [
       "'john'"
      ],
      "text/latex": [
       "'john'"
      ],
      "text/markdown": [
       "'john'"
      ],
      "text/plain": [
       "[1] \"john\""
      ]
     },
     "metadata": {},
     "output_type": "display_data"
    }
   ],
   "source": [
    "multi_return <- function() {\n",
    "    employee <- list(\"name\" = \"john\", \"age\" = 20, \"dept\" = \"ICT\") \n",
    "    return(employee)\n",
    "}\n",
    "\n",
    "x = multi_return()\n",
    "x$name"
   ]
  },
  {
   "cell_type": "code",
   "execution_count": 56,
   "id": "09ad35f9",
   "metadata": {},
   "outputs": [
    {
     "data": {
      "text/html": [
       "3628800"
      ],
      "text/latex": [
       "3628800"
      ],
      "text/markdown": [
       "3628800"
      ],
      "text/plain": [
       "[1] 3628800"
      ]
     },
     "metadata": {},
     "output_type": "display_data"
    }
   ],
   "source": [
    "recursive.factorial <- function(a) {\n",
    "    if (a == 0) return (1)\n",
    "    else return (a * recursive.factorial(a-1)) \n",
    "}\n",
    "\n",
    "recursive.factorial(10)"
   ]
  },
  {
   "cell_type": "code",
   "execution_count": 57,
   "id": "7c1c1139",
   "metadata": {},
   "outputs": [
    {
     "data": {
      "text/html": [
       "'list'"
      ],
      "text/latex": [
       "'list'"
      ],
      "text/markdown": [
       "'list'"
      ],
      "text/plain": [
       "[1] \"list\""
      ]
     },
     "metadata": {},
     "output_type": "display_data"
    }
   ],
   "source": [
    "s <- list(name = \"Alice\", age = 20, GPA = 3.5)\n",
    "class(s)"
   ]
  },
  {
   "cell_type": "code",
   "execution_count": 58,
   "id": "b813e2d5",
   "metadata": {},
   "outputs": [
    {
     "data": {
      "text/plain": [
       "$name\n",
       "[1] \"Alice\"\n",
       "\n",
       "$age\n",
       "[1] 20\n",
       "\n",
       "$GPA\n",
       "[1] 3.5\n",
       "\n",
       "attr(,\"class\")\n",
       "[1] \"megera\""
      ]
     },
     "metadata": {},
     "output_type": "display_data"
    }
   ],
   "source": [
    "class(s) <- \"megera\"\n",
    "s"
   ]
  },
  {
   "cell_type": "code",
   "execution_count": 59,
   "id": "46910299",
   "metadata": {},
   "outputs": [
    {
     "data": {
      "text/plain": [
       "  [1] print.acf*                                          \n",
       "  [2] print.AES*                                          \n",
       "  [3] print.anova*                                        \n",
       "  [4] print.aov*                                          \n",
       "  [5] print.aovlist*                                      \n",
       "  [6] print.ar*                                           \n",
       "  [7] print.Arima*                                        \n",
       "  [8] print.arima0*                                       \n",
       "  [9] print.AsIs                                          \n",
       " [10] print.aspell*                                       \n",
       " [11] print.aspell_inspect_context*                       \n",
       " [12] print.bibentry*                                     \n",
       " [13] print.Bibtex*                                       \n",
       " [14] print.browseVignettes*                              \n",
       " [15] print.by                                            \n",
       " [16] print.changedFiles*                                 \n",
       " [17] print.check_bogus_return*                           \n",
       " [18] print.check_code_usage_in_package*                  \n",
       " [19] print.check_compiled_code*                          \n",
       " [20] print.check_demo_index*                             \n",
       " [21] print.check_depdef*                                 \n",
       " [22] print.check_details*                                \n",
       " [23] print.check_details_changes*                        \n",
       " [24] print.check_doi_db*                                 \n",
       " [25] print.check_dotInternal*                            \n",
       " [26] print.check_make_vars*                              \n",
       " [27] print.check_nonAPI_calls*                           \n",
       " [28] print.check_package_code_assign_to_globalenv*       \n",
       " [29] print.check_package_code_attach*                    \n",
       " [30] print.check_package_code_data_into_globalenv*       \n",
       " [31] print.check_package_code_startup_functions*         \n",
       " [32] print.check_package_code_syntax*                    \n",
       " [33] print.check_package_code_unload_functions*          \n",
       " [34] print.check_package_compact_datasets*               \n",
       " [35] print.check_package_CRAN_incoming*                  \n",
       " [36] print.check_package_datalist*                       \n",
       " [37] print.check_package_datasets*                       \n",
       " [38] print.check_package_depends*                        \n",
       " [39] print.check_package_description*                    \n",
       " [40] print.check_package_description_encoding*           \n",
       " [41] print.check_package_license*                        \n",
       " [42] print.check_packages_in_dir*                        \n",
       " [43] print.check_packages_used*                          \n",
       " [44] print.check_po_files*                               \n",
       " [45] print.check_pragmas*                                \n",
       " [46] print.check_Rd_line_widths*                         \n",
       " [47] print.check_Rd_metadata*                            \n",
       " [48] print.check_Rd_xrefs*                               \n",
       " [49] print.check_RegSym_calls*                           \n",
       " [50] print.check_S3_methods_needing_delayed_registration*\n",
       " [51] print.check_so_symbols*                             \n",
       " [52] print.check_T_and_F*                                \n",
       " [53] print.check_url_db*                                 \n",
       " [54] print.check_vignette_index*                         \n",
       " [55] print.checkDocFiles*                                \n",
       " [56] print.checkDocStyle*                                \n",
       " [57] print.checkFF*                                      \n",
       " [58] print.checkRd*                                      \n",
       " [59] print.checkRdContents*                              \n",
       " [60] print.checkReplaceFuns*                             \n",
       " [61] print.checkS3methods*                               \n",
       " [62] print.checkTnF*                                     \n",
       " [63] print.checkVignettes*                               \n",
       " [64] print.citation*                                     \n",
       " [65] print.cli_ansi_html_style*                          \n",
       " [66] print.cli_ansi_string*                              \n",
       " [67] print.cli_ansi_style*                               \n",
       " [68] print.cli_boxx*                                     \n",
       " [69] print.cli_diff_chr*                                 \n",
       " [70] print.cli_doc*                                      \n",
       " [71] print.cli_progress_demo*                            \n",
       " [72] print.cli_rule*                                     \n",
       " [73] print.cli_sitrep*                                   \n",
       " [74] print.cli_spark*                                    \n",
       " [75] print.cli_spinner*                                  \n",
       " [76] print.cli_tree*                                     \n",
       " [77] print.codoc*                                        \n",
       " [78] print.codocClasses*                                 \n",
       " [79] print.codocData*                                    \n",
       " [80] print.colorConverter*                               \n",
       " [81] print.compactPDF*                                   \n",
       " [82] print.condition                                     \n",
       " [83] print.connection                                    \n",
       " [84] print.CRAN_package_reverse_dependencies_and_views*  \n",
       " [85] print.crayon*                                       \n",
       " [86] print.data.frame                                    \n",
       " [87] print.Date                                          \n",
       " [88] print.default                                       \n",
       " [89] print.dendrogram*                                   \n",
       " [90] print.density*                                      \n",
       " [91] print.difftime                                      \n",
       " [92] print.dist*                                         \n",
       " [93] print.Dlist                                         \n",
       " [94] print.DLLInfo                                       \n",
       " [95] print.DLLInfoList                                   \n",
       " [96] print.DLLRegisteredRoutines                         \n",
       " [97] print.dummy_coef*                                   \n",
       " [98] print.dummy_coef_list*                              \n",
       " [99] print.ecdf*                                         \n",
       "[100] print.eigen                                         \n",
       "[101] print.factanal*                                     \n",
       "[102] print.factor                                        \n",
       "[103] print.family*                                       \n",
       "[104] print.fileSnapshot*                                 \n",
       "[105] print.findLineNumResult*                            \n",
       "[106] print.formula*                                      \n",
       "[107] print.ftable*                                       \n",
       "[108] print.function                                      \n",
       "[109] print.getAnywhere*                                  \n",
       "[110] print.glm*                                          \n",
       "[111] print.glue*                                         \n",
       "[112] print.hashtab*                                      \n",
       "[113] print.hclust*                                       \n",
       "[114] print.help_files_with_topic*                        \n",
       "[115] print.hexmode                                       \n",
       "[116] print.HoltWinters*                                  \n",
       "[117] print.hsearch*                                      \n",
       "[118] print.hsearch_db*                                   \n",
       "[119] print.htest*                                        \n",
       "[120] print.html*                                         \n",
       "[121] print.html_dependency*                              \n",
       "[122] print.htmltools.selector*                           \n",
       "[123] print.htmltools.selector.list*                      \n",
       "[124] print.infl*                                         \n",
       "[125] print.integrate*                                    \n",
       "[126] print.isoreg*                                       \n",
       "[127] print.json*                                         \n",
       "[128] print.key_missing*                                  \n",
       "[129] print.kmeans*                                       \n",
       "[130] print.Latex*                                        \n",
       "[131] print.LaTeX*                                        \n",
       "[132] print.libraryIQR                                    \n",
       "[133] print.lifecycle_warnings*                           \n",
       "[134] print.listof                                        \n",
       "[135] print.lm*                                           \n",
       "[136] print.loadings*                                     \n",
       "[137] print.loess*                                        \n",
       "[138] print.logLik*                                       \n",
       "[139] print.ls_str*                                       \n",
       "[140] print.medpolish*                                    \n",
       "[141] print.MethodsFunction*                              \n",
       "[142] print.mtable*                                       \n",
       "[143] print.NativeRoutineList                             \n",
       "[144] print.news_db*                                      \n",
       "[145] print.nls*                                          \n",
       "[146] print.noquote                                       \n",
       "[147] print.numeric_version                               \n",
       "[148] print.object_size*                                  \n",
       "[149] print.octmode                                       \n",
       "[150] print.packageDescription*                           \n",
       "[151] print.packageInfo                                   \n",
       "[152] print.packageIQR*                                   \n",
       "[153] print.packageStatus*                                \n",
       "[154] print.pairwise.htest*                               \n",
       "[155] print.person*                                       \n",
       "[156] print.pillar*                                       \n",
       "[157] print.pillar_1e*                                    \n",
       "[158] print.pillar_colonnade*                             \n",
       "[159] print.pillar_ornament*                              \n",
       "[160] print.pillar_shaft*                                 \n",
       "[161] print.pillar_squeezed_colonnade*                    \n",
       "[162] print.pillar_tbl_format_setup*                      \n",
       "[163] print.pillar_vctr*                                  \n",
       "[164] print.pillar_vctr_attr*                             \n",
       "[165] print.POSIXct                                       \n",
       "[166] print.POSIXlt                                       \n",
       "[167] print.power.htest*                                  \n",
       "[168] print.ppr*                                          \n",
       "[169] print.prcomp*                                       \n",
       "[170] print.princomp*                                     \n",
       "[171] print.proc_time                                     \n",
       "[172] print.quosure*                                      \n",
       "[173] print.quosures*                                     \n",
       "[174] print.raster*                                       \n",
       "[175] print.Rd*                                           \n",
       "[176] print.recordedplot*                                 \n",
       "[177] print.restart                                       \n",
       "[178] print.RGBcolorConverter*                            \n",
       "[179] print.rlang_box_done*                               \n",
       "[180] print.rlang_box_splice*                             \n",
       "[181] print.rlang_data_pronoun*                           \n",
       "[182] print.rlang_dict*                                   \n",
       "[183] print.rlang_dyn_array*                              \n",
       "[184] print.rlang_envs*                                   \n",
       "[185] print.rlang_error*                                  \n",
       "[186] print.rlang_fake_data_pronoun*                      \n",
       "[187] print.rlang_lambda_function*                        \n",
       "[188] print.rlang_message*                                \n",
       "[189] print.rlang_trace*                                  \n",
       "[190] print.rlang_warning*                                \n",
       "[191] print.rlang_zap*                                    \n",
       "[192] print.rlang:::list_of_conditions*                   \n",
       "[193] print.rle                                           \n",
       "[194] print.rlib_bytes*                                   \n",
       "[195] print.rlib_error_3_0*                               \n",
       "[196] print.rlib_trace_3_0*                               \n",
       "[197] print.roman*                                        \n",
       "[198] print.scalar*                                       \n",
       "[199] print.sessionInfo*                                  \n",
       "[200] print.shiny.tag*                                    \n",
       "[201] print.shiny.tag.env*                                \n",
       "[202] print.shiny.tag.list*                               \n",
       "[203] print.shiny.tag.query*                              \n",
       "[204] print.simple.list                                   \n",
       "[205] print.smooth.spline*                                \n",
       "[206] print.socket*                                       \n",
       "[207] print.srcfile                                       \n",
       "[208] print.srcref                                        \n",
       "[209] print.stepfun*                                      \n",
       "[210] print.stl*                                          \n",
       "[211] print.StructTS*                                     \n",
       "[212] print.subdir_tests*                                 \n",
       "[213] print.summarize_CRAN_check_status*                  \n",
       "[214] print.summary.aov*                                  \n",
       "[215] print.summary.aovlist*                              \n",
       "[216] print.summary.ecdf*                                 \n",
       "[217] print.summary.glm*                                  \n",
       "[218] print.summary.lm*                                   \n",
       "[219] print.summary.loess*                                \n",
       "[220] print.summary.manova*                               \n",
       "[221] print.summary.nls*                                  \n",
       "[222] print.summary.packageStatus*                        \n",
       "[223] print.summary.ppr*                                  \n",
       "[224] print.summary.prcomp*                               \n",
       "[225] print.summary.princomp*                             \n",
       "[226] print.summary.table                                 \n",
       "[227] print.summary.warnings                              \n",
       "[228] print.summaryDefault                                \n",
       "[229] print.table                                         \n",
       "[230] print.tables_aov*                                   \n",
       "[231] print.tbl*                                          \n",
       "[232] print.terms*                                        \n",
       "[233] print.ts*                                           \n",
       "[234] print.tskernel*                                     \n",
       "[235] print.TukeyHSD*                                     \n",
       "[236] print.tukeyline*                                    \n",
       "[237] print.tukeysmooth*                                  \n",
       "[238] print.undoc*                                        \n",
       "[239] print.UUID*                                         \n",
       "[240] print.vctrs_bytes*                                  \n",
       "[241] print.vctrs_sclr*                                   \n",
       "[242] print.vctrs_unspecified*                            \n",
       "[243] print.vctrs_vctr*                                   \n",
       "[244] print.vignette                                      \n",
       "[245] print.warnings                                      \n",
       "[246] print.xgettext*                                     \n",
       "[247] print.xngettext*                                    \n",
       "[248] print.xtabs*                                        \n",
       "see '?methods' for accessing help and source code"
      ]
     },
     "metadata": {},
     "output_type": "display_data"
    }
   ],
   "source": [
    "methods(print)"
   ]
  },
  {
   "cell_type": "code",
   "execution_count": 63,
   "id": "a8f129c0",
   "metadata": {},
   "outputs": [
    {
     "data": {
      "text/plain": [
       "An object of class \"student\"\n",
       "Slot \"name\":\n",
       "[1] \"Alice\"\n",
       "\n",
       "Slot \"age\":\n",
       "[1] 20\n",
       "\n",
       "Slot \"GPA\":\n",
       "[1] 3.5\n"
      ]
     },
     "metadata": {},
     "output_type": "display_data"
    }
   ],
   "source": [
    "setClass(\"student\", slots=list(name=\"character\", age=\"numeric\", GPA=\"numeric\"))\n",
    "s <- new(\"student\",name=\"Alice\", age=20, GPA=3.5)\n",
    "s"
   ]
  },
  {
   "cell_type": "code",
   "execution_count": 64,
   "id": "da4ba1a7",
   "metadata": {},
   "outputs": [
    {
     "data": {
      "text/html": [
       "TRUE"
      ],
      "text/latex": [
       "TRUE"
      ],
      "text/markdown": [
       "TRUE"
      ],
      "text/plain": [
       "[1] TRUE"
      ]
     },
     "metadata": {},
     "output_type": "display_data"
    }
   ],
   "source": [
    "isS4(s)"
   ]
  },
  {
   "cell_type": "code",
   "execution_count": 65,
   "id": "c7575794",
   "metadata": {},
   "outputs": [],
   "source": [
    "student <- setClass(\"student\", slots=list(name=\"character\", age=\"numeric\", GPA=\"numeric\"))"
   ]
  },
  {
   "cell_type": "code",
   "execution_count": 66,
   "id": "51e865f7",
   "metadata": {},
   "outputs": [
    {
     "data": {
      "text/html": [
       "<pre class=language-r><code>new(\"classGeneratorFunction\", .Data = function (...) \n",
       "new(\"student\", ...), className = structure(\"student\", package = \".GlobalEnv\"), \n",
       "<span style=white-space:pre-wrap>    package = \".GlobalEnv\")</span></code></pre>"
      ],
      "text/latex": [
       "\\begin{minted}{r}\n",
       "new(\"classGeneratorFunction\", .Data = function (...) \n",
       "new(\"student\", ...), className = structure(\"student\", package = \".GlobalEnv\"), \n",
       "    package = \".GlobalEnv\")\n",
       "\\end{minted}"
      ],
      "text/markdown": [
       "```r\n",
       "new(\"classGeneratorFunction\", .Data = function (...) \n",
       "new(\"student\", ...), className = structure(\"student\", package = \".GlobalEnv\"), \n",
       "    package = \".GlobalEnv\")\n",
       "```"
      ],
      "text/plain": [
       "new(\"classGeneratorFunction\", .Data = function (...) \n",
       "new(\"student\", ...), className = \"student\", package = \".GlobalEnv\")\n",
       "attr(,\"className\")\n",
       "[1] \"student\"\n",
       "attr(,\"className\")attr(,\"package\")\n",
       "[1] \".GlobalEnv\"\n",
       "attr(,\"package\")\n",
       "[1] \".GlobalEnv\"\n",
       "attr(,\"class\")\n",
       "[1] \"classGeneratorFunction\"\n",
       "attr(,\"class\")attr(,\"package\")\n",
       "[1] \"methods\""
      ]
     },
     "metadata": {},
     "output_type": "display_data"
    }
   ],
   "source": [
    "student"
   ]
  },
  {
   "cell_type": "code",
   "execution_count": 67,
   "id": "36342539",
   "metadata": {},
   "outputs": [
    {
     "data": {
      "text/plain": [
       "An object of class \"student\"\n",
       "Slot \"name\":\n",
       "[1] \"George\"\n",
       "\n",
       "Slot \"age\":\n",
       "[1] 22\n",
       "\n",
       "Slot \"GPA\":\n",
       "[1] 3\n"
      ]
     },
     "metadata": {},
     "output_type": "display_data"
    }
   ],
   "source": [
    "student(name=\"George\", age=22, GPA=3.0)"
   ]
  },
  {
   "cell_type": "code",
   "execution_count": 68,
   "id": "96e0ace0",
   "metadata": {},
   "outputs": [
    {
     "data": {
      "text/html": [
       "'Alice'"
      ],
      "text/latex": [
       "'Alice'"
      ],
      "text/markdown": [
       "'Alice'"
      ],
      "text/plain": [
       "[1] \"Alice\""
      ]
     },
     "metadata": {},
     "output_type": "display_data"
    }
   ],
   "source": [
    "s@name"
   ]
  }
 ],
 "metadata": {
  "kernelspec": {
   "display_name": "R",
   "language": "R",
   "name": "ir"
  },
  "language_info": {
   "codemirror_mode": "r",
   "file_extension": ".r",
   "mimetype": "text/x-r-source",
   "name": "R",
   "pygments_lexer": "r",
   "version": "4.2.1"
  }
 },
 "nbformat": 4,
 "nbformat_minor": 5
}
