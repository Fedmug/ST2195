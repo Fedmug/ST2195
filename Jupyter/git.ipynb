{
 "cells": [
  {
   "cell_type": "markdown",
   "metadata": {
    "pycharm": {
     "name": "#%% md\n"
    },
    "slideshow": {
     "slide_type": "slide"
    }
   },
   "source": [
    "# Работа с git"
   ]
  },
  {
   "cell_type": "markdown",
   "metadata": {
    "pycharm": {
     "name": "#%% md\n"
    },
    "slideshow": {
     "slide_type": "-"
    }
   },
   "source": [
    "<div align=\"center\">\n",
    "    <img src=\"../Jupyter/images/meme.jpg\" width=\"600px\"/>\n",
    "</div>"
   ]
  },
  {
   "cell_type": "markdown",
   "metadata": {
    "pycharm": {
     "name": "#%% md\n"
    },
    "slideshow": {
     "slide_type": "skip"
    }
   },
   "source": [
    "<div align=\"center\"><b><font size=7>Не модифицируемая</font></b></div>"
   ]
  },
  {
   "cell_type": "markdown",
   "metadata": {
    "pycharm": {
     "name": "#%% md\n"
    },
    "slideshow": {
     "slide_type": "skip"
    }
   },
   "source": [
    "<div align=\"center\"><b><font size=6>(почти) никогда не удаляет данные</font></b></div>"
   ]
  },
  {
   "cell_type": "markdown",
   "metadata": {
    "pycharm": {
     "name": "#%% md\n"
    },
    "slideshow": {
     "slide_type": "skip"
    }
   },
   "source": [
    "**Git** — _распределённая_ система контроля версий, разработанная с прицелом на скорость и эффективность взаимодействия.\n",
    "\n",
    "<div align=\"center\">\n",
    "    <img src=\"https://git-scm.com/figures/18333fig0103-tn.png\" width=\"400px\"/>\n",
    "</div>"
   ]
  },
  {
   "cell_type": "markdown",
   "metadata": {
    "pycharm": {
     "name": "#%% md\n"
    },
    "slideshow": {
     "slide_type": "slide"
    }
   },
   "source": [
    "### Где могут храниться изменения файлов\n",
    "\n",
    "</br>\n",
    "<div align=\"center\">\n",
    "    <img src=\"../Jupyter/images/git_places.png\" width=\"800px\"/>\n",
    "</div>"
   ]
  },
  {
   "cell_type": "markdown",
   "metadata": {
    "pycharm": {
     "name": "#%% md\n"
    },
    "slideshow": {
     "slide_type": "slide"
    }
   },
   "source": [
    "### Состояния файла и переходы между ними\n",
    "\n",
    "</br>\n",
    "<div align=\"center\">\n",
    "    <img src=\"https://git-scm.com/book/en/v2/images/lifecycle.png\" width=\"800px\"/>\n",
    "</div>"
   ]
  },
  {
   "cell_type": "markdown",
   "metadata": {
    "pycharm": {
     "name": "#%% md\n"
    },
    "slideshow": {
     "slide_type": "slide"
    }
   },
   "source": [
    "<div align=\"center\"><b><font size=6>Базовый рабочий процесс</font></b></div>"
   ]
  },
  {
   "cell_type": "markdown",
   "metadata": {
    "pycharm": {
     "name": "#%% md\n"
    },
    "slideshow": {
     "slide_type": "-"
    }
   },
   "source": [
    "<b><font size=6>Изменяем</font></b>\n",
    "<div><font color=\"#0000FF\">vim / Sublime /VsCode / PyCharm</font></div>\n",
    "\n",
    "</br></br>\n",
    "<div align=\"center\">\n",
    "    <div style=\"border: 3px solid red; width: 280px; height:100px;position:relative;left:-30px;top:220px;\"></div>\n",
    "    <img src=\"https://git-scm.com/book/en/v2/images/lifecycle.png?1=1\" width=\"800px\" />\n",
    "</div>"
   ]
  },
  {
   "cell_type": "markdown",
   "metadata": {
    "pycharm": {
     "name": "#%% md\n"
    },
    "slideshow": {
     "slide_type": "slide"
    }
   },
   "source": [
    "<b><font size=6>Сохраняем в Stage</font></b>\n",
    "<div><font color=\"#0000FF\">git add (file)</font></div>\n",
    "<div align=\"center\">\n",
    "    <div style=\"border: 3px solid red; width: 680px; height:80px;position:relative;left:-10px;top:240px;\"></div>\n",
    "    <div style=\"border: 3px solid red; width: 280px; height:80px;position:relative;left:200px;top:260px;\"></div><img src=\"https://git-scm.com/book/en/v2/images/lifecycle.png?1=1\" width=\"800px\" /></div>"
   ]
  },
  {
   "cell_type": "markdown",
   "metadata": {
    "pycharm": {
     "name": "#%% md\n"
    },
    "slideshow": {
     "slide_type": "slide"
    }
   },
   "source": [
    "<b><font size=6>Смотрим что ничего не забыли добавить в Stage</font></b>\n",
    "<div><font color=\"#0000FF\">git status</font></div>\n",
    "\n",
    "<div align=\"center\"><img src=\"https://i.stack.imgur.com/j7sZ2.png\" width=\"800px\" /></div>"
   ]
  },
  {
   "cell_type": "markdown",
   "metadata": {
    "pycharm": {
     "name": "#%% md\n"
    },
    "slideshow": {
     "slide_type": "slide"
    }
   },
   "source": [
    "<b><font size=6>Коммитим (высекаем в камне)</font></b>\n",
    "<div><font color=\"#0000FF\">git commit -m</font></div>\n",
    "\n",
    "<div align=\"center\">\n",
    "    <div style=\"border: 3px solid red; width: 450px; height:100px;position:relative;left: 100px;top:350px;\"></div>\n",
    "    <img src=\"https://git-scm.com/book/en/v2/images/lifecycle.png?1=1\" width=\"800px\" />\n",
    "</div>"
   ]
  },
  {
   "cell_type": "markdown",
   "metadata": {
    "pycharm": {
     "name": "#%% md\n"
    },
    "slideshow": {
     "slide_type": "slide"
    }
   },
   "source": [
    "### Состояния файла и переходы между ними\n",
    "\n",
    "</br>\n",
    "<div align=\"center\">\n",
    "    <img src=\"../Jupyter/images/git_cheatsheet.png\" width=\"800px\"/>\n",
    "</div>"
   ]
  },
  {
   "cell_type": "code",
   "execution_count": 1,
   "metadata": {},
   "outputs": [
    {
     "name": "stdout",
     "output_type": "stream",
     "text": [
      "Initialized empty Git repository in /Users/sergo/KBTU/P4DS_ST2195/git/.git/\r\n"
     ]
    }
   ],
   "source": [
    "! git init"
   ]
  },
  {
   "cell_type": "markdown",
   "metadata": {
    "pycharm": {
     "name": "#%% md\n"
    },
    "slideshow": {
     "slide_type": "slide"
    }
   },
   "source": [
    "### git status"
   ]
  },
  {
   "cell_type": "code",
   "execution_count": 30,
   "metadata": {
    "pycharm": {
     "name": "#%%\n"
    },
    "slideshow": {
     "slide_type": "-"
    }
   },
   "outputs": [
    {
     "name": "stdout",
     "output_type": "stream",
     "text": [
      "On branch master\r\n",
      "\r\n",
      "No commits yet\r\n",
      "\r\n",
      "Untracked files:\r\n",
      "  (use \"git add <file>...\" to include in what will be committed)\r\n",
      "\r\n",
      "\t\u001b[31m.ipynb_checkpoints/\u001b[m\r\n",
      "\t\u001b[31mgit.ipynb\u001b[m\r\n",
      "\r\n",
      "nothing added to commit but untracked files present (use \"git add\" to track)\r\n"
     ]
    }
   ],
   "source": [
    "! git status"
   ]
  },
  {
   "cell_type": "code",
   "execution_count": 31,
   "metadata": {
    "pycharm": {
     "name": "#%%\n"
    },
    "slideshow": {
     "slide_type": "fragment"
    }
   },
   "outputs": [
    {
     "name": "stdout",
     "output_type": "stream",
     "text": [
      "On branch master\r\n",
      "\r\n",
      "No commits yet\r\n",
      "\r\n",
      "Untracked files:\r\n",
      "  (use \"git add <file>...\" to include in what will be committed)\r\n",
      "\r\n",
      "\t\u001b[31m.ipynb_checkpoints/\u001b[m\r\n",
      "\t\u001b[31mgit.ipynb\u001b[m\r\n",
      "\t\u001b[31mhello_world.py\u001b[m\r\n",
      "\r\n",
      "nothing added to commit but untracked files present (use \"git add\" to track)\r\n"
     ]
    }
   ],
   "source": [
    "! touch hello_world.py\n",
    "! git status"
   ]
  },
  {
   "cell_type": "code",
   "execution_count": 32,
   "metadata": {
    "pycharm": {
     "name": "#%%\n"
    },
    "slideshow": {
     "slide_type": "slide"
    }
   },
   "outputs": [
    {
     "name": "stdout",
     "output_type": "stream",
     "text": [
      "On branch master\r\n",
      "\r\n",
      "No commits yet\r\n",
      "\r\n",
      "Untracked files:\r\n",
      "  (use \"git add <file>...\" to include in what will be committed)\r\n",
      "\r\n",
      "\t\u001b[31m.ipynb_checkpoints/\u001b[m\r\n",
      "\t\u001b[31mREADME.md\u001b[m\r\n",
      "\t\u001b[31mgit.ipynb\u001b[m\r\n",
      "\t\u001b[31mhello_world.py\u001b[m\r\n",
      "\r\n",
      "nothing added to commit but untracked files present (use \"git add\" to track)\r\n"
     ]
    }
   ],
   "source": [
    "! echo \"# Hello!\" > README.md\n",
    "! git status"
   ]
  },
  {
   "cell_type": "code",
   "execution_count": 8,
   "metadata": {
    "pycharm": {
     "name": "#%%\n"
    },
    "slideshow": {
     "slide_type": "fragment"
    }
   },
   "outputs": [
    {
     "name": "stdout",
     "output_type": "stream",
     "text": [
      "On branch master\r\n",
      "\r\n",
      "No commits yet\r\n",
      "\r\n",
      "Changes to be committed:\r\n",
      "  (use \"git rm --cached <file>...\" to unstage)\r\n",
      "\r\n",
      "\t\u001b[32mnew file:   README.md\u001b[m\r\n",
      "\r\n",
      "Untracked files:\r\n",
      "  (use \"git add <file>...\" to include in what will be committed)\r\n",
      "\r\n",
      "\t\u001b[31m.ipynb_checkpoints/\u001b[m\r\n",
      "\t\u001b[31mgit.ipynb\u001b[m\r\n",
      "\t\u001b[31mhello_world.py\u001b[m\r\n",
      "\r\n"
     ]
    }
   ],
   "source": [
    "! git add README.md\n",
    "! git status"
   ]
  },
  {
   "cell_type": "code",
   "execution_count": 10,
   "metadata": {
    "pycharm": {
     "name": "#%%\n"
    },
    "slideshow": {
     "slide_type": "slide"
    }
   },
   "outputs": [
    {
     "name": "stdout",
     "output_type": "stream",
     "text": [
      "[master (root-commit) 4addbf5] Add header to readme\r\n",
      " 1 file changed, 1 insertion(+)\r\n",
      " create mode 100644 README.md\r\n"
     ]
    }
   ],
   "source": [
    "! git commit -m \"Add header to readme\""
   ]
  },
  {
   "cell_type": "markdown",
   "metadata": {
    "pycharm": {
     "name": "#%% md\n"
    },
    "slideshow": {
     "slide_type": "-"
    }
   },
   "source": [
    "<div align=\"center\"><img src=\"http://xkcd.chtoes.li/comics/1296.png?1=1\" width=\"600px\" /></div>"
   ]
  },
  {
   "cell_type": "code",
   "execution_count": 11,
   "metadata": {
    "pycharm": {
     "name": "#%%\n"
    },
    "slideshow": {
     "slide_type": "fragment"
    }
   },
   "outputs": [
    {
     "name": "stdout",
     "output_type": "stream",
     "text": [
      "On branch master\r\n",
      "Untracked files:\r\n",
      "  (use \"git add <file>...\" to include in what will be committed)\r\n",
      "\r\n",
      "\t\u001b[31m.ipynb_checkpoints/\u001b[m\r\n",
      "\t\u001b[31mgit.ipynb\u001b[m\r\n",
      "\t\u001b[31mhello_world.py\u001b[m\r\n",
      "\r\n",
      "nothing added to commit but untracked files present (use \"git add\" to track)\r\n"
     ]
    }
   ],
   "source": [
    "! git status"
   ]
  },
  {
   "cell_type": "markdown",
   "metadata": {
    "pycharm": {
     "name": "#%% md\n"
    },
    "slideshow": {
     "slide_type": "slide"
    }
   },
   "source": [
    "### .gitignore"
   ]
  },
  {
   "cell_type": "markdown",
   "metadata": {
    "pycharm": {
     "name": "#%% md\n"
    },
    "slideshow": {
     "slide_type": "-"
    }
   },
   "source": [
    "```\n",
    "# .gitignore\n",
    "venv\n",
    ".DS_Store\n",
    ".idea\n",
    "__pycache__\n",
    "*.py[cod]\n",
    ".ipynb_checkpoints\n",
    ".pytest_cache\n",
    ".mypy_cache\n",
    ".cache\n",
    "```"
   ]
  },
  {
   "cell_type": "markdown",
   "metadata": {
    "pycharm": {
     "name": "#%% md\n"
    },
    "slideshow": {
     "slide_type": "-"
    }
   },
   "source": [
    "<div align=\"center\"><img src=\"https://i.imgur.com/E4bK5j7.png\" width=\"800px\"/></div>"
   ]
  },
  {
   "cell_type": "code",
   "execution_count": 12,
   "metadata": {
    "pycharm": {
     "name": "#%%\n"
    },
    "slideshow": {
     "slide_type": "slide"
    }
   },
   "outputs": [
    {
     "name": "stdout",
     "output_type": "stream",
     "text": [
      "On branch master\r\n",
      "Untracked files:\r\n",
      "  (use \"git add <file>...\" to include in what will be committed)\r\n",
      "\r\n",
      "\t\u001b[31m.ipynb_checkpoints/\u001b[m\r\n",
      "\t\u001b[31mgit.ipynb\u001b[m\r\n",
      "\t\u001b[31mhello_world.py\u001b[m\r\n",
      "\t\u001b[31mtest.ipynb\u001b[m\r\n",
      "\r\n",
      "nothing added to commit but untracked files present (use \"git add\" to track)\r\n"
     ]
    }
   ],
   "source": [
    "!touch test.ipynb\n",
    "!git status"
   ]
  },
  {
   "cell_type": "code",
   "execution_count": 13,
   "metadata": {
    "pycharm": {
     "name": "#%%\n"
    },
    "slideshow": {
     "slide_type": "fragment"
    }
   },
   "outputs": [
    {
     "name": "stdout",
     "output_type": "stream",
     "text": [
      "On branch master\r\n",
      "Untracked files:\r\n",
      "  (use \"git add <file>...\" to include in what will be committed)\r\n",
      "\r\n",
      "\t\u001b[31m.gitignore\u001b[m\r\n",
      "\t\u001b[31mhello_world.py\u001b[m\r\n",
      "\r\n",
      "nothing added to commit but untracked files present (use \"git add\" to track)\r\n"
     ]
    }
   ],
   "source": [
    "!echo \"*.ipynb\" > .gitignore\n",
    "!git status"
   ]
  },
  {
   "cell_type": "markdown",
   "metadata": {
    "pycharm": {
     "name": "#%% md\n"
    },
    "slideshow": {
     "slide_type": "slide"
    }
   },
   "source": [
    "### git log"
   ]
  },
  {
   "cell_type": "code",
   "execution_count": 33,
   "metadata": {
    "pycharm": {
     "name": "#%%\n"
    },
    "slideshow": {
     "slide_type": "-"
    }
   },
   "outputs": [
    {
     "name": "stdout",
     "output_type": "stream",
     "text": [
      "\u001b[33mcommit aa84f7b18649abe38aaa9d531576834b64182a9c\u001b[m\u001b[33m (\u001b[m\u001b[1;36mHEAD -> \u001b[m\u001b[1;32mmaster\u001b[m\u001b[33m)\u001b[m\r\n",
      "Author: Sergey Lytkin <lytkin-s@yandex.ru>\r\n",
      "Date:   Fri Jan 20 14:36:48 2023 +0600\r\n",
      "\r\n",
      "    Append hello world\r\n",
      "\r\n",
      "\u001b[33mcommit 71424d12eefd44ca3fd17d634db9627d726a793f\u001b[m\r\n",
      "Author: Sergey Lytkin <lytkin-s@yandex.ru>\r\n",
      "Date:   Fri Jan 20 14:32:06 2023 +0600\r\n",
      "\r\n",
      "    Add hello world\r\n"
     ]
    }
   ],
   "source": [
    "!git log"
   ]
  },
  {
   "cell_type": "code",
   "execution_count": 34,
   "metadata": {
    "pycharm": {
     "name": "#%%\n"
    },
    "slideshow": {
     "slide_type": "fragment"
    }
   },
   "outputs": [
    {
     "name": "stdout",
     "output_type": "stream",
     "text": [
      "[master f1ae896] Added hello_world.py\r\n",
      " 1 file changed, 1 insertion(+), 1 deletion(-)\r\n"
     ]
    }
   ],
   "source": [
    "!echo 'print(\"Hello, world!\")' > hello_world.py\n",
    "!git add hello_world.py\n",
    "!git commit -m \"Added hello_world.py\""
   ]
  },
  {
   "cell_type": "code",
   "execution_count": 35,
   "metadata": {
    "pycharm": {
     "name": "#%%\n"
    },
    "slideshow": {
     "slide_type": "fragment"
    }
   },
   "outputs": [
    {
     "name": "stdout",
     "output_type": "stream",
     "text": [
      "\u001b[33mcommit f1ae89600f2adff8a990bf441c8ffbc90cbe8fec\u001b[m\u001b[33m (\u001b[m\u001b[1;36mHEAD -> \u001b[m\u001b[1;32mmaster\u001b[m\u001b[33m)\u001b[m\r\n",
      "Author: Sergey Lytkin <lytkin-s@yandex.ru>\r\n",
      "Date:   Fri Jan 20 15:10:08 2023 +0600\r\n",
      "\r\n",
      "    Added hello_world.py\r\n",
      "\r\n",
      "\u001b[33mcommit 5331a62e7f858b32bb180873bb4f59978f8074e9\u001b[m\r\n",
      "Author: Sergey Lytkin <lytkin-s@yandex.ru>\r\n",
      "Date:   Fri Jan 20 15:08:43 2023 +0600\r\n",
      "\r\n",
      "    add README file:\r\n",
      "\r\n",
      "\u001b[33mcommit aa84f7b18649abe38aaa9d531576834b64182a9c\u001b[m\r\n",
      "Author: Sergey Lytkin <lytkin-s@yandex.ru>\r\n",
      "Date:   Fri Jan 20 14:36:48 2023 +0600\r\n",
      "\r\n",
      "    Append hello world\r\n",
      "\r\n",
      "\u001b[33mcommit 71424d12eefd44ca3fd17d634db9627d726a793f\u001b[m\r\n",
      "Author: Sergey Lytkin <lytkin-s@yandex.ru>\r\n",
      "Date:   Fri Jan 20 14:32:06 2023 +0600\r\n",
      "\r\n",
      "    Add hello world\r\n"
     ]
    }
   ],
   "source": [
    "!git log"
   ]
  },
  {
   "cell_type": "markdown",
   "metadata": {
    "pycharm": {
     "name": "#%% md\n"
    },
    "slideshow": {
     "slide_type": "slide"
    }
   },
   "source": [
    "### git checkout"
   ]
  },
  {
   "cell_type": "code",
   "execution_count": 36,
   "metadata": {
    "pycharm": {
     "name": "#%%\n"
    },
    "slideshow": {
     "slide_type": "-"
    }
   },
   "outputs": [
    {
     "name": "stdout",
     "output_type": "stream",
     "text": [
      "On branch master\r\n",
      "Changes not staged for commit:\r\n",
      "  (use \"git add <file>...\" to update what will be committed)\r\n",
      "  (use \"git checkout -- <file>...\" to discard changes in working directory)\r\n",
      "\r\n",
      "\t\u001b[31mmodified:   hello_world.py\u001b[m\r\n",
      "\r\n",
      "Untracked files:\r\n",
      "  (use \"git add <file>...\" to include in what will be committed)\r\n",
      "\r\n",
      "\t\u001b[31m.gitignore\u001b[m\r\n",
      "\r\n",
      "no changes added to commit (use \"git add\" and/or \"git commit -a\")\r\n"
     ]
    }
   ],
   "source": [
    "!echo \"another line\" >> hello_world.py\n",
    "!git status"
   ]
  },
  {
   "cell_type": "code",
   "execution_count": 37,
   "metadata": {
    "pycharm": {
     "name": "#%%\n"
    },
    "slideshow": {
     "slide_type": "fragment"
    }
   },
   "outputs": [
    {
     "name": "stdout",
     "output_type": "stream",
     "text": [
      "On branch master\n",
      "Untracked files:\n",
      "  (use \"git add <file>...\" to include in what will be committed)\n",
      "\n",
      "\t\u001b[31m.gitignore\u001b[m\n",
      "\n",
      "nothing added to commit but untracked files present (use \"git add\" to track)\n",
      "print(\"Hello, world!\")\n"
     ]
    }
   ],
   "source": [
    "!git checkout -- hello_world.py\n",
    "!git status\n",
    "!cat hello_world.py"
   ]
  },
  {
   "cell_type": "code",
   "execution_count": 38,
   "metadata": {
    "pycharm": {
     "name": "#%%\n"
    },
    "slideshow": {
     "slide_type": "skip"
    }
   },
   "outputs": [
    {
     "name": "stdout",
     "output_type": "stream",
     "text": [
      "\u001b[33mcommit f1ae89600f2adff8a990bf441c8ffbc90cbe8fec\u001b[m\u001b[33m (\u001b[m\u001b[1;36mHEAD -> \u001b[m\u001b[1;32mmaster\u001b[m\u001b[33m)\u001b[m\r\n",
      "Author: Sergey Lytkin <lytkin-s@yandex.ru>\r\n",
      "Date:   Fri Jan 20 15:10:08 2023 +0600\r\n",
      "\r\n",
      "    Added hello_world.py\r\n",
      "\r\n",
      "\u001b[33mcommit 5331a62e7f858b32bb180873bb4f59978f8074e9\u001b[m\r\n",
      "Author: Sergey Lytkin <lytkin-s@yandex.ru>\r\n",
      "Date:   Fri Jan 20 15:08:43 2023 +0600\r\n",
      "\r\n",
      "    add README file:\r\n",
      "\r\n",
      "\u001b[33mcommit aa84f7b18649abe38aaa9d531576834b64182a9c\u001b[m\r\n",
      "Author: Sergey Lytkin <lytkin-s@yandex.ru>\r\n",
      "Date:   Fri Jan 20 14:36:48 2023 +0600\r\n",
      "\r\n",
      "    Append hello world\r\n",
      "\r\n",
      "\u001b[33mcommit 71424d12eefd44ca3fd17d634db9627d726a793f\u001b[m\r\n",
      "Author: Sergey Lytkin <lytkin-s@yandex.ru>\r\n",
      "Date:   Fri Jan 20 14:32:06 2023 +0600\r\n",
      "\r\n",
      "    Add hello world\r\n"
     ]
    }
   ],
   "source": [
    "!git log"
   ]
  },
  {
   "cell_type": "code",
   "execution_count": 25,
   "metadata": {
    "pycharm": {
     "name": "#%%\n"
    },
    "slideshow": {
     "slide_type": "slide"
    }
   },
   "outputs": [
    {
     "name": "stdout",
     "output_type": "stream",
     "text": [
      "Note: checking out '4addbf5'.\r\n",
      "\r\n",
      "You are in 'detached HEAD' state. You can look around, make experimental\r\n",
      "changes and commit them, and you can discard any commits you make in this\r\n",
      "state without impacting any branches by performing another checkout.\r\n",
      "\r\n",
      "If you want to create a new branch to retain commits you create, you may\r\n",
      "do so (now or later) by using -b with the checkout command again. Example:\r\n",
      "\r\n",
      "  git checkout -b <new-branch-name>\r\n",
      "\r\n",
      "HEAD is now at 4addbf5 Add header to readme\r\n"
     ]
    }
   ],
   "source": [
    "!git checkout 4addbf5"
   ]
  },
  {
   "cell_type": "code",
   "execution_count": 27,
   "metadata": {
    "pycharm": {
     "name": "#%%\n"
    },
    "slideshow": {
     "slide_type": "fragment"
    }
   },
   "outputs": [
    {
     "name": "stdout",
     "output_type": "stream",
     "text": [
      "\u001b[31mHEAD detached at \u001b[m4addbf5\n",
      "Untracked files:\n",
      "  (use \"git add <file>...\" to include in what will be committed)\n",
      "\n",
      "\t\u001b[31m.gitignore\u001b[m\n",
      "\n",
      "nothing added to commit but untracked files present (use \"git add\" to track)\n",
      "\u001b[34m.\u001b[m\u001b[m                  \u001b[34m.git\u001b[m\u001b[m               \u001b[34m.ipynb_checkpoints\u001b[m\u001b[m git.ipynb\n",
      "\u001b[34m..\u001b[m\u001b[m                 .gitignore         README.md          test.ipynb\n"
     ]
    }
   ],
   "source": [
    "!git status\n",
    "!ls -a"
   ]
  },
  {
   "cell_type": "code",
   "execution_count": 39,
   "metadata": {
    "pycharm": {
     "name": "#%%\n"
    },
    "slideshow": {
     "slide_type": "fragment"
    }
   },
   "outputs": [
    {
     "name": "stdout",
     "output_type": "stream",
     "text": [
      "\u001b[33mcommit f1ae89600f2adff8a990bf441c8ffbc90cbe8fec\u001b[m\u001b[33m (\u001b[m\u001b[1;36mHEAD -> \u001b[m\u001b[1;32mmaster\u001b[m\u001b[33m)\u001b[m\r\n",
      "Author: Sergey Lytkin <lytkin-s@yandex.ru>\r\n",
      "Date:   Fri Jan 20 15:10:08 2023 +0600\r\n",
      "\r\n",
      "    Added hello_world.py\r\n",
      "\r\n",
      "\u001b[33mcommit 5331a62e7f858b32bb180873bb4f59978f8074e9\u001b[m\r\n",
      "Author: Sergey Lytkin <lytkin-s@yandex.ru>\r\n",
      "Date:   Fri Jan 20 15:08:43 2023 +0600\r\n",
      "\r\n",
      "    add README file:\r\n",
      "\r\n",
      "\u001b[33mcommit aa84f7b18649abe38aaa9d531576834b64182a9c\u001b[m\r\n",
      "Author: Sergey Lytkin <lytkin-s@yandex.ru>\r\n",
      "Date:   Fri Jan 20 14:36:48 2023 +0600\r\n",
      "\r\n",
      "    Append hello world\r\n",
      "\r\n",
      "\u001b[33mcommit 71424d12eefd44ca3fd17d634db9627d726a793f\u001b[m\r\n",
      "Author: Sergey Lytkin <lytkin-s@yandex.ru>\r\n",
      "Date:   Fri Jan 20 14:32:06 2023 +0600\r\n",
      "\r\n",
      "    Add hello world\r\n"
     ]
    }
   ],
   "source": [
    "!git log --all"
   ]
  },
  {
   "cell_type": "markdown",
   "metadata": {
    "pycharm": {
     "name": "#%% md\n"
    },
    "slideshow": {
     "slide_type": "slide"
    }
   },
   "source": [
    "## Удаленный репозиторий\n",
    "\n",
    "<div align=\"center\">\n",
    "    <img src=\"../Jupyter/images/remote_repo.png\" width=\"600px\"/>\n",
    "</div>"
   ]
  },
  {
   "cell_type": "markdown",
   "metadata": {
    "pycharm": {
     "name": "#%% md\n"
    },
    "slideshow": {
     "slide_type": "slide"
    }
   },
   "source": [
    "**Где хранится удаленный репозиторий?**\n",
    "\n",
    "<div align=\"center\">\n",
    "    <img src=\"https://miro.medium.com/max/850/1*-pu6YnszgzFzAWjhO3C5NQ.jpeg\" width=\"600px\"/>\n",
    "</div>"
   ]
  },
  {
   "cell_type": "markdown",
   "metadata": {
    "pycharm": {
     "name": "#%% md\n"
    },
    "slideshow": {
     "slide_type": "slide"
    }
   },
   "source": [
    "### Изучаем удаленный репозиторий"
   ]
  },
  {
   "cell_type": "markdown",
   "metadata": {
    "pycharm": {
     "name": "#%% md\n"
    },
    "slideshow": {
     "slide_type": "-"
    }
   },
   "source": [
    "<div align=\"center\"><img src=\"../Jupyter/images/before_push.png\"/></div>"
   ]
  },
  {
   "cell_type": "code",
   "execution_count": 45,
   "metadata": {
    "pycharm": {
     "name": "#%%\n"
    },
    "slideshow": {
     "slide_type": "skip"
    }
   },
   "outputs": [],
   "source": [
    "os.chdir('~/shad')"
   ]
  },
  {
   "cell_type": "code",
   "execution_count": 44,
   "metadata": {
    "pycharm": {
     "name": "#%%\n"
    },
    "slideshow": {
     "slide_type": "slide"
    }
   },
   "outputs": [
    {
     "name": "stdout",
     "output_type": "stream",
     "text": [
      "Cloning into 'sample-remote-repo'...\n",
      "remote: Enumerating objects: 7, done.\u001b[K\n",
      "remote: Total 7 (delta 0), reused 0 (delta 0), pack-reused 7\u001b[K\n",
      "Receiving objects: 100% (7/7), done.\n",
      "Resolving deltas: 100% (1/1), done.\n"
     ]
    }
   ],
   "source": [
    "git clone git@gitlab.manytask.org:py-tasks/sample-remote-repo.git\n",
    "cd sample-remote-repo"
   ]
  },
  {
   "cell_type": "code",
   "execution_count": 46,
   "metadata": {
    "pycharm": {
     "name": "#%%\n"
    },
    "slideshow": {
     "slide_type": "-"
    }
   },
   "outputs": [
    {
     "name": "stdout",
     "output_type": "stream",
     "text": [
      "origin\tgit@gitlab.manytask.org:py-tasks/sample-remote-repo.git (fetch)\r\n",
      "origin\tgit@gitlab.manytask.org:py-tasks/sample-remote-repo.git (push)\r\n"
     ]
    }
   ],
   "source": [
    "git remote -v"
   ]
  },
  {
   "cell_type": "markdown",
   "metadata": {
    "pycharm": {
     "name": "#%% md\n"
    },
    "slideshow": {
     "slide_type": "slide"
    }
   },
   "source": [
    "### Отправка изменений на сервер\n",
    "_(когда все ок)_"
   ]
  },
  {
   "cell_type": "code",
   "execution_count": 47,
   "metadata": {
    "pycharm": {
     "name": "#%%\n"
    },
    "slideshow": {
     "slide_type": "-"
    }
   },
   "outputs": [
    {
     "name": "stdout",
     "output_type": "stream",
     "text": [
      "[master 7aacbe9] Added farewell submodule\r\n",
      " 1 file changed, 1 insertion(+)\r\n",
      " create mode 100644 bye/bye.py\r\n"
     ]
    }
   ],
   "source": [
    "mkdir bye\n",
    "echo 'print(\"Goodbye, world!\")' > bye/bye.py\n",
    "git add bye\n",
    "git commit -m \"Added farewell submodule\""
   ]
  },
  {
   "cell_type": "code",
   "execution_count": 53,
   "metadata": {
    "pycharm": {
     "name": "#%%\n"
    },
    "slideshow": {
     "slide_type": "fragment"
    }
   },
   "outputs": [
    {
     "name": "stdout",
     "output_type": "stream",
     "text": [
      "Total 0 (delta 0), reused 0 (delta 0)\n",
      "remote: \n",
      "remote: To create a merge request for main, visit:\u001b[K\n",
      "remote:   https://gitlab.manytask.org/py-tasks/sample-remote-repo/-/merge_requests/new?merge_request%5Bsource_branch%5D=main\u001b[K\n",
      "remote: \n",
      "To gitlab.manytask.org:py-tasks/sample-remote-repo.git\n",
      "   e6278ba..7aacbe9  main -> main\n",
      "Branch 'main' set up to track remote branch 'main' from 'origin'.\n"
     ]
    }
   ],
   "source": [
    "git push origin"
   ]
  },
  {
   "cell_type": "markdown",
   "metadata": {
    "pycharm": {
     "name": "#%% md\n"
    },
    "slideshow": {
     "slide_type": "slide"
    }
   },
   "source": [
    "<div align=\"center\"><img src=\"images/after_push.png\"/></div>"
   ]
  },
  {
   "cell_type": "markdown",
   "metadata": {
    "pycharm": {
     "name": "#%% md\n"
    },
    "slideshow": {
     "slide_type": "slide"
    }
   },
   "source": [
    "### Отправка изменений на сервер\n",
    "_(когда что-то пошло не так)_"
   ]
  },
  {
   "cell_type": "code",
   "execution_count": 54,
   "metadata": {
    "pycharm": {
     "name": "#%%\n"
    },
    "slideshow": {
     "slide_type": "-"
    }
   },
   "outputs": [
    {
     "name": "stdout",
     "output_type": "stream",
     "text": [
      "[main 6bcb8ed] Fixed README to contain relevant docs\r\n",
      " 1 file changed, 1 insertion(+), 3 deletions(-)\r\n"
     ]
    }
   ],
   "source": [
    "echo \"# Hello and bye functionality\" > README.md\n",
    "git add .\n",
    "git commit -m \"Fixed README to contain relevant docs\""
   ]
  },
  {
   "cell_type": "code",
   "execution_count": 55,
   "metadata": {
    "pycharm": {
     "name": "#%%\n"
    },
    "slideshow": {
     "slide_type": "fragment"
    }
   },
   "outputs": [
    {
     "name": "stdout",
     "output_type": "stream",
     "text": [
      "To gitlab.manytask.org:py-tasks/sample-remote-repo.git\r\n",
      " \u001b[31m! [rejected]       \u001b[m main -> main (fetch first)\r\n",
      "\u001b[31merror: failed to push some refs to 'git@gitlab.manytask.org:py-tasks/sample-remote-repo.git'\r\n",
      "\u001b[m\u001b[33mhint: Updates were rejected because the remote contains work that you do\u001b[m\r\n",
      "\u001b[33mhint: not have locally. This is usually caused by another repository pushing\u001b[m\r\n",
      "\u001b[33mhint: to the same ref. You may want to first integrate the remote changes\u001b[m\r\n",
      "\u001b[33mhint: (e.g., 'git pull ...') before pushing again.\u001b[m\r\n",
      "\u001b[33mhint: See the 'Note about fast-forwards' in 'git push --help' for details.\u001b[m\r\n"
     ]
    }
   ],
   "source": [
    "git push origin"
   ]
  },
  {
   "cell_type": "code",
   "execution_count": 56,
   "metadata": {
    "pycharm": {
     "name": "#%%\n"
    },
    "slideshow": {
     "slide_type": "-"
    }
   },
   "outputs": [
    {
     "name": "stdout",
     "output_type": "stream",
     "text": [
      "On branch main\r\n",
      "Your branch is ahead of 'origin/main' by 1 commit.\r\n",
      "  (use \"git push\" to publish your local commits)\r\n",
      "\r\n",
      "nothing to commit, working tree clean\r\n"
     ]
    }
   ],
   "source": [
    "git status"
   ]
  },
  {
   "cell_type": "markdown",
   "metadata": {
    "pycharm": {
     "name": "#%% md\n"
    },
    "slideshow": {
     "slide_type": "slide"
    }
   },
   "source": [
    "### Получение изменений с сервера\n",
    "_(когда что-то пошло не так)_"
   ]
  },
  {
   "cell_type": "code",
   "execution_count": 57,
   "metadata": {
    "pycharm": {
     "name": "#%%\n"
    },
    "slideshow": {
     "slide_type": "-"
    }
   },
   "outputs": [
    {
     "name": "stdout",
     "output_type": "stream",
     "text": [
      "remote: Enumerating objects: 5, done.\u001b[K\r\n",
      "remote: Counting objects:  20% (1/5)\u001b[K\r",
      "remote: Counting objects:  40% (2/5)\u001b[K\r",
      "remote: Counting objects:  60% (3/5)\u001b[K\r",
      "remote: Counting objects:  80% (4/5)\u001b[K\r",
      "remote: Counting objects: 100% (5/5)\u001b[K\r",
      "remote: Counting objects: 100% (5/5), done.\u001b[K\r\n",
      "remote: Compressing objects:  33% (1/3)\u001b[K\r",
      "remote: Compressing objects:  66% (2/3)\u001b[K\r",
      "remote: Compressing objects: 100% (3/3)\u001b[K\r",
      "remote: Compressing objects: 100% (3/3), done.\u001b[K\r\n",
      "remote: Total 3 (delta 0), reused 0 (delta 0), pack-reused 0\u001b[K\r\n",
      "Unpacking objects:  33% (1/3)\r",
      "Unpacking objects:  66% (2/3)\r",
      "Unpacking objects: 100% (3/3)\r",
      "Unpacking objects: 100% (3/3), 379 bytes | 54.00 KiB/s, done.\r\n",
      "From gitlab.manytask.org:py-tasks/sample-remote-repo\r\n",
      "   7aacbe9..9585992  main       -> origin/main\r\n",
      " * [new branch]      test       -> origin/test\r\n",
      "Auto-merging README.md\r\n",
      "CONFLICT (content): Merge conflict in README.md\r\n",
      "Automatic merge failed; fix conflicts and then commit the result.\r\n"
     ]
    }
   ],
   "source": [
    "git pull origin"
   ]
  },
  {
   "cell_type": "code",
   "execution_count": 58,
   "metadata": {
    "pycharm": {
     "name": "#%%\n"
    },
    "slideshow": {
     "slide_type": "fragment"
    }
   },
   "outputs": [
    {
     "name": "stdout",
     "output_type": "stream",
     "text": [
      "On branch main\r\n",
      "Your branch and 'origin/main' have diverged,\r\n",
      "and have 1 and 1 different commits each, respectively.\r\n",
      "  (use \"git pull\" to merge the remote branch into yours)\r\n",
      "\r\n",
      "You have unmerged paths.\r\n",
      "  (fix conflicts and run \"git commit\")\r\n",
      "  (use \"git merge --abort\" to abort the merge)\r\n",
      "\r\n",
      "Unmerged paths:\r\n",
      "  (use \"git add <file>...\" to mark resolution)\r\n",
      "\t\u001b[31mboth modified:   README.md\u001b[m\r\n",
      "\r\n",
      "no changes added to commit (use \"git add\" and/or \"git commit -a\")\r\n"
     ]
    }
   ],
   "source": [
    "git status"
   ]
  },
  {
   "cell_type": "code",
   "execution_count": 59,
   "metadata": {
    "pycharm": {
     "name": "#%%\n"
    },
    "slideshow": {
     "slide_type": "slide"
    }
   },
   "outputs": [
    {
     "name": "stdout",
     "output_type": "stream",
     "text": [
      "<<<<<<< HEAD\r\n",
      "# Hello and bye functionality\r\n",
      "=======\r\n",
      "# sample-remote-repo\r\n",
      "\r\n",
      "Sample repo for git remote interactions \r\n",
      "Added a new line from web\r\n",
      ">>>>>>> 9585992e9dcaeeb74cc7a20d2248d2c6497b2e42\r\n"
     ]
    }
   ],
   "source": [
    "cat README.md"
   ]
  },
  {
   "cell_type": "code",
   "execution_count": 60,
   "metadata": {
    "pycharm": {
     "name": "#%%\n"
    },
    "slideshow": {
     "slide_type": "-"
    }
   },
   "outputs": [],
   "source": [
    "echo \"# Handler for person's presence state\" > README.md\n",
    "git add README.md"
   ]
  },
  {
   "cell_type": "code",
   "execution_count": 61,
   "metadata": {
    "pycharm": {
     "name": "#%%\n"
    },
    "slideshow": {
     "slide_type": "-"
    }
   },
   "outputs": [
    {
     "name": "stdout",
     "output_type": "stream",
     "text": [
      "On branch main\r\n",
      "Your branch and 'origin/main' have diverged,\r\n",
      "and have 1 and 1 different commits each, respectively.\r\n",
      "  (use \"git pull\" to merge the remote branch into yours)\r\n",
      "\r\n",
      "All conflicts fixed but you are still merging.\r\n",
      "  (use \"git commit\" to conclude merge)\r\n",
      "\r\n",
      "Changes to be committed:\r\n",
      "\t\u001b[32mmodified:   README.md\u001b[m\r\n",
      "\r\n"
     ]
    }
   ],
   "source": [
    "git status"
   ]
  },
  {
   "cell_type": "code",
   "execution_count": 62,
   "metadata": {
    "pycharm": {
     "name": "#%%\n"
    },
    "slideshow": {
     "slide_type": "slide"
    }
   },
   "outputs": [
    {
     "name": "stdout",
     "output_type": "stream",
     "text": [
      "[main b06c38b] Fixed naming conflict in README\r\n"
     ]
    }
   ],
   "source": [
    "git commit -m \"Fixed naming conflict in README\""
   ]
  },
  {
   "cell_type": "code",
   "execution_count": 63,
   "metadata": {
    "pycharm": {
     "name": "#%%\n"
    },
    "slideshow": {
     "slide_type": "-"
    }
   },
   "outputs": [
    {
     "name": "stdout",
     "output_type": "stream",
     "text": [
      "Enumerating objects: 10, done.\n",
      "Counting objects: 100% (10/10), done.\n",
      "Delta compression using up to 16 threads\n",
      "Compressing objects: 100% (4/4), done.\n",
      "Writing objects: 100% (6/6), 744 bytes | 744.00 KiB/s, done.\n",
      "Total 6 (delta 0), reused 0 (delta 0)\n",
      "remote: \n",
      "remote: To create a merge request for main, visit:\u001b[K\n",
      "remote:   https://gitlab.manytask.org/py-tasks/sample-remote-repo/-/merge_requests/new?merge_request%5Bsource_branch%5D=main\u001b[K\n",
      "remote: \n",
      "To gitlab.manytask.org:py-tasks/sample-remote-repo.git\n",
      "   9585992..b06c38b  main -> main\n"
     ]
    }
   ],
   "source": [
    "git push origin"
   ]
  },
  {
   "cell_type": "markdown",
   "metadata": {
    "pycharm": {
     "name": "#%% md\n"
    },
    "slideshow": {
     "slide_type": "slide"
    }
   },
   "source": [
    "### Получение изменений с сервера\n",
    "_(когда все ок)_"
   ]
  },
  {
   "cell_type": "code",
   "execution_count": 64,
   "metadata": {
    "slideshow": {
     "slide_type": "-"
    }
   },
   "outputs": [
    {
     "name": "stdout",
     "output_type": "stream",
     "text": [
      "# Handler for person's presence state\r\n"
     ]
    }
   ],
   "source": [
    "cat README.md"
   ]
  },
  {
   "cell_type": "code",
   "execution_count": 65,
   "metadata": {
    "pycharm": {
     "name": "#%%\n"
    },
    "slideshow": {
     "slide_type": "fragment"
    }
   },
   "outputs": [
    {
     "name": "stdout",
     "output_type": "stream",
     "text": [
      "remote: Enumerating objects: 5, done.\u001b[K\n",
      "remote: Counting objects: 100% (5/5), done.\u001b[K\n",
      "remote: Compressing objects: 100% (3/3), done.\u001b[K\n",
      "remote: Total 3 (delta 0), reused 0 (delta 0), pack-reused 0\u001b[K\n",
      "Unpacking objects: 100% (3/3), 368 bytes | 368.00 KiB/s, done.\n",
      "From gitlab.manytask.org:py-tasks/sample-remote-repo\n",
      "   b06c38b..85ec296  main       -> origin/main\n",
      "Updating b06c38b..85ec296\n",
      "Fast-forward\n",
      " README.md | 1 \u001b[32m+\u001b[m\n",
      " 1 file changed, 1 insertion(+)\n"
     ]
    }
   ],
   "source": [
    "git pull origin"
   ]
  },
  {
   "cell_type": "code",
   "execution_count": 66,
   "metadata": {
    "slideshow": {
     "slide_type": "-"
    }
   },
   "outputs": [
    {
     "name": "stdout",
     "output_type": "stream",
     "text": [
      "# Handler for person's presence state\r\n",
      "A more reliable description\r\n"
     ]
    }
   ],
   "source": [
    "cat README.md"
   ]
  },
  {
   "cell_type": "markdown",
   "metadata": {
    "pycharm": {
     "name": "#%% md\n"
    },
    "slideshow": {
     "slide_type": "slide"
    }
   },
   "source": [
    "<div align=\"center\"><img src=\"https://luckytruedev.com/learning/wp-content/uploads/2018/12/Commits.png?1=1\" width=\"600px\"/></div>"
   ]
  },
  {
   "cell_type": "markdown",
   "metadata": {
    "pycharm": {
     "name": "#%% md\n"
    },
    "slideshow": {
     "slide_type": "slide"
    }
   },
   "source": [
    "### Но не все так просто\n",
    "<div align=\"center\">\n",
    "        <img src=\"images/testing_scheme.png\"/>\n",
    "</div>"
   ]
  },
  {
   "cell_type": "markdown",
   "metadata": {
    "slideshow": {
     "slide_type": "slide"
    }
   },
   "source": [
    "### И еще одна страшная схемка\n",
    "<div align=\"center\">\n",
    "    <img src=\"images/gitlab-manytask-schema.png\"/>\n",
    "</div>"
   ]
  },
  {
   "cell_type": "markdown",
   "metadata": {
    "pycharm": {
     "name": "#%% md\n"
    },
    "slideshow": {
     "slide_type": "slide"
    }
   },
   "source": [
    "### Добавляем адрес для загрузки свежих условий заданий"
   ]
  },
  {
   "cell_type": "code",
   "execution_count": 70,
   "metadata": {
    "slideshow": {
     "slide_type": "skip"
    }
   },
   "outputs": [],
   "source": [
    "os.chdir('~/shad/')"
   ]
  },
  {
   "cell_type": "code",
   "execution_count": 71,
   "metadata": {
    "slideshow": {
     "slide_type": "-"
    }
   },
   "outputs": [
    {
     "name": "stdout",
     "output_type": "stream",
     "text": [
      "Cloning into 'test_test_username'...\n",
      "remote: Enumerating objects: 107, done.\u001b[K\n",
      "remote: Counting objects: 100% (31/31), done.\u001b[K\n",
      "remote: Compressing objects: 100% (31/31), done.\u001b[K\n",
      "remote: Total 107 (delta 11), reused 0 (delta 0), pack-reused 76\u001b[K\n",
      "Receiving objects: 100% (107/107), 3.21 MiB | 1.20 MiB/s, done.\n",
      "Resolving deltas: 100% (14/14), done.\n"
     ]
    }
   ],
   "source": [
    "git clone git@gitlab.manytask.org:python/students-fall-2022/test_test_username.git\n",
    "cd test_test_username"
   ]
  },
  {
   "cell_type": "code",
   "execution_count": 73,
   "metadata": {
    "slideshow": {
     "slide_type": "skip"
    }
   },
   "outputs": [],
   "source": [
    "os.chdir('test_test_username')"
   ]
  },
  {
   "cell_type": "code",
   "execution_count": 74,
   "metadata": {
    "pycharm": {
     "name": "#%%\n"
    },
    "slideshow": {
     "slide_type": "fragment"
    }
   },
   "outputs": [
    {
     "name": "stdout",
     "output_type": "stream",
     "text": [
      "origin\tgit@gitlab.manytask.org:python/students-fall-2022/test_test_username.git (fetch)\r\n",
      "origin\tgit@gitlab.manytask.org:python/students-fall-2022/test_test_username.git (push)\r\n"
     ]
    }
   ],
   "source": [
    "git remote -v\n",
    "git remote add upstream git@gitlab.manytask.org:python/public-2022-fall.git"
   ]
  },
  {
   "cell_type": "code",
   "execution_count": 75,
   "metadata": {
    "pycharm": {
     "name": "#%%\n"
    },
    "slideshow": {
     "slide_type": "-"
    }
   },
   "outputs": [
    {
     "name": "stdout",
     "output_type": "stream",
     "text": [
      "origin\tgit@gitlab.manytask.org:python/students-fall-2022/test_test_username.git (fetch)\r\n",
      "origin\tgit@gitlab.manytask.org:python/students-fall-2022/test_test_username.git (push)\r\n",
      "upstream\tgit@gitlab.manytask.org:python/public-2022-fall.git (fetch)\r\n",
      "upstream\tgit@gitlab.manytask.org:python/public-2022-fall.git (push)\r\n"
     ]
    }
   ],
   "source": [
    "git remote -v"
   ]
  },
  {
   "cell_type": "code",
   "execution_count": 76,
   "metadata": {
    "pycharm": {
     "name": "#%%\n"
    },
    "slideshow": {
     "slide_type": "slide"
    }
   },
   "outputs": [
    {
     "name": "stdout",
     "output_type": "stream",
     "text": [
      "From gitlab.manytask.org:python/public-2022-fall\n",
      " * branch            main       -> FETCH_HEAD\n",
      " * [new branch]      main       -> upstream/main\n",
      "Already up to date.\n"
     ]
    }
   ],
   "source": [
    "# получить задания:\n",
    "git pull upstream main"
   ]
  },
  {
   "cell_type": "code",
   "execution_count": 77,
   "metadata": {
    "slideshow": {
     "slide_type": "fragment"
    }
   },
   "outputs": [
    {
     "name": "stdout",
     "output_type": "stream",
     "text": [
      "Everything up-to-date\r\n"
     ]
    }
   ],
   "source": [
    "# сдать задания:\n",
    "!git push origin main"
   ]
  },
  {
   "cell_type": "markdown",
   "metadata": {
    "pycharm": {
     "name": "#%% md\n"
    },
    "slideshow": {
     "slide_type": "skip"
    }
   },
   "source": [
    "## Итог"
   ]
  },
  {
   "cell_type": "markdown",
   "metadata": {
    "pycharm": {
     "name": "#%% md\n"
    },
    "slideshow": {
     "slide_type": "skip"
    }
   },
   "source": [
    "* git init\n",
    "* git clone\n",
    "* git add\n",
    "* git commit\n",
    "* git status\n",
    "* git log\n",
    "* git checkout\n",
    "* git branch\n",
    "* git revert\n",
    "* git merge\n",
    "* git pull\n",
    "* git push"
   ]
  },
  {
   "cell_type": "markdown",
   "metadata": {
    "pycharm": {
     "name": "#%% md\n"
    },
    "slideshow": {
     "slide_type": "skip"
    }
   },
   "source": [
    "<div align=\"center\"><b><font size=5><font color=\"#FF0000\">12 комманд</font> для повседневной работы с гитом</font></b></div>"
   ]
  },
  {
   "cell_type": "markdown",
   "metadata": {
    "pycharm": {
     "name": "#%% md\n"
    },
    "slideshow": {
     "slide_type": "slide"
    }
   },
   "source": [
    "## Источники"
   ]
  },
  {
   "cell_type": "markdown",
   "metadata": {
    "pycharm": {
     "name": "#%% md\n"
    },
    "slideshow": {
     "slide_type": "-"
    }
   },
   "source": [
    "* <a href=\"https://githowto.com/\">githowto.com</a>\n",
    "* <a href=\"https://git-scm.com/book/en/v2\">git-scm.com/book/en/v2</a>\n",
    "* <a href=\"https://git-tower.com/learn/git/ebook\">git-tower.com/learn/git/ebook</a>\n",
    "* <a href=\"https://speakerdeck.com/schacon/introduction-to-git\">speakerdeck.com/schacon/introduction-to-git</a>\n",
    "* <a href=\"patrickzahnd.ch/blog.html#gitflow\">patrickzahnd.ch//blog.html#gitflow</a>"
   ]
  }
 ],
 "metadata": {
  "celltoolbar": "Slideshow",
  "kernelspec": {
   "display_name": "Python 3 (ipykernel)",
   "language": "python",
   "name": "python3"
  },
  "language_info": {
   "codemirror_mode": {
    "name": "ipython",
    "version": 3
   },
   "file_extension": ".py",
   "mimetype": "text/x-python",
   "name": "python",
   "nbconvert_exporter": "python",
   "pygments_lexer": "ipython3",
   "version": "3.10.5"
  },
  "rise": {
   "enable_chalkboard": true,
   "footer": "<p style=\"margin: 5px; color: #a0a0a0\">YSDA Python Course</p>",
   "scroll": true,
   "start_slideshow_at": "selected",
   "theme": "serif"
  }
 },
 "nbformat": 4,
 "nbformat_minor": 2
}
