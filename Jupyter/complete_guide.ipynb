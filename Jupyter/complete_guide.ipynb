{
 "cells": [
  {
   "cell_type": "code",
   "execution_count": 2,
   "id": "8ea6775a",
   "metadata": {},
   "outputs": [],
   "source": [
    "from tika import parser"
   ]
  },
  {
   "cell_type": "code",
   "execution_count": 3,
   "id": "cd0f6314",
   "metadata": {},
   "outputs": [],
   "source": [
    "from PyPDF2 import PdfReader"
   ]
  },
  {
   "cell_type": "code",
   "execution_count": 5,
   "id": "18b897eb",
   "metadata": {},
   "outputs": [],
   "source": [
    "reader = PdfReader(\"../ST2195-Complete-Study-Guide.pdf\")"
   ]
  },
  {
   "cell_type": "code",
   "execution_count": 8,
   "id": "1f71003a",
   "metadata": {},
   "outputs": [
    {
     "name": "stdout",
     "output_type": "stream",
     "text": [
      "0 1825 <class 'str'>\n",
      "1 1842 <class 'str'>\n",
      "2 555 <class 'str'>\n",
      "3 325 <class 'str'>\n",
      "4 1500 <class 'str'>\n",
      "5 1861 <class 'str'>\n",
      "6 238 <class 'str'>\n",
      "7 2203 <class 'str'>\n",
      "8 1649 <class 'str'>\n",
      "9 275 <class 'str'>\n",
      "10 1421 <class 'str'>\n",
      "11 2373 <class 'str'>\n"
     ]
    }
   ],
   "source": [
    "for i, page in enumerate(reader.pages):\n",
    "    text = page.extract_text()\n",
    "    print(i, len(text), type(text))\n",
    "    if i > 10:\n",
    "        break"
   ]
  },
  {
   "cell_type": "code",
   "execution_count": 11,
   "id": "dcd15532",
   "metadata": {},
   "outputs": [
    {
     "name": "stdout",
     "output_type": "stream",
     "text": [
      "Using R  \n",
      "There are several ways to use R after installation. Some popular ways are  \n",
      "• Through the Command Prompt (Windows) or a terminal (on Linux and macOS) —the \n",
      "minimalists choice  \n",
      "• Through the default R GUI (on Window and macOS) —simple and effective \n",
      "• Through RStudio—powerful and widely used  \n",
      "Another way popular developers and scientists is through the Emacs Speaks Statistics  (ESS) \n",
      "package for the Emacs editor. ESS provides an extremely rich development experience, if \n",
      "you are familiar with Emacs , but we will not cover it here.  \n",
      "Assignment Operator  \n",
      "Before we continue with the various ways of using R, we need to know how we can—slightly informally put —give names to the results of an operation for further manipulation later. \n",
      "One of the most common operations in computer programming is [assignment]( https://en.wikipedia.org/wiki/Assignment_(computer_science)\n",
      ". An assignment \n",
      "statement links a value  with a name . For example in R  \n",
      "a <- 987654321/123456789 \n",
      "will compute the ratio 987654321/123456789  (did you know that this ratio is almost 8?) on \n",
      "the right of <- using floating point arithmetic , store the result in computer memory and then \n",
      "bind it to the name a on the left of <-. For example, we can then do  \n",
      "print(a, 15) \n",
      "[1] 8.0000000729 \n",
      "to print the value bound to a in 15 significant digits. \n",
      "The symbol <- (less and a dash) is R’s assignment operator . Another common convention \n",
      "in recent versions of R is to use = for assignment (as in Python and other  programming \n",
      "languages). That’s OK but <- is formally more valid because i) it highlights the direction of \n",
      "assignment, and ii) formally a and 987654321/123456789  are not really equal (by definition \n",
      "of assignment a = b  is not the same statement as b = a !). For this reason, we are and will be \n",
      "using <- for assignment in all R code in these notes. Note that the statement  \n",
      "987654321/123456789 -> a \n",
      "also binds the result of 987654321/123456789  to the name a, though it is less commonly \n",
      "used. \n",
      "Note here that we said “the value bound to a” instead of “the value of a.” This is specific to \n",
      "how R works. In R, values do not have a name (!), instead the names have values associated \n",
      "to them! So, a is simply a reference to a value. For example, if we type b <- a, R does not \n",
      "create another copy the already -computed result of 987654321/123456789  but rather creates \n"
     ]
    }
   ],
   "source": [
    "print(text)"
   ]
  },
  {
   "cell_type": "code",
   "execution_count": 24,
   "id": "cd3d2c15",
   "metadata": {},
   "outputs": [
    {
     "name": "stdout",
     "output_type": "stream",
     "text": [
      "HOW?!\n"
     ]
    }
   ],
   "source": [
    "import math\n",
    "value = math.nan\n",
    "\n",
    "if value > 5:\n",
    "    print('> 5')\n",
    "elif value == 5:\n",
    "    print('5')\n",
    "elif value < 5:\n",
    "    print('< 5')\n",
    "else:\n",
    "    print('HOW?!')  # Q: for which value \"HOW?!\" will be printed?"
   ]
  },
  {
   "cell_type": "code",
   "execution_count": 27,
   "id": "fc9b843a",
   "metadata": {},
   "outputs": [
    {
     "data": {
      "text/plain": [
       "False"
      ]
     },
     "execution_count": 27,
     "metadata": {},
     "output_type": "execute_result"
    }
   ],
   "source": [
    "list() == None"
   ]
  },
  {
   "cell_type": "code",
   "execution_count": 4,
   "id": "cd8bf37f",
   "metadata": {},
   "outputs": [
    {
     "name": "stderr",
     "output_type": "stream",
     "text": [
      "2022-10-29 16:10:17,404 [MainThread  ] [INFO ]  Retrieving http://search.maven.org/remotecontent?filepath=org/apache/tika/tika-server/1.24/tika-server-1.24.jar to /var/folders/_m/fd0pgt2d59q_98kq7r467pv80000gn/T/tika-server.jar.\n",
      "2022-10-29 16:10:28,585 [MainThread  ] [INFO ]  Retrieving http://search.maven.org/remotecontent?filepath=org/apache/tika/tika-server/1.24/tika-server-1.24.jar.md5 to /var/folders/_m/fd0pgt2d59q_98kq7r467pv80000gn/T/tika-server.jar.md5.\n",
      "2022-10-29 16:10:29,738 [MainThread  ] [WARNI]  Failed to see startup log message; retrying...\n"
     ]
    }
   ],
   "source": [
    "raw = parser.from_file(\"ST2195-Programming-for-data-science.pdf\")"
   ]
  },
  {
   "cell_type": "code",
   "execution_count": 9,
   "id": "5a410d5f",
   "metadata": {},
   "outputs": [
    {
     "data": {
      "text/plain": [
       "{'metadata': {'Author': 'Bond1,S',\n",
       "  'Content-Type': 'application/pdf',\n",
       "  'Creation-Date': '2021-02-19T14:51:07Z',\n",
       "  'Last-Modified': '2022-06-24T11:32:56Z',\n",
       "  'Last-Save-Date': '2022-06-24T11:32:56Z',\n",
       "  'X-Parsed-By': ['org.apache.tika.parser.DefaultParser',\n",
       "   'org.apache.tika.parser.pdf.PDFParser'],\n",
       "  'X-TIKA:content_handler': 'ToTextContentHandler',\n",
       "  'X-TIKA:embedded_depth': '0',\n",
       "  'X-TIKA:parse_time_millis': '1991',\n",
       "  'access_permission:assemble_document': 'true',\n",
       "  'access_permission:can_modify': 'true',\n",
       "  'access_permission:can_print': 'true',\n",
       "  'access_permission:can_print_degraded': 'true',\n",
       "  'access_permission:extract_content': 'true',\n",
       "  'access_permission:extract_for_accessibility': 'true',\n",
       "  'access_permission:fill_in_form': 'true',\n",
       "  'access_permission:modify_annotations': 'true',\n",
       "  'created': '2021-02-19T14:51:07Z',\n",
       "  'creator': 'Bond1,S',\n",
       "  'date': '2022-06-24T11:32:56Z',\n",
       "  'dc:creator': 'Bond1,S',\n",
       "  'dc:format': 'application/pdf; version=1.7',\n",
       "  'dc:language': 'en-US',\n",
       "  'dc:title': 'AC1025 Principles of accounting',\n",
       "  'dcterms:created': '2021-02-19T14:51:07Z',\n",
       "  'dcterms:modified': '2022-06-24T11:32:56Z',\n",
       "  'language': 'en-US',\n",
       "  'meta:author': 'Bond1,S',\n",
       "  'meta:creation-date': '2021-02-19T14:51:07Z',\n",
       "  'meta:save-date': '2022-06-24T11:32:56Z',\n",
       "  'modified': '2022-06-24T11:32:56Z',\n",
       "  'pdf:PDFVersion': '1.7',\n",
       "  'pdf:charsPerPage': ['1694', '2727', '215'],\n",
       "  'pdf:docinfo:created': '2021-02-19T14:51:07Z',\n",
       "  'pdf:docinfo:creator': 'Bond1,S',\n",
       "  'pdf:docinfo:creator_tool': 'Microsoft Word',\n",
       "  'pdf:docinfo:modified': '2022-06-24T11:32:56Z',\n",
       "  'pdf:docinfo:title': 'AC1025 Principles of accounting',\n",
       "  'pdf:encrypted': 'false',\n",
       "  'pdf:hasMarkedContent': 'true',\n",
       "  'pdf:hasXFA': 'false',\n",
       "  'pdf:hasXMP': 'true',\n",
       "  'pdf:unmappedUnicodeCharsPerPage': ['0', '0', '0'],\n",
       "  'resourceName': \"b'ST2195-Programming-for-data-science.pdf'\",\n",
       "  'title': 'AC1025 Principles of accounting',\n",
       "  'xmp:CreatorTool': 'Microsoft Word',\n",
       "  'xmpMM:DocumentID': 'uuid:1980D261-3ED4-40CD-B9C6-B25497619B98',\n",
       "  'xmpTPg:NPages': '3'},\n",
       " 'content': '\\n\\n\\n\\n\\n\\n\\n\\n\\n\\n\\n\\n\\n\\n\\n\\n\\n\\n\\n\\n\\n\\n\\n\\n\\n\\n\\n\\n\\n\\n\\n\\n\\n\\n\\n\\n\\n\\n\\n\\n\\n\\n\\n\\n\\nAC1025 Principles of accounting\\n\\n\\nPlease consult the current EMFSS Programme Regulations for further information on the availability of a course, \\nwhere it can be placed on your programme’s structure, and other important details. \\n\\nTITLE Page 1 of 3 \\n\\nCourse information 2022-23\\nST2195 Programming for Data Science \\nGeneral information \\n\\nMODULE LEVEL: 5 \\n\\nCREDIT: 30 \\n\\nNOTIONAL STUDY TIME: 300 hours \\n\\nSummary \\n\\nIn the last decade the demand for programming skills related to managing and visualizing data has \\ngrown remarkably. Python, R and SQL feature consistently in the top skills listed in data science and \\ndata analyst jobs. Knowing how to write efficient software code to handle and visualise data is an \\nessential skill for any modern data scientist. This course will cover the main principles of computer \\nprogramming with a focus on data science applications by following the entire pathway from raw \\ndata to databases, data wrangling and visualisation, machine learning frameworks up to software \\ndevelopment. \\n\\nConditions \\n\\nNone \\n\\nAims and objectives \\n\\n• Gain knowledge on the main principles of programming in the Data science context\\n\\n• Develop ability to handle and visualise data\\n\\n• Apply computational thinking in various applications domains\\n\\n• Provide training in state-of-the-art tools, e.g. SQL, Python, R and Git\\n\\n• Communicate the data analysis results to stakeholders and share work with people in the Data\\nScience industry\\n\\nLearning outcomes \\n\\nAt the end of the course and having completed the essential reading and activities students should \\nbe able to: \\n\\n• Convert raw data to relational databases such as SQL\\n\\n• Import data to Python and R, apply data manipulation and visualisation\\n\\n• Program in Python and R\\n\\n• Develop software using version control via Git\\n\\n\\n\\nPlease consult the current EMFSS Programme Regulations for further information on the availability of a course, \\nwhere it can be placed on your programme’s structure, and other important details. \\n\\nTITLE  Page 2 of 3 \\n\\nEssential reading \\n\\nMcKinney W. Python for Data Analysis, 2nd edition O’Reilly (2017)  \\n\\nGutagg J.V. Introduction to Computation and Programming using Python, MIT Press, 2nd  edition \\n(2017) \\n\\nWickham H. and Grolemund G.  R for Data Science, 1st edition O’Reilly (2017) \\n\\nWickham H. Advanced R., 1st edition Chapman & Hall (2015)  \\n\\nRammakrishnan R. and Gehrke J. Database Management Systems, 3rd edition, McGraw Hill (2002) \\n\\nAssessment \\n\\nThis course is assessed by an individual case study piece of coursework (50%) and a two-hour unseen \\nwritten examination (50%) preferably containing multiple choice questions. \\n\\nSyllabus \\n\\nFrom raw data to databases  \\n\\nReal examples of raw data, relational databases models, structured query languages (SQL), data \\nextraction, processing of various human-readable data formats (e.g. JSON, XML, CSV), importing to \\nPython and R, data types and data structures.  \\n\\nRelevant programming concepts, such as IDEs, control flow structures, variables, functions, loops, \\nerrors and exception handling, and data input-output operations.  \\n\\nKey steps of a data-analytic pipeline  \\n\\nStarting with formulation of a data science problem, going through manipulation and visualisation of \\ndata, and, finally, creating actionable insights.  \\n\\nData wrangling  \\n\\nData cleaning and transformation, representation of data using tabular data structures and their \\nmanipulation. Programming and handling data types in R and Python such as scalars, factors, \\nvectors, matrices, arrays, lists and data frames. Introduction to NumPy and Pandas in Python, and \\nthe data wrangling utilities in base R and the tidyverse collection of R packages.  \\n\\nData visualisation  \\n\\nMethods for explanatory data analysis, using various statistical plots such as histograms and \\nboxplots, data visualisation plots for time series data, multivariate data, dimensionality reduction \\nmethods for visualisation of high-dimensional data, graph data visualisation methods. Hands on \\nexperience with Python (matplotlib and seaborn) and R (base R graphics, ggplot2).  \\n\\nInteracting with machine learning frameworks  \\n\\nIntroduction to Machine Learning via standard frameworks in Python (SciPy, Scikit Learn) and R (glm \\nmethods, mlr, caret).  \\n\\nRelevant programming concepts such as modularisation and aspects of parallel computing.  \\n\\nData Analytics software development  \\n\\nUse of version control via git to share work and collaborate with others in the Data Science industry. \\nSoftware testing methods and test-driven development (using unit testing). Developing an R \\npackage. \\n\\n  \\n\\n\\n\\nPlease consult the current EMFSS Programme Regulations for further information on the availability of a course, \\nwhere it can be placed on your programme’s structure, and other important details. \\n\\nTITLE  Page 3 of 3 \\n\\n \\n\\n\\n\\tST2195 Programming for Data Science\\n\\tGeneral information\\n\\tMODULE LEVEL: 5\\n\\tCREDIT: 30\\n\\tNOTIONAL STUDY TIME: 300 hours\\n\\tSummary\\n\\tIn the last decade the demand for programming skills related to managing and visualizing data has grown remarkably. Python, R and SQL feature consistently in the top skills listed in data science and data analyst jobs. Knowing how to write efficient s...\\n\\tConditions\\n\\tNone\\n\\tAims and objectives\\n\\tLearning outcomes\\n\\tAt the end of the course and having completed the essential reading and activities students should be able to:\\n\\tEssential reading\\n\\tMcKinney W. Python for Data Analysis, 2nd edition O’Reilly (2017)\\n\\tGutagg J.V. Introduction to Computation and Programming using Python, MIT Press, 2nd  edition (2017)\\n\\tWickham H. and Grolemund G.  R for Data Science, 1st edition O’Reilly (2017)\\n\\tWickham H. Advanced R., 1st edition Chapman & Hall (2015)\\n\\tRammakrishnan R. and Gehrke J. Database Management Systems, 3rd edition, McGraw Hill (2002)\\n\\tAssessment\\n\\tThis course is assessed by an individual case study piece of coursework (50%) and a two-hour unseen written examination (50%) preferably containing multiple choice questions.\\n\\tSyllabus\\n\\tFrom raw data to databases\\n\\tReal examples of raw data, relational databases models, structured query languages (SQL), data extraction, processing of various human-readable data formats (e.g. JSON, XML, CSV), importing to Python and R, data types and data structures.\\n\\tRelevant programming concepts, such as IDEs, control flow structures, variables, functions, loops, errors and exception handling, and data input-output operations.\\n\\tKey steps of a data-analytic pipeline\\n\\tStarting with formulation of a data science problem, going through manipulation and visualisation of data, and, finally, creating actionable insights.\\n\\tData wrangling\\n\\tData cleaning and transformation, representation of data using tabular data structures and their manipulation. Programming and handling data types in R and Python such as scalars, factors, vectors, matrices, arrays, lists and data frames. Introduction...\\n\\tData visualisation\\n\\tMethods for explanatory data analysis, using various statistical plots such as histograms and boxplots, data visualisation plots for time series data, multivariate data, dimensionality reduction methods for visualisation of high-dimensional data, grap...\\n\\tInteracting with machine learning frameworks\\n\\tIntroduction to Machine Learning via standard frameworks in Python (SciPy, Scikit Learn) and R (glm methods, mlr, caret).\\n\\tRelevant programming concepts such as modularisation and aspects of parallel computing.\\n\\tData Analytics software development\\n\\tUse of version control via git to share work and collaborate with others in the Data Science industry. Software testing methods and test-driven development (using unit testing). Developing an R package.\\n\\tEssential reading\\n\\tMcKinney W. Python for Data Analysis, 2nd edition O’Reilly (2017)\\n\\tGutagg J.V. Introduction to Computation and Programming using Python, MIT Press, 2nd  edition (2017)\\n\\tWickham H. and Grolemund G.  R for Data Science, 1st edition O’Reilly (2017)\\n\\tWickham H. Advanced R., 1st edition Chapman & Hall (2015)\\n\\tRammakrishnan R. and Gehrke J. Database Management Systems, 3rd edition, McGraw Hill (2002)\\n\\tAssessment\\n\\tThis course is assessed by an individual case study piece of coursework (50%) and a two-hour unseen written examination (50%) preferably containing multiple choice questions.\\n\\tSyllabus\\n\\tFrom raw data to databases\\n\\tReal examples of raw data, relational databases models, structured query languages (SQL), data extraction, processing of various human-readable data formats (e.g. JSON, XML, CSV), importing to Python and R, data types and data structures.\\n\\tRelevant programming concepts, such as IDEs, control flow structures, variables, functions, loops, errors and exception handling, and data input-output operations.\\n\\tKey steps of a data-analytic pipeline\\n\\tStarting with formulation of a data science problem, going through manipulation and visualisation of data, and, finally, creating actionable insights.\\n\\tData wrangling\\n\\tData cleaning and transformation, representation of data using tabular data structures and their manipulation. Programming and handling data types in R and Python such as scalars, factors, vectors, matrices, arrays, lists and data frames. Introduction...\\n\\tData visualisation\\n\\tMethods for explanatory data analysis, using various statistical plots such as histograms and boxplots, data visualisation plots for time series data, multivariate data, dimensionality reduction methods for visualisation of high-dimensional data, grap...\\n\\tInteracting with machine learning frameworks\\n\\tIntroduction to Machine Learning via standard frameworks in Python (SciPy, Scikit Learn) and R (glm methods, mlr, caret).\\n\\tRelevant programming concepts such as modularisation and aspects of parallel computing.\\n\\tData Analytics software development\\n\\tUse of version control via git to share work and collaborate with others in the Data Science industry. Software testing methods and test-driven development (using unit testing). Developing an R package.\\n\\n',\n",
       " 'status': 200}"
      ]
     },
     "execution_count": 9,
     "metadata": {},
     "output_type": "execute_result"
    }
   ],
   "source": [
    "raw"
   ]
  },
  {
   "cell_type": "code",
   "execution_count": 8,
   "id": "8036cc5d",
   "metadata": {},
   "outputs": [
    {
     "data": {
      "text/plain": [
       "['AC1025 Principles of accounting',\n",
       " '',\n",
       " '',\n",
       " 'Please consult the current EMFSS Programme Regulations for further information on the availability of a course, ',\n",
       " 'where it can be placed on your programme’s structure, and other important details. ',\n",
       " '',\n",
       " 'TITLE Page 1 of 3 ',\n",
       " '',\n",
       " 'Course information 2022-23',\n",
       " 'ST2195 Programming for Data Science ',\n",
       " 'General information ',\n",
       " '',\n",
       " 'MODULE LEVEL: 5 ',\n",
       " '',\n",
       " 'CREDIT: 30 ',\n",
       " '',\n",
       " 'NOTIONAL STUDY TIME: 300 hours ',\n",
       " '',\n",
       " 'Summary ',\n",
       " '',\n",
       " 'In the last decade the demand for programming skills related to managing and visualizing data has ',\n",
       " 'grown remarkably. Python, R and SQL feature consistently in the top skills listed in data science and ',\n",
       " 'data analyst jobs. Knowing how to write efficient software code to handle and visualise data is an ',\n",
       " 'essential skill for any modern data scientist. This course will cover the main principles of computer ',\n",
       " 'programming with a focus on data science applications by following the entire pathway from raw ',\n",
       " 'data to databases, data wrangling and visualisation, machine learning frameworks up to software ',\n",
       " 'development. ',\n",
       " '',\n",
       " 'Conditions ',\n",
       " '',\n",
       " 'None ',\n",
       " '',\n",
       " 'Aims and objectives ',\n",
       " '',\n",
       " '• Gain knowledge on the main principles of programming in the Data science context',\n",
       " '',\n",
       " '• Develop ability to handle and visualise data',\n",
       " '',\n",
       " '• Apply computational thinking in various applications domains',\n",
       " '',\n",
       " '• Provide training in state-of-the-art tools, e.g. SQL, Python, R and Git',\n",
       " '',\n",
       " '• Communicate the data analysis results to stakeholders and share work with people in the Data',\n",
       " 'Science industry',\n",
       " '',\n",
       " 'Learning outcomes ',\n",
       " '',\n",
       " 'At the end of the course and having completed the essential reading and activities students should ',\n",
       " 'be able to: ',\n",
       " '',\n",
       " '• Convert raw data to relational databases such as SQL',\n",
       " '',\n",
       " '• Import data to Python and R, apply data manipulation and visualisation',\n",
       " '',\n",
       " '• Program in Python and R',\n",
       " '',\n",
       " '• Develop software using version control via Git',\n",
       " '',\n",
       " '',\n",
       " '',\n",
       " 'Please consult the current EMFSS Programme Regulations for further information on the availability of a course, ',\n",
       " 'where it can be placed on your programme’s structure, and other important details. ',\n",
       " '',\n",
       " 'TITLE  Page 2 of 3 ',\n",
       " '',\n",
       " 'Essential reading ',\n",
       " '',\n",
       " 'McKinney W. Python for Data Analysis, 2nd edition O’Reilly (2017)  ',\n",
       " '',\n",
       " 'Gutagg J.V. Introduction to Computation and Programming using Python, MIT Press, 2nd  edition ',\n",
       " '(2017) ',\n",
       " '',\n",
       " 'Wickham H. and Grolemund G.  R for Data Science, 1st edition O’Reilly (2017) ',\n",
       " '',\n",
       " 'Wickham H. Advanced R., 1st edition Chapman & Hall (2015)  ',\n",
       " '',\n",
       " 'Rammakrishnan R. and Gehrke J. Database Management Systems, 3rd edition, McGraw Hill (2002) ',\n",
       " '',\n",
       " 'Assessment ',\n",
       " '',\n",
       " 'This course is assessed by an individual case study piece of coursework (50%) and a two-hour unseen ',\n",
       " 'written examination (50%) preferably containing multiple choice questions. ',\n",
       " '',\n",
       " 'Syllabus ',\n",
       " '',\n",
       " 'From raw data to databases  ',\n",
       " '',\n",
       " 'Real examples of raw data, relational databases models, structured query languages (SQL), data ',\n",
       " 'extraction, processing of various human-readable data formats (e.g. JSON, XML, CSV), importing to ',\n",
       " 'Python and R, data types and data structures.  ',\n",
       " '',\n",
       " 'Relevant programming concepts, such as IDEs, control flow structures, variables, functions, loops, ',\n",
       " 'errors and exception handling, and data input-output operations.  ',\n",
       " '',\n",
       " 'Key steps of a data-analytic pipeline  ',\n",
       " '',\n",
       " 'Starting with formulation of a data science problem, going through manipulation and visualisation of ',\n",
       " 'data, and, finally, creating actionable insights.  ',\n",
       " '',\n",
       " 'Data wrangling  ',\n",
       " '',\n",
       " 'Data cleaning and transformation, representation of data using tabular data structures and their ',\n",
       " 'manipulation. Programming and handling data types in R and Python such as scalars, factors, ',\n",
       " 'vectors, matrices, arrays, lists and data frames. Introduction to NumPy and Pandas in Python, and ',\n",
       " 'the data wrangling utilities in base R and the tidyverse collection of R packages.  ',\n",
       " '',\n",
       " 'Data visualisation  ',\n",
       " '',\n",
       " 'Methods for explanatory data analysis, using various statistical plots such as histograms and ',\n",
       " 'boxplots, data visualisation plots for time series data, multivariate data, dimensionality reduction ',\n",
       " 'methods for visualisation of high-dimensional data, graph data visualisation methods. Hands on ',\n",
       " 'experience with Python (matplotlib and seaborn) and R (base R graphics, ggplot2).  ',\n",
       " '',\n",
       " 'Interacting with machine learning frameworks  ',\n",
       " '',\n",
       " 'Introduction to Machine Learning via standard frameworks in Python (SciPy, Scikit Learn) and R (glm ',\n",
       " 'methods, mlr, caret).  ',\n",
       " '',\n",
       " 'Relevant programming concepts such as modularisation and aspects of parallel computing.  ',\n",
       " '',\n",
       " 'Data Analytics software development  ',\n",
       " '',\n",
       " 'Use of version control via git to share work and collaborate with others in the Data Science industry. ',\n",
       " 'Software testing methods and test-driven development (using unit testing). Developing an R ',\n",
       " 'package. ',\n",
       " '',\n",
       " '  ',\n",
       " '',\n",
       " '',\n",
       " '',\n",
       " 'Please consult the current EMFSS Programme Regulations for further information on the availability of a course, ',\n",
       " 'where it can be placed on your programme’s structure, and other important details. ',\n",
       " '',\n",
       " 'TITLE  Page 3 of 3 ',\n",
       " '',\n",
       " ' ',\n",
       " '',\n",
       " '',\n",
       " '\\tST2195 Programming for Data Science',\n",
       " '\\tGeneral information',\n",
       " '\\tMODULE LEVEL: 5',\n",
       " '\\tCREDIT: 30',\n",
       " '\\tNOTIONAL STUDY TIME: 300 hours',\n",
       " '\\tSummary',\n",
       " '\\tIn the last decade the demand for programming skills related to managing and visualizing data has grown remarkably. Python, R and SQL feature consistently in the top skills listed in data science and data analyst jobs. Knowing how to write efficient s...',\n",
       " '\\tConditions',\n",
       " '\\tNone',\n",
       " '\\tAims and objectives',\n",
       " '\\tLearning outcomes',\n",
       " '\\tAt the end of the course and having completed the essential reading and activities students should be able to:',\n",
       " '\\tEssential reading',\n",
       " '\\tMcKinney W. Python for Data Analysis, 2nd edition O’Reilly (2017)',\n",
       " '\\tGutagg J.V. Introduction to Computation and Programming using Python, MIT Press, 2nd  edition (2017)',\n",
       " '\\tWickham H. and Grolemund G.  R for Data Science, 1st edition O’Reilly (2017)',\n",
       " '\\tWickham H. Advanced R., 1st edition Chapman & Hall (2015)',\n",
       " '\\tRammakrishnan R. and Gehrke J. Database Management Systems, 3rd edition, McGraw Hill (2002)',\n",
       " '\\tAssessment',\n",
       " '\\tThis course is assessed by an individual case study piece of coursework (50%) and a two-hour unseen written examination (50%) preferably containing multiple choice questions.',\n",
       " '\\tSyllabus',\n",
       " '\\tFrom raw data to databases',\n",
       " '\\tReal examples of raw data, relational databases models, structured query languages (SQL), data extraction, processing of various human-readable data formats (e.g. JSON, XML, CSV), importing to Python and R, data types and data structures.',\n",
       " '\\tRelevant programming concepts, such as IDEs, control flow structures, variables, functions, loops, errors and exception handling, and data input-output operations.',\n",
       " '\\tKey steps of a data-analytic pipeline',\n",
       " '\\tStarting with formulation of a data science problem, going through manipulation and visualisation of data, and, finally, creating actionable insights.',\n",
       " '\\tData wrangling',\n",
       " '\\tData cleaning and transformation, representation of data using tabular data structures and their manipulation. Programming and handling data types in R and Python such as scalars, factors, vectors, matrices, arrays, lists and data frames. Introduction...',\n",
       " '\\tData visualisation',\n",
       " '\\tMethods for explanatory data analysis, using various statistical plots such as histograms and boxplots, data visualisation plots for time series data, multivariate data, dimensionality reduction methods for visualisation of high-dimensional data, grap...',\n",
       " '\\tInteracting with machine learning frameworks',\n",
       " '\\tIntroduction to Machine Learning via standard frameworks in Python (SciPy, Scikit Learn) and R (glm methods, mlr, caret).',\n",
       " '\\tRelevant programming concepts such as modularisation and aspects of parallel computing.',\n",
       " '\\tData Analytics software development',\n",
       " '\\tUse of version control via git to share work and collaborate with others in the Data Science industry. Software testing methods and test-driven development (using unit testing). Developing an R package.',\n",
       " '\\tEssential reading',\n",
       " '\\tMcKinney W. Python for Data Analysis, 2nd edition O’Reilly (2017)',\n",
       " '\\tGutagg J.V. Introduction to Computation and Programming using Python, MIT Press, 2nd  edition (2017)',\n",
       " '\\tWickham H. and Grolemund G.  R for Data Science, 1st edition O’Reilly (2017)',\n",
       " '\\tWickham H. Advanced R., 1st edition Chapman & Hall (2015)',\n",
       " '\\tRammakrishnan R. and Gehrke J. Database Management Systems, 3rd edition, McGraw Hill (2002)',\n",
       " '\\tAssessment',\n",
       " '\\tThis course is assessed by an individual case study piece of coursework (50%) and a two-hour unseen written examination (50%) preferably containing multiple choice questions.',\n",
       " '\\tSyllabus',\n",
       " '\\tFrom raw data to databases',\n",
       " '\\tReal examples of raw data, relational databases models, structured query languages (SQL), data extraction, processing of various human-readable data formats (e.g. JSON, XML, CSV), importing to Python and R, data types and data structures.',\n",
       " '\\tRelevant programming concepts, such as IDEs, control flow structures, variables, functions, loops, errors and exception handling, and data input-output operations.',\n",
       " '\\tKey steps of a data-analytic pipeline',\n",
       " '\\tStarting with formulation of a data science problem, going through manipulation and visualisation of data, and, finally, creating actionable insights.',\n",
       " '\\tData wrangling',\n",
       " '\\tData cleaning and transformation, representation of data using tabular data structures and their manipulation. Programming and handling data types in R and Python such as scalars, factors, vectors, matrices, arrays, lists and data frames. Introduction...',\n",
       " '\\tData visualisation',\n",
       " '\\tMethods for explanatory data analysis, using various statistical plots such as histograms and boxplots, data visualisation plots for time series data, multivariate data, dimensionality reduction methods for visualisation of high-dimensional data, grap...',\n",
       " '\\tInteracting with machine learning frameworks',\n",
       " '\\tIntroduction to Machine Learning via standard frameworks in Python (SciPy, Scikit Learn) and R (glm methods, mlr, caret).',\n",
       " '\\tRelevant programming concepts such as modularisation and aspects of parallel computing.',\n",
       " '\\tData Analytics software development',\n",
       " '\\tUse of version control via git to share work and collaborate with others in the Data Science industry. Software testing methods and test-driven development (using unit testing). Developing an R package.']"
      ]
     },
     "execution_count": 8,
     "metadata": {},
     "output_type": "execute_result"
    }
   ],
   "source": [
    "raw['content'].strip().split('\\n')"
   ]
  },
  {
   "cell_type": "code",
   "execution_count": 35,
   "id": "4ec32e17",
   "metadata": {},
   "outputs": [
    {
     "name": "stdout",
     "output_type": "stream",
     "text": [
      "3411\n"
     ]
    }
   ],
   "source": [
    "c = 0\n",
    "N = 10**5\n",
    "for i in range(N):\n",
    "    if \"55\" in str(i) and \"555\" not in str(i):\n",
    "        c += 1\n",
    "print(c)"
   ]
  },
  {
   "cell_type": "code",
   "execution_count": 28,
   "id": "ecc618a8",
   "metadata": {},
   "outputs": [
    {
     "data": {
      "text/plain": [
       "True"
      ]
     },
     "execution_count": 28,
     "metadata": {},
     "output_type": "execute_result"
    }
   ],
   "source": [
    "\"555\" in str(105550)"
   ]
  },
  {
   "cell_type": "code",
   "execution_count": 5,
   "id": "309047d4",
   "metadata": {},
   "outputs": [
    {
     "name": "stdout",
     "output_type": "stream",
     "text": [
      "twothree\n",
      "fourfive!"
     ]
    }
   ],
   "source": [
    "print('two' + \"three\")\n",
    "print('four' + \"five\", end=\"!\")"
   ]
  },
  {
   "cell_type": "code",
   "execution_count": 1,
   "id": "a7486178",
   "metadata": {},
   "outputs": [
    {
     "name": "stdout",
     "output_type": "stream",
     "text": [
      "<string>:6: error: Unsupported operand types for + (\"None\" and \"int\")\n",
      "<string>:6: note: Left operand is of type \"Optional[int]\"\n",
      "Found 1 error in 1 file (checked 1 source file)\n",
      "\n"
     ]
    }
   ],
   "source": [
    "%%typecheck\n",
    "\n",
    "import typing as tp\n",
    "\n",
    "def foo(a: tp.Optional[int]) -> int:\n",
    "    return a + 1\n",
    "\n",
    "foo(10)"
   ]
  },
  {
   "cell_type": "code",
   "execution_count": 32,
   "id": "584c9666",
   "metadata": {},
   "outputs": [
    {
     "data": {
      "text/plain": [
       "bool"
      ]
     },
     "execution_count": 32,
     "metadata": {},
     "output_type": "execute_result"
    }
   ],
   "source": [
    "type(_ is not None)"
   ]
  },
  {
   "cell_type": "code",
   "execution_count": 34,
   "id": "96820cb3",
   "metadata": {},
   "outputs": [
    {
     "data": {
      "text/plain": [
       "{' ', '!', 'c', 'f', 'k', 'o', 'u'}"
      ]
     },
     "execution_count": 34,
     "metadata": {},
     "output_type": "execute_result"
    }
   ],
   "source": [
    "set(\"fuck off!\")"
   ]
  },
  {
   "cell_type": "code",
   "execution_count": 38,
   "id": "53e73208",
   "metadata": {},
   "outputs": [
    {
     "data": {
      "text/plain": [
       "'zyxwvutsrqponmlkjihgfedcba'"
      ]
     },
     "execution_count": 38,
     "metadata": {},
     "output_type": "execute_result"
    }
   ],
   "source": [
    "import string\n",
    "string.ascii_lowercase\n",
    "string.ascii_lowercase[::-1]"
   ]
  },
  {
   "cell_type": "code",
   "execution_count": 58,
   "id": "f1bc911b",
   "metadata": {},
   "outputs": [
    {
     "name": "stdout",
     "output_type": "stream",
     "text": [
      "Enter your guess:28\n",
      "Enter your guess:9\n",
      "Enter your guess:23\n",
      "Enter your guess:66\n",
      "Enter your guess:0\n",
      "The secret number was 40\n"
     ]
    }
   ],
   "source": [
    "from datetime import datetime\n",
    "\n",
    "secret_number = 1 + datetime.now().microsecond % 100\n",
    "while True:\n",
    "    n = int(input(\"Enter your guess:\"))\n",
    "    if n == secret_number:\n",
    "        print(\"You win!\")\n",
    "        break\n",
    "    if n == 0:\n",
    "        print(\"The secret number was\", secret_number)\n",
    "        break"
   ]
  },
  {
   "cell_type": "code",
   "execution_count": 61,
   "id": "783f6370",
   "metadata": {},
   "outputs": [
    {
     "name": "stdout",
     "output_type": "stream",
     "text": [
      "0 (1, 'a'), 1 (2, 'b'), 2 (3, 'c'), 3 (4, 'd'), 4 (5, 'e'), \n",
      "0 (1, 'a'), 1 (2, 'b'), 2 (3, 'c'), 3 (4, 'd'), 4 (5, 'e'), "
     ]
    }
   ],
   "source": [
    "data = [1, 2, 3, 4, 5]\n",
    "letters = ['a', 'b', 'c', 'd', 'e']\n",
    "\n",
    "# newbie\n",
    "for i in range(len(data)):\n",
    "    print(i, (data[i], letters[i]), end=', ')\n",
    "\n",
    "print()\n",
    "    \n",
    "# expert\n",
    "for i, value in enumerate(zip(data, letters)):\n",
    "    print(i, value, end=', ')"
   ]
  },
  {
   "cell_type": "code",
   "execution_count": 63,
   "id": "32919831",
   "metadata": {},
   "outputs": [
    {
     "data": {
      "text/plain": [
       "[90, 7, 6, 5, 3]"
      ]
     },
     "execution_count": 63,
     "metadata": {},
     "output_type": "execute_result"
    }
   ],
   "source": [
    "sorted([5, 6, 7, 3 ,90], reverse=True)"
   ]
  },
  {
   "cell_type": "code",
   "execution_count": 81,
   "id": "9d2c3e5e",
   "metadata": {},
   "outputs": [
    {
     "data": {
      "text/plain": [
       "110"
      ]
     },
     "execution_count": 81,
     "metadata": {},
     "output_type": "execute_result"
    }
   ],
   "source": [
    "def gcd(a, b):\n",
    "    while a > 0:\n",
    "        if a > b:\n",
    "            a, b = b, a\n",
    "        a, b = b % a, a\n",
    "    return b\n",
    "\n",
    "gcd(10010, 1100)"
   ]
  },
  {
   "cell_type": "code",
   "execution_count": 82,
   "id": "e9bd5ed0",
   "metadata": {},
   "outputs": [
    {
     "data": {
      "text/plain": [
       "[-3, -1, 0.15, 2.5, 5, 7.34]"
      ]
     },
     "execution_count": 82,
     "metadata": {},
     "output_type": "execute_result"
    }
   ],
   "source": [
    "lst = [-1, 5, 7.34, 0.15, 2.5, -3]\n",
    "sorted(lst)"
   ]
  },
  {
   "cell_type": "code",
   "execution_count": 83,
   "id": "4c84e6be",
   "metadata": {},
   "outputs": [
    {
     "data": {
      "text/plain": [
       "[-1, 5, 7.34, 0.15, 2.5, -3]"
      ]
     },
     "execution_count": 83,
     "metadata": {},
     "output_type": "execute_result"
    }
   ],
   "source": [
    "lst"
   ]
  },
  {
   "cell_type": "code",
   "execution_count": 84,
   "id": "2405925b",
   "metadata": {},
   "outputs": [
    {
     "data": {
      "text/plain": [
       "[7.34, 5, 2.5, 0.15, -1, -3]"
      ]
     },
     "execution_count": 84,
     "metadata": {},
     "output_type": "execute_result"
    }
   ],
   "source": [
    "sorted(lst, reverse=True)"
   ]
  },
  {
   "cell_type": "code",
   "execution_count": 85,
   "id": "66d06896",
   "metadata": {},
   "outputs": [],
   "source": [
    "def get_middle_value(a: int, b: int, c: int) -> int:\n",
    "    \"\"\"\n",
    "    Takes three values and returns middle value.\n",
    "    \"\"\"\n",
    "    if (b - a) * (c - a) <= 0:\n",
    "        return a\n",
    "    if (a - b) * (c - b) <= 0:\n",
    "        return b\n",
    "    return c"
   ]
  },
  {
   "cell_type": "code",
   "execution_count": null,
   "id": "0c925b3d",
   "metadata": {},
   "outputs": [],
   "source": [
    "def merge_iterative(lst_a: list[int], lst_b: list[int]) -> list[int]:\n",
    "    \"\"\"\n",
    "    Merge two sorted lists in one sorted list\n",
    "    :param lst_a: first sorted list\n",
    "    :param lst_b: second sorted list\n",
    "    :return: merged sorted list\n",
    "    \"\"\"\n",
    "    # YOUR CODE HERE\n",
    "    result = list()\n",
    "    n_a, n_b = 0, 0\n",
    "    while n_a < len(lst_a) and n_b < len(lst_b):\n",
    "        if lst_a[n_a] <= lst_b[n_b]:\n",
    "            result.append(lst_a[n_a])\n",
    "            n_a += 1\n",
    "        else:\n",
    "            result.append(lst_b[n_b])\n",
    "            n_b += 1\n",
    "    if n_a == len(lst_a):\n",
    "        while n_b < len(lst_b):\n",
    "            result.append(lst_b[n_b])\n",
    "            n_b += 1\n",
    "    else:\n",
    "        while n_a < len(lst_a):\n",
    "            result.append(lst_a[n_a])\n",
    "            n_a += 1\n",
    "    return result"
   ]
  },
  {
   "cell_type": "code",
   "execution_count": 86,
   "id": "a8079464",
   "metadata": {},
   "outputs": [],
   "source": [
    "def find_value(l: list[int], v: int):\n",
    "    \"\"\"\n",
    "        Returns True iff the value v is present in the sorted list l.\n",
    "    \"\"\"\n",
    "    if len(l) == 0:\n",
    "        return False\n",
    "    if len(l) == 1:\n",
    "        return l[0] == v\n",
    "    middle = len(l) // 2\n",
    "    if v < l[middle]:\n",
    "        return find_value(l[:middle], v)\n",
    "    else:\n",
    "        return find_value(l[middle:], v)"
   ]
  },
  {
   "cell_type": "code",
   "execution_count": 87,
   "id": "e08bc6e6",
   "metadata": {},
   "outputs": [],
   "source": [
    "def get_squares(elements: list[int]) -> list[int]:\n",
    "    \"\"\"\n",
    "    :param elements: list with integer values\n",
    "    :return: list with squared values\n",
    "    \"\"\"\n",
    "    return [i**2 for i in elements]\n",
    "\n",
    "\n",
    "# ====================================================================================================\n",
    "\n",
    "\n",
    "def get_indices_from_one(elements: list[int]) -> list[int]:\n",
    "    \"\"\"\n",
    "    :param elements: list with integer values\n",
    "    :return: list with indices started from 1\n",
    "    \"\"\"\n",
    "    return list(range(1, len(elements)+1))\n",
    "\n",
    "# ====================================================================================================\n",
    "\n",
    "\n",
    "def get_max_element_index(elements: list[int]) -> int | None:\n",
    "    \"\"\"\n",
    "    :param elements: list with integer values\n",
    "    :return: index of maximum element if exists, None otherwise\n",
    "    \"\"\"\n",
    "    result = None\n",
    "    max_element = None\n",
    "    for i, element in enumerate(elements):\n",
    "        if result is None or max_element < element:\n",
    "            result, max_element = i, element\n",
    "    return result\n",
    "\n",
    "# ====================================================================================================\n",
    "\n",
    "\n",
    "def get_every_second_element(elements: list[int]) -> list[int]:\n",
    "    \"\"\"\n",
    "    :param elements: list with integer values\n",
    "    :return: list with each second element of list\n",
    "    \"\"\"\n",
    "    return elements[1::2]\n",
    "\n",
    "# ====================================================================================================\n",
    "\n",
    "\n",
    "def get_first_three_index(elements: list[int]) -> int | None:\n",
    "    \"\"\"\n",
    "    :param elements: list with integer values\n",
    "    :return: index of first \"3\" in the list if exists, None otherwise\n",
    "    \"\"\"\n",
    "    for i, element in enumerate(elements):\n",
    "        if element == 3:\n",
    "            return i\n",
    "    return None\n",
    "\n",
    "# ====================================================================================================\n",
    "\n",
    "\n",
    "def get_last_three_index(elements: list[int]) -> int | None:\n",
    "    \"\"\"\n",
    "    :param elements: list with integer values\n",
    "    :return: index of last \"3\" in the list if exists, None otherwise\n",
    "    \"\"\"\n",
    "    for i in range(len(elements)-1, -1, -1):\n",
    "        if elements[i] == 3:\n",
    "            return i\n",
    "    return None\n",
    "\n",
    "# ====================================================================================================\n",
    "\n",
    "\n",
    "def get_sum(elements: list[int]) -> int:\n",
    "    \"\"\"\n",
    "    :param elements: list with integer values\n",
    "    :return: sum of elements\n",
    "    \"\"\"\n",
    "    return sum(elements)\n",
    "\n",
    "# ====================================================================================================\n",
    "\n",
    "\n",
    "def get_min_max(elements: list[int], default: int | None) -> tuple[int | None, int | None]:\n",
    "    \"\"\"\n",
    "    :param elements: list with integer values\n",
    "    :param default: default value to return if elements are empty\n",
    "    :return: (min, max) of list elements or (default, default) if elements are empty\n",
    "    \"\"\"\n",
    "    if len(elements) == 0:\n",
    "        return default, default\n",
    "    return min(elements), max(elements)\n",
    "\n",
    "# ====================================================================================================\n",
    "\n",
    "\n",
    "def get_by_index(elements: list[int], i: int, boundary: int) -> int | None:\n",
    "    \"\"\"\n",
    "    :param elements: list with integer values\n",
    "    :param i: index of elements to check with boundary\n",
    "    :param boundary: boundary for check element value\n",
    "    :return: element at index `i` from `elements` if element greater then boundary and None otherwise\n",
    "    \"\"\"\n",
    "    if elements[i] > boundary:\n",
    "        return elements[i]\n",
    "    return None"
   ]
  }
 ],
 "metadata": {
  "kernelspec": {
   "display_name": "Python 3 (ipykernel)",
   "language": "python",
   "name": "python3"
  },
  "language_info": {
   "codemirror_mode": {
    "name": "ipython",
    "version": 3
   },
   "file_extension": ".py",
   "mimetype": "text/x-python",
   "name": "python",
   "nbconvert_exporter": "python",
   "pygments_lexer": "ipython3",
   "version": "3.10.5"
  }
 },
 "nbformat": 4,
 "nbformat_minor": 5
}
