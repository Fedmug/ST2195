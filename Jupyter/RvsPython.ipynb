{
 "cells": [
  {
   "cell_type": "markdown",
   "id": "94b06543",
   "metadata": {},
   "source": [
    "Assignment operator: binding a value to a variable"
   ]
  },
  {
   "cell_type": "code",
   "execution_count": 58,
   "id": "143a4aef",
   "metadata": {},
   "outputs": [
    {
     "name": "stdout",
     "output_type": "stream",
     "text": [
      "[1] 8.0000000729\n",
      "[1] 42\n",
      "[1] 1.123\n"
     ]
    }
   ],
   "source": [
    "a <- 987654321/123456789\n",
    "42 -> b\n",
    "c = 1.123\n",
    "print(a, 15)\n",
    "print(b)\n",
    "print(c)"
   ]
  },
  {
   "cell_type": "markdown",
   "id": "b91ace0f",
   "metadata": {},
   "source": [
    "Create range of elements:"
   ]
  },
  {
   "cell_type": "code",
   "execution_count": 59,
   "id": "e8f7b995",
   "metadata": {},
   "outputs": [
    {
     "name": "stdout",
     "output_type": "stream",
     "text": [
      "[1] 1 2 3 4 5\n"
     ]
    }
   ],
   "source": [
    "from1to5 = 1:5\n",
    "print(1:5)"
   ]
  },
  {
   "cell_type": "markdown",
   "id": "896a89c5",
   "metadata": {},
   "source": [
    "`typeof()` shows the underlying type:"
   ]
  },
  {
   "cell_type": "code",
   "execution_count": 60,
   "id": "42255db3",
   "metadata": {},
   "outputs": [
    {
     "data": {
      "text/html": [
       "'integer'"
      ],
      "text/latex": [
       "'integer'"
      ],
      "text/markdown": [
       "'integer'"
      ],
      "text/plain": [
       "[1] \"integer\""
      ]
     },
     "metadata": {},
     "output_type": "display_data"
    }
   ],
   "source": [
    "typeof(from1to5)"
   ]
  },
  {
   "cell_type": "markdown",
   "id": "6dd54e32",
   "metadata": {},
   "source": [
    "`str()` compactly display the internal **str**ucture of an R object:"
   ]
  },
  {
   "cell_type": "code",
   "execution_count": 61,
   "id": "8a23cab2",
   "metadata": {},
   "outputs": [
    {
     "name": "stdout",
     "output_type": "stream",
     "text": [
      " int [1:5] 1 2 3 4 5\n"
     ]
    }
   ],
   "source": [
    "str(from1to5)"
   ]
  },
  {
   "cell_type": "markdown",
   "id": "0c59e46e",
   "metadata": {},
   "source": [
    "Indexing starts from 1!"
   ]
  },
  {
   "cell_type": "code",
   "execution_count": 64,
   "id": "d5eae151",
   "metadata": {},
   "outputs": [
    {
     "data": {
      "text/html": [
       "1"
      ],
      "text/latex": [
       "1"
      ],
      "text/markdown": [
       "1"
      ],
      "text/plain": [
       "[1] 1"
      ]
     },
     "metadata": {},
     "output_type": "display_data"
    }
   ],
   "source": [
    "from1to5[1]"
   ]
  },
  {
   "cell_type": "markdown",
   "id": "5a58b723",
   "metadata": {},
   "source": [
    "Importing packages:"
   ]
  },
  {
   "cell_type": "code",
   "execution_count": 65,
   "id": "d2c07a58",
   "metadata": {},
   "outputs": [
    {
     "name": "stdout",
     "output_type": "stream",
     "text": [
      "\n",
      "  В наличии есть бинарная версия, но исходники новее:\n",
      "   binary source needs_compilation\n",
      "tm  0.7-8 0.7-10              TRUE\n",
      "\n"
     ]
    },
    {
     "name": "stderr",
     "output_type": "stream",
     "text": [
      "устанавливаю пакет ‘tm’ из исходников\n",
      "\n",
      "\n"
     ]
    }
   ],
   "source": [
    "install.packages(\"tm\")"
   ]
  },
  {
   "cell_type": "code",
   "execution_count": 66,
   "id": "5e7d902e",
   "metadata": {},
   "outputs": [],
   "source": [
    "library(tm)"
   ]
  },
  {
   "cell_type": "markdown",
   "id": "122afa2e",
   "metadata": {},
   "source": [
    "From unstructured data to document-term matrix:"
   ]
  },
  {
   "cell_type": "code",
   "execution_count": 67,
   "id": "315a4d85",
   "metadata": {},
   "outputs": [
    {
     "data": {
      "text/html": [
       "<table class=\"dataframe\">\n",
       "<caption>A matrix: 4 × 5 of type dbl</caption>\n",
       "<thead>\n",
       "\t<tr><th></th><th scope=col>and</th><th scope=col>hate</th><th scope=col>love</th><th scope=col>programming</th><th scope=col>python</th></tr>\n",
       "</thead>\n",
       "<tbody>\n",
       "\t<tr><th scope=row>1</th><td>1</td><td>1</td><td>1</td><td>2</td><td>1</td></tr>\n",
       "\t<tr><th scope=row>2</th><td>1</td><td>1</td><td>1</td><td>2</td><td>1</td></tr>\n",
       "\t<tr><th scope=row>3</th><td>1</td><td>0</td><td>1</td><td>1</td><td>1</td></tr>\n",
       "\t<tr><th scope=row>4</th><td>0</td><td>1</td><td>0</td><td>1</td><td>0</td></tr>\n",
       "</tbody>\n",
       "</table>\n"
      ],
      "text/latex": [
       "A matrix: 4 × 5 of type dbl\n",
       "\\begin{tabular}{r|lllll}\n",
       "  & and & hate & love & programming & python\\\\\n",
       "\\hline\n",
       "\t1 & 1 & 1 & 1 & 2 & 1\\\\\n",
       "\t2 & 1 & 1 & 1 & 2 & 1\\\\\n",
       "\t3 & 1 & 0 & 1 & 1 & 1\\\\\n",
       "\t4 & 0 & 1 & 0 & 1 & 0\\\\\n",
       "\\end{tabular}\n"
      ],
      "text/markdown": [
       "\n",
       "A matrix: 4 × 5 of type dbl\n",
       "\n",
       "| <!--/--> | and | hate | love | programming | python |\n",
       "|---|---|---|---|---|---|\n",
       "| 1 | 1 | 1 | 1 | 2 | 1 |\n",
       "| 2 | 1 | 1 | 1 | 2 | 1 |\n",
       "| 3 | 1 | 0 | 1 | 1 | 1 |\n",
       "| 4 | 0 | 1 | 0 | 1 | 0 |\n",
       "\n"
      ],
      "text/plain": [
       "    Terms\n",
       "Docs and hate love programming python\n",
       "   1 1   1    1    2           1     \n",
       "   2 1   1    1    2           1     \n",
       "   3 1   0    1    1           1     \n",
       "   4 0   1    0    1           0     "
      ]
     },
     "metadata": {},
     "output_type": "display_data"
    }
   ],
   "source": [
    "doc1 <- \"I love programming in R and hate programming in Python\" \n",
    "doc2 <- \"I love programming in Python and hate programming in R\" \n",
    "doc3 <- \"I love programming in Python and R\"\n",
    "doc4 <- \"I hate programming\"\n",
    "## Build a corpus and a document-term matrix\n",
    "corpus <- Corpus(VectorSource(c(doc1, doc2, doc3, doc4)))\n",
    "dt_mat <- DocumentTermMatrix(corpus)\n",
    "as.matrix(dt_mat)"
   ]
  },
  {
   "cell_type": "markdown",
   "id": "f3d3c343",
   "metadata": {},
   "source": [
    "Copy-on-modify allow you to avoid aliasing:"
   ]
  },
  {
   "cell_type": "code",
   "execution_count": 68,
   "id": "e45e12c1",
   "metadata": {},
   "outputs": [
    {
     "name": "stdout",
     "output_type": "stream",
     "text": [
      "[1] 1 2 3\n",
      "[1] 1 2 3\n"
     ]
    }
   ],
   "source": [
    "address = function(x) substring(capture.output(.Internal(inspect(x)))[1],2,17)\n",
    "x <- c(1, 2, 3)\n",
    "y <- x\n",
    "print(x)\n",
    "print(y)"
   ]
  },
  {
   "cell_type": "markdown",
   "id": "6ea22635",
   "metadata": {},
   "source": [
    "The variables `x` and `y` are bound to the same values since the addresses are the same:"
   ]
  },
  {
   "cell_type": "code",
   "execution_count": 69,
   "id": "872e5f0c",
   "metadata": {},
   "outputs": [
    {
     "name": "stdout",
     "output_type": "stream",
     "text": [
      "[1] \"7f98142dfd88 14 \"\n",
      "[1] \"7f98142dfd88 14 \"\n"
     ]
    }
   ],
   "source": [
    "print(address(x))\n",
    "print(address(y))"
   ]
  },
  {
   "cell_type": "markdown",
   "id": "7a013c6e",
   "metadata": {},
   "source": [
    "After the assignment to variable `y` the initial value of `x` did not changed:"
   ]
  },
  {
   "cell_type": "code",
   "execution_count": 70,
   "id": "f61d284b",
   "metadata": {},
   "outputs": [
    {
     "name": "stdout",
     "output_type": "stream",
     "text": [
      "[1] \"7f98142dfd88 14 \"\n",
      "[1] \"7f9815c66508 14 \"\n",
      "[1] 1 2 3\n",
      "[1] 42  2  3\n"
     ]
    }
   ],
   "source": [
    "y[1] = 42\n",
    "print(address(x))\n",
    "print(address(y))\n",
    "print(x)\n",
    "print(y)"
   ]
  },
  {
   "cell_type": "markdown",
   "id": "493de1b3",
   "metadata": {},
   "source": [
    "Note how functions are created in R:"
   ]
  },
  {
   "cell_type": "code",
   "execution_count": 71,
   "id": "031a92e6",
   "metadata": {},
   "outputs": [],
   "source": [
    "f <- function(a) {\n",
    "    a[1] <- -100\n",
    "    print(a)\n",
    "}"
   ]
  },
  {
   "cell_type": "markdown",
   "id": "3affb118",
   "metadata": {},
   "source": [
    "No aliasing here:"
   ]
  },
  {
   "cell_type": "code",
   "execution_count": 73,
   "id": "80d9523b",
   "metadata": {},
   "outputs": [
    {
     "name": "stdout",
     "output_type": "stream",
     "text": [
      "[1] -100    2    3\n",
      "[1] 1 2 3\n"
     ]
    }
   ],
   "source": [
    "x <- c(1, 2, 3)\n",
    "f(x)\n",
    "print(x)"
   ]
  },
  {
   "cell_type": "markdown",
   "id": "ea002ce5",
   "metadata": {},
   "source": [
    "Nice docs:"
   ]
  },
  {
   "cell_type": "code",
   "execution_count": 74,
   "id": "84f5b499",
   "metadata": {},
   "outputs": [],
   "source": [
    "help(rnorm)"
   ]
  },
  {
   "cell_type": "code",
   "execution_count": 75,
   "id": "74d2c4af",
   "metadata": {},
   "outputs": [
    {
     "name": "stderr",
     "output_type": "stream",
     "text": [
      "Warning message in fetch(key):\n",
      "“internal error -3 in R_decompress1”\n",
      "ERROR while rich displaying an object: Error in fetch(key): lazy-load database '/Library/Frameworks/R.framework/Versions/4.2/Resources/library/tm/help/tm.rdb' is corrupt\n",
      "\n",
      "Traceback:\n",
      "1. tryCatch(withCallingHandlers({\n",
      " .     if (!mime %in% names(repr::mime2repr)) \n",
      " .         stop(\"No repr_* for mimetype \", mime, \" in repr::mime2repr\")\n",
      " .     rpr <- repr::mime2repr[[mime]](obj)\n",
      " .     if (is.null(rpr)) \n",
      " .         return(NULL)\n",
      " .     prepare_content(is.raw(rpr), rpr)\n",
      " . }, error = error_handler), error = outer_handler)\n",
      "2. tryCatchList(expr, classes, parentenv, handlers)\n",
      "3. tryCatchOne(expr, names, parentenv, handlers[[1L]])\n",
      "4. doTryCatch(return(expr), name, parentenv, handler)\n",
      "5. withCallingHandlers({\n",
      " .     if (!mime %in% names(repr::mime2repr)) \n",
      " .         stop(\"No repr_* for mimetype \", mime, \" in repr::mime2repr\")\n",
      " .     rpr <- repr::mime2repr[[mime]](obj)\n",
      " .     if (is.null(rpr)) \n",
      " .         return(NULL)\n",
      " .     prepare_content(is.raw(rpr), rpr)\n",
      " . }, error = error_handler)\n",
      "6. repr::mime2repr[[mime]](obj)\n",
      "7. repr_text.help_files_with_topic(obj)\n",
      "8. repr_help_files_with_topic_generic(obj, Rd2txt)\n",
      "9. get_help_file(file)\n",
      "10. fetch_rd_db(rd_db, basename(file))\n",
      "11. lazyLoadDBexec(filebase, fun)\n",
      "12. fun(environment())\n",
      "13. fetch(key)\n"
     ]
    }
   ],
   "source": [
    "?Corpus"
   ]
  },
  {
   "cell_type": "code",
   "execution_count": 76,
   "id": "e71d1ae2",
   "metadata": {},
   "outputs": [
    {
     "name": "stderr",
     "output_type": "stream",
     "text": [
      "Warning message in fetch(key):\n",
      "“internal error -3 in R_decompress1”\n",
      "ERROR while rich displaying an object: Error in fetch(key): lazy-load database '/Library/Frameworks/R.framework/Versions/4.2/Resources/library/tm/help/tm.rdb' is corrupt\n",
      "\n",
      "Traceback:\n",
      "1. tryCatch(withCallingHandlers({\n",
      " .     if (!mime %in% names(repr::mime2repr)) \n",
      " .         stop(\"No repr_* for mimetype \", mime, \" in repr::mime2repr\")\n",
      " .     rpr <- repr::mime2repr[[mime]](obj)\n",
      " .     if (is.null(rpr)) \n",
      " .         return(NULL)\n",
      " .     prepare_content(is.raw(rpr), rpr)\n",
      " . }, error = error_handler), error = outer_handler)\n",
      "2. tryCatchList(expr, classes, parentenv, handlers)\n",
      "3. tryCatchOne(expr, names, parentenv, handlers[[1L]])\n",
      "4. doTryCatch(return(expr), name, parentenv, handler)\n",
      "5. withCallingHandlers({\n",
      " .     if (!mime %in% names(repr::mime2repr)) \n",
      " .         stop(\"No repr_* for mimetype \", mime, \" in repr::mime2repr\")\n",
      " .     rpr <- repr::mime2repr[[mime]](obj)\n",
      " .     if (is.null(rpr)) \n",
      " .         return(NULL)\n",
      " .     prepare_content(is.raw(rpr), rpr)\n",
      " . }, error = error_handler)\n",
      "6. repr::mime2repr[[mime]](obj)\n",
      "7. repr_text.help_files_with_topic(obj)\n",
      "8. repr_help_files_with_topic_generic(obj, Rd2txt)\n",
      "9. get_help_file(file)\n",
      "10. fetch_rd_db(rd_db, basename(file))\n",
      "11. lazyLoadDBexec(filebase, fun)\n",
      "12. fun(environment())\n",
      "13. fetch(key)\n"
     ]
    }
   ],
   "source": [
    "?DocumentTermMatrix"
   ]
  },
  {
   "cell_type": "markdown",
   "id": "0d945350",
   "metadata": {},
   "source": [
    "R Markdown is a great analog of Jupyter Notebook"
   ]
  },
  {
   "cell_type": "markdown",
   "id": "6f12b510",
   "metadata": {},
   "source": [
    "To read a file, use the function `scan()`:"
   ]
  },
  {
   "cell_type": "code",
   "execution_count": 41,
   "id": "6bef3546",
   "metadata": {},
   "outputs": [
    {
     "data": {
      "text/html": [
       "<style>\n",
       ".list-inline {list-style: none; margin:0; padding: 0}\n",
       ".list-inline>li {display: inline-block}\n",
       ".list-inline>li:not(:last-child)::after {content: \"\\00b7\"; padding: 0 .5ex}\n",
       "</style>\n",
       "<ol class=list-inline><li>1120</li><li>1160</li><li>963</li><li>1210</li><li>1160</li><li>1160</li><li>813</li><li>1230</li><li>1370</li><li>1140</li><li>995</li><li>935</li><li>1110</li><li>994</li><li>1020</li><li>960</li><li>1180</li><li>799</li><li>958</li><li>1140</li><li>1100</li><li>1210</li><li>1150</li><li>1250</li><li>1260</li><li>1220</li><li>1030</li><li>1100</li><li>774</li><li>840</li><li>874</li><li>694</li><li>940</li><li>833</li><li>701</li><li>916</li><li>692</li><li>1020</li><li>1050</li><li>969</li><li>831</li><li>726</li><li>456</li><li>824</li><li>702</li><li>1120</li><li>1100</li><li>832</li><li>764</li><li>821</li><li>768</li><li>845</li><li>864</li><li>862</li><li>698</li><li>845</li><li>744</li><li>796</li><li>1040</li><li>759</li><li>781</li><li>865</li><li>845</li><li>944</li><li>984</li><li>897</li><li>822</li><li>1010</li><li>771</li><li>676</li><li>649</li><li>846</li><li>812</li><li>742</li><li>801</li><li>1040</li><li>860</li><li>874</li><li>848</li><li>890</li><li>744</li><li>749</li><li>838</li><li>1050</li><li>918</li><li>986</li><li>797</li><li>923</li><li>975</li><li>815</li><li>1020</li><li>906</li><li>901</li><li>1170</li><li>912</li><li>746</li><li>919</li><li>718</li><li>714</li><li>740</li></ol>\n"
      ],
      "text/latex": [
       "\\begin{enumerate*}\n",
       "\\item 1120\n",
       "\\item 1160\n",
       "\\item 963\n",
       "\\item 1210\n",
       "\\item 1160\n",
       "\\item 1160\n",
       "\\item 813\n",
       "\\item 1230\n",
       "\\item 1370\n",
       "\\item 1140\n",
       "\\item 995\n",
       "\\item 935\n",
       "\\item 1110\n",
       "\\item 994\n",
       "\\item 1020\n",
       "\\item 960\n",
       "\\item 1180\n",
       "\\item 799\n",
       "\\item 958\n",
       "\\item 1140\n",
       "\\item 1100\n",
       "\\item 1210\n",
       "\\item 1150\n",
       "\\item 1250\n",
       "\\item 1260\n",
       "\\item 1220\n",
       "\\item 1030\n",
       "\\item 1100\n",
       "\\item 774\n",
       "\\item 840\n",
       "\\item 874\n",
       "\\item 694\n",
       "\\item 940\n",
       "\\item 833\n",
       "\\item 701\n",
       "\\item 916\n",
       "\\item 692\n",
       "\\item 1020\n",
       "\\item 1050\n",
       "\\item 969\n",
       "\\item 831\n",
       "\\item 726\n",
       "\\item 456\n",
       "\\item 824\n",
       "\\item 702\n",
       "\\item 1120\n",
       "\\item 1100\n",
       "\\item 832\n",
       "\\item 764\n",
       "\\item 821\n",
       "\\item 768\n",
       "\\item 845\n",
       "\\item 864\n",
       "\\item 862\n",
       "\\item 698\n",
       "\\item 845\n",
       "\\item 744\n",
       "\\item 796\n",
       "\\item 1040\n",
       "\\item 759\n",
       "\\item 781\n",
       "\\item 865\n",
       "\\item 845\n",
       "\\item 944\n",
       "\\item 984\n",
       "\\item 897\n",
       "\\item 822\n",
       "\\item 1010\n",
       "\\item 771\n",
       "\\item 676\n",
       "\\item 649\n",
       "\\item 846\n",
       "\\item 812\n",
       "\\item 742\n",
       "\\item 801\n",
       "\\item 1040\n",
       "\\item 860\n",
       "\\item 874\n",
       "\\item 848\n",
       "\\item 890\n",
       "\\item 744\n",
       "\\item 749\n",
       "\\item 838\n",
       "\\item 1050\n",
       "\\item 918\n",
       "\\item 986\n",
       "\\item 797\n",
       "\\item 923\n",
       "\\item 975\n",
       "\\item 815\n",
       "\\item 1020\n",
       "\\item 906\n",
       "\\item 901\n",
       "\\item 1170\n",
       "\\item 912\n",
       "\\item 746\n",
       "\\item 919\n",
       "\\item 718\n",
       "\\item 714\n",
       "\\item 740\n",
       "\\end{enumerate*}\n"
      ],
      "text/markdown": [
       "1. 1120\n",
       "2. 1160\n",
       "3. 963\n",
       "4. 1210\n",
       "5. 1160\n",
       "6. 1160\n",
       "7. 813\n",
       "8. 1230\n",
       "9. 1370\n",
       "10. 1140\n",
       "11. 995\n",
       "12. 935\n",
       "13. 1110\n",
       "14. 994\n",
       "15. 1020\n",
       "16. 960\n",
       "17. 1180\n",
       "18. 799\n",
       "19. 958\n",
       "20. 1140\n",
       "21. 1100\n",
       "22. 1210\n",
       "23. 1150\n",
       "24. 1250\n",
       "25. 1260\n",
       "26. 1220\n",
       "27. 1030\n",
       "28. 1100\n",
       "29. 774\n",
       "30. 840\n",
       "31. 874\n",
       "32. 694\n",
       "33. 940\n",
       "34. 833\n",
       "35. 701\n",
       "36. 916\n",
       "37. 692\n",
       "38. 1020\n",
       "39. 1050\n",
       "40. 969\n",
       "41. 831\n",
       "42. 726\n",
       "43. 456\n",
       "44. 824\n",
       "45. 702\n",
       "46. 1120\n",
       "47. 1100\n",
       "48. 832\n",
       "49. 764\n",
       "50. 821\n",
       "51. 768\n",
       "52. 845\n",
       "53. 864\n",
       "54. 862\n",
       "55. 698\n",
       "56. 845\n",
       "57. 744\n",
       "58. 796\n",
       "59. 1040\n",
       "60. 759\n",
       "61. 781\n",
       "62. 865\n",
       "63. 845\n",
       "64. 944\n",
       "65. 984\n",
       "66. 897\n",
       "67. 822\n",
       "68. 1010\n",
       "69. 771\n",
       "70. 676\n",
       "71. 649\n",
       "72. 846\n",
       "73. 812\n",
       "74. 742\n",
       "75. 801\n",
       "76. 1040\n",
       "77. 860\n",
       "78. 874\n",
       "79. 848\n",
       "80. 890\n",
       "81. 744\n",
       "82. 749\n",
       "83. 838\n",
       "84. 1050\n",
       "85. 918\n",
       "86. 986\n",
       "87. 797\n",
       "88. 923\n",
       "89. 975\n",
       "90. 815\n",
       "91. 1020\n",
       "92. 906\n",
       "93. 901\n",
       "94. 1170\n",
       "95. 912\n",
       "96. 746\n",
       "97. 919\n",
       "98. 718\n",
       "99. 714\n",
       "100. 740\n",
       "\n",
       "\n"
      ],
      "text/plain": [
       "  [1] 1120 1160  963 1210 1160 1160  813 1230 1370 1140  995  935 1110  994 1020\n",
       " [16]  960 1180  799  958 1140 1100 1210 1150 1250 1260 1220 1030 1100  774  840\n",
       " [31]  874  694  940  833  701  916  692 1020 1050  969  831  726  456  824  702\n",
       " [46] 1120 1100  832  764  821  768  845  864  862  698  845  744  796 1040  759\n",
       " [61]  781  865  845  944  984  897  822 1010  771  676  649  846  812  742  801\n",
       " [76] 1040  860  874  848  890  744  749  838 1050  918  986  797  923  975  815\n",
       " [91] 1020  906  901 1170  912  746  919  718  714  740"
      ]
     },
     "metadata": {},
     "output_type": "display_data"
    }
   ],
   "source": [
    "nile <- scan(\"../ST2195 Course Files/Block 2/nile.txt\")\n",
    "nile"
   ]
  },
  {
   "cell_type": "code",
   "execution_count": 42,
   "id": "3ad1fe00",
   "metadata": {},
   "outputs": [
    {
     "data": {
      "text/html": [
       "'double'"
      ],
      "text/latex": [
       "'double'"
      ],
      "text/markdown": [
       "'double'"
      ],
      "text/plain": [
       "[1] \"double\""
      ]
     },
     "metadata": {},
     "output_type": "display_data"
    }
   ],
   "source": [
    "typeof(nile)"
   ]
  },
  {
   "cell_type": "code",
   "execution_count": 43,
   "id": "db22f938",
   "metadata": {},
   "outputs": [
    {
     "name": "stdout",
     "output_type": "stream",
     "text": [
      " num [1:100] 1120 1160 963 1210 1160 1160 813 1230 1370 1140 ...\n"
     ]
    }
   ],
   "source": [
    "str(nile)"
   ]
  },
  {
   "cell_type": "code",
   "execution_count": 56,
   "id": "68d0a8a1",
   "metadata": {},
   "outputs": [
    {
     "data": {
      "image/png": "[encoded data removed]",
      "text/plain": [
       "Plot with title “Histogram of nile”"
      ]
     },
     "metadata": {
      "image/png": {
       "height": 420,
       "width": 420
      }
     },
     "output_type": "display_data"
    }
   ],
   "source": [
    "hist(nile)"
   ]
  },
  {
   "cell_type": "markdown",
   "id": "a55cb29b",
   "metadata": {},
   "source": [
    "Read file contents as strings:"
   ]
  },
  {
   "cell_type": "code",
   "execution_count": 51,
   "id": "904e6e44",
   "metadata": {},
   "outputs": [
    {
     "data": {
      "text/html": [
       "<style>\n",
       ".list-inline {list-style: none; margin:0; padding: 0}\n",
       ".list-inline>li {display: inline-block}\n",
       ".list-inline>li:not(:last-child)::after {content: \"\\00b7\"; padding: 0 .5ex}\n",
       "</style>\n",
       "<ol class=list-inline><li>'1120'</li><li>'1160'</li><li>'963'</li><li>'1210'</li><li>'1160'</li><li>'1160'</li><li>'813'</li><li>'1230'</li><li>'1370'</li><li>'1140'</li><li>'995'</li><li>'935'</li><li>'1110'</li><li>'994'</li><li>'1020'</li><li>'960'</li><li>'1180'</li><li>'799'</li><li>'958'</li><li>'1140'</li><li>'1100'</li><li>'1210'</li><li>'1150'</li><li>'1250'</li><li>'1260'</li><li>'1220'</li><li>'1030'</li><li>'1100'</li><li>'774'</li><li>'840'</li><li>'874'</li><li>'694'</li><li>'940'</li><li>'833'</li><li>'701'</li><li>'916'</li><li>'692'</li><li>'1020'</li><li>'1050'</li><li>'969'</li><li>'831'</li><li>'726'</li><li>'456'</li><li>'824'</li><li>'702'</li><li>'1120'</li><li>'1100'</li><li>'832'</li><li>'764'</li><li>'821'</li><li>'768'</li><li>'845'</li><li>'864'</li><li>'862'</li><li>'698'</li><li>'845'</li><li>'744'</li><li>'796'</li><li>'1040'</li><li>'759'</li><li>'781'</li><li>'865'</li><li>'845'</li><li>'944'</li><li>'984'</li><li>'897'</li><li>'822'</li><li>'1010'</li><li>'771'</li><li>'676'</li><li>'649'</li><li>'846'</li><li>'812'</li><li>'742'</li><li>'801'</li><li>'1040'</li><li>'860'</li><li>'874'</li><li>'848'</li><li>'890'</li><li>'744'</li><li>'749'</li><li>'838'</li><li>'1050'</li><li>'918'</li><li>'986'</li><li>'797'</li><li>'923'</li><li>'975'</li><li>'815'</li><li>'1020'</li><li>'906'</li><li>'901'</li><li>'1170'</li><li>'912'</li><li>'746'</li><li>'919'</li><li>'718'</li><li>'714'</li><li>'740'</li></ol>\n"
      ],
      "text/latex": [
       "\\begin{enumerate*}\n",
       "\\item '1120'\n",
       "\\item '1160'\n",
       "\\item '963'\n",
       "\\item '1210'\n",
       "\\item '1160'\n",
       "\\item '1160'\n",
       "\\item '813'\n",
       "\\item '1230'\n",
       "\\item '1370'\n",
       "\\item '1140'\n",
       "\\item '995'\n",
       "\\item '935'\n",
       "\\item '1110'\n",
       "\\item '994'\n",
       "\\item '1020'\n",
       "\\item '960'\n",
       "\\item '1180'\n",
       "\\item '799'\n",
       "\\item '958'\n",
       "\\item '1140'\n",
       "\\item '1100'\n",
       "\\item '1210'\n",
       "\\item '1150'\n",
       "\\item '1250'\n",
       "\\item '1260'\n",
       "\\item '1220'\n",
       "\\item '1030'\n",
       "\\item '1100'\n",
       "\\item '774'\n",
       "\\item '840'\n",
       "\\item '874'\n",
       "\\item '694'\n",
       "\\item '940'\n",
       "\\item '833'\n",
       "\\item '701'\n",
       "\\item '916'\n",
       "\\item '692'\n",
       "\\item '1020'\n",
       "\\item '1050'\n",
       "\\item '969'\n",
       "\\item '831'\n",
       "\\item '726'\n",
       "\\item '456'\n",
       "\\item '824'\n",
       "\\item '702'\n",
       "\\item '1120'\n",
       "\\item '1100'\n",
       "\\item '832'\n",
       "\\item '764'\n",
       "\\item '821'\n",
       "\\item '768'\n",
       "\\item '845'\n",
       "\\item '864'\n",
       "\\item '862'\n",
       "\\item '698'\n",
       "\\item '845'\n",
       "\\item '744'\n",
       "\\item '796'\n",
       "\\item '1040'\n",
       "\\item '759'\n",
       "\\item '781'\n",
       "\\item '865'\n",
       "\\item '845'\n",
       "\\item '944'\n",
       "\\item '984'\n",
       "\\item '897'\n",
       "\\item '822'\n",
       "\\item '1010'\n",
       "\\item '771'\n",
       "\\item '676'\n",
       "\\item '649'\n",
       "\\item '846'\n",
       "\\item '812'\n",
       "\\item '742'\n",
       "\\item '801'\n",
       "\\item '1040'\n",
       "\\item '860'\n",
       "\\item '874'\n",
       "\\item '848'\n",
       "\\item '890'\n",
       "\\item '744'\n",
       "\\item '749'\n",
       "\\item '838'\n",
       "\\item '1050'\n",
       "\\item '918'\n",
       "\\item '986'\n",
       "\\item '797'\n",
       "\\item '923'\n",
       "\\item '975'\n",
       "\\item '815'\n",
       "\\item '1020'\n",
       "\\item '906'\n",
       "\\item '901'\n",
       "\\item '1170'\n",
       "\\item '912'\n",
       "\\item '746'\n",
       "\\item '919'\n",
       "\\item '718'\n",
       "\\item '714'\n",
       "\\item '740'\n",
       "\\end{enumerate*}\n"
      ],
      "text/markdown": [
       "1. '1120'\n",
       "2. '1160'\n",
       "3. '963'\n",
       "4. '1210'\n",
       "5. '1160'\n",
       "6. '1160'\n",
       "7. '813'\n",
       "8. '1230'\n",
       "9. '1370'\n",
       "10. '1140'\n",
       "11. '995'\n",
       "12. '935'\n",
       "13. '1110'\n",
       "14. '994'\n",
       "15. '1020'\n",
       "16. '960'\n",
       "17. '1180'\n",
       "18. '799'\n",
       "19. '958'\n",
       "20. '1140'\n",
       "21. '1100'\n",
       "22. '1210'\n",
       "23. '1150'\n",
       "24. '1250'\n",
       "25. '1260'\n",
       "26. '1220'\n",
       "27. '1030'\n",
       "28. '1100'\n",
       "29. '774'\n",
       "30. '840'\n",
       "31. '874'\n",
       "32. '694'\n",
       "33. '940'\n",
       "34. '833'\n",
       "35. '701'\n",
       "36. '916'\n",
       "37. '692'\n",
       "38. '1020'\n",
       "39. '1050'\n",
       "40. '969'\n",
       "41. '831'\n",
       "42. '726'\n",
       "43. '456'\n",
       "44. '824'\n",
       "45. '702'\n",
       "46. '1120'\n",
       "47. '1100'\n",
       "48. '832'\n",
       "49. '764'\n",
       "50. '821'\n",
       "51. '768'\n",
       "52. '845'\n",
       "53. '864'\n",
       "54. '862'\n",
       "55. '698'\n",
       "56. '845'\n",
       "57. '744'\n",
       "58. '796'\n",
       "59. '1040'\n",
       "60. '759'\n",
       "61. '781'\n",
       "62. '865'\n",
       "63. '845'\n",
       "64. '944'\n",
       "65. '984'\n",
       "66. '897'\n",
       "67. '822'\n",
       "68. '1010'\n",
       "69. '771'\n",
       "70. '676'\n",
       "71. '649'\n",
       "72. '846'\n",
       "73. '812'\n",
       "74. '742'\n",
       "75. '801'\n",
       "76. '1040'\n",
       "77. '860'\n",
       "78. '874'\n",
       "79. '848'\n",
       "80. '890'\n",
       "81. '744'\n",
       "82. '749'\n",
       "83. '838'\n",
       "84. '1050'\n",
       "85. '918'\n",
       "86. '986'\n",
       "87. '797'\n",
       "88. '923'\n",
       "89. '975'\n",
       "90. '815'\n",
       "91. '1020'\n",
       "92. '906'\n",
       "93. '901'\n",
       "94. '1170'\n",
       "95. '912'\n",
       "96. '746'\n",
       "97. '919'\n",
       "98. '718'\n",
       "99. '714'\n",
       "100. '740'\n",
       "\n",
       "\n"
      ],
      "text/plain": [
       "  [1] \"1120\" \"1160\" \"963\"  \"1210\" \"1160\" \"1160\" \"813\"  \"1230\" \"1370\" \"1140\"\n",
       " [11] \"995\"  \"935\"  \"1110\" \"994\"  \"1020\" \"960\"  \"1180\" \"799\"  \"958\"  \"1140\"\n",
       " [21] \"1100\" \"1210\" \"1150\" \"1250\" \"1260\" \"1220\" \"1030\" \"1100\" \"774\"  \"840\" \n",
       " [31] \"874\"  \"694\"  \"940\"  \"833\"  \"701\"  \"916\"  \"692\"  \"1020\" \"1050\" \"969\" \n",
       " [41] \"831\"  \"726\"  \"456\"  \"824\"  \"702\"  \"1120\" \"1100\" \"832\"  \"764\"  \"821\" \n",
       " [51] \"768\"  \"845\"  \"864\"  \"862\"  \"698\"  \"845\"  \"744\"  \"796\"  \"1040\" \"759\" \n",
       " [61] \"781\"  \"865\"  \"845\"  \"944\"  \"984\"  \"897\"  \"822\"  \"1010\" \"771\"  \"676\" \n",
       " [71] \"649\"  \"846\"  \"812\"  \"742\"  \"801\"  \"1040\" \"860\"  \"874\"  \"848\"  \"890\" \n",
       " [81] \"744\"  \"749\"  \"838\"  \"1050\" \"918\"  \"986\"  \"797\"  \"923\"  \"975\"  \"815\" \n",
       " [91] \"1020\" \"906\"  \"901\"  \"1170\" \"912\"  \"746\"  \"919\"  \"718\"  \"714\"  \"740\" "
      ]
     },
     "metadata": {},
     "output_type": "display_data"
    }
   ],
   "source": [
    "nile_char <- scan(\"../ST2195 Course Files/Block 2/nile.txt\", what = character()) \n",
    "nile_char"
   ]
  },
  {
   "cell_type": "code",
   "execution_count": 77,
   "id": "b387ee51",
   "metadata": {},
   "outputs": [
    {
     "data": {
      "text/html": [
       "'character'"
      ],
      "text/latex": [
       "'character'"
      ],
      "text/markdown": [
       "'character'"
      ],
      "text/plain": [
       "[1] \"character\""
      ]
     },
     "metadata": {},
     "output_type": "display_data"
    }
   ],
   "source": [
    "typeof(nile_char)"
   ]
  },
  {
   "cell_type": "markdown",
   "id": "51ea7070",
   "metadata": {},
   "source": [
    "Split by a custom separator:"
   ]
  },
  {
   "cell_type": "code",
   "execution_count": 55,
   "id": "8e6ab75a",
   "metadata": {},
   "outputs": [
    {
     "data": {
      "text/html": [
       "<style>\n",
       ".list-inline {list-style: none; margin:0; padding: 0}\n",
       ".list-inline>li {display: inline-block}\n",
       ".list-inline>li:not(:last-child)::after {content: \"\\00b7\"; padding: 0 .5ex}\n",
       "</style>\n",
       "<ol class=list-inline><li>'The'</li><li>'combination'</li><li>'of'</li><li>'some'</li><li>'data'</li><li>'and'</li><li>'an'</li><li>'aching'</li><li>'desire'</li><li>'for'</li><li>'an'</li><li>'answer'</li><li>'does'</li><li>'not'</li><li>'ensure'</li><li>'that'</li><li>'a'</li><li>'reasonable'</li><li>'answer'</li><li>'can'</li><li>'be'</li><li>'extracted'</li><li>'from'</li><li>'a'</li><li>'given'</li><li>'body'</li><li>'of'</li><li>'data'</li></ol>\n"
      ],
      "text/latex": [
       "\\begin{enumerate*}\n",
       "\\item 'The'\n",
       "\\item 'combination'\n",
       "\\item 'of'\n",
       "\\item 'some'\n",
       "\\item 'data'\n",
       "\\item 'and'\n",
       "\\item 'an'\n",
       "\\item 'aching'\n",
       "\\item 'desire'\n",
       "\\item 'for'\n",
       "\\item 'an'\n",
       "\\item 'answer'\n",
       "\\item 'does'\n",
       "\\item 'not'\n",
       "\\item 'ensure'\n",
       "\\item 'that'\n",
       "\\item 'a'\n",
       "\\item 'reasonable'\n",
       "\\item 'answer'\n",
       "\\item 'can'\n",
       "\\item 'be'\n",
       "\\item 'extracted'\n",
       "\\item 'from'\n",
       "\\item 'a'\n",
       "\\item 'given'\n",
       "\\item 'body'\n",
       "\\item 'of'\n",
       "\\item 'data'\n",
       "\\end{enumerate*}\n"
      ],
      "text/markdown": [
       "1. 'The'\n",
       "2. 'combination'\n",
       "3. 'of'\n",
       "4. 'some'\n",
       "5. 'data'\n",
       "6. 'and'\n",
       "7. 'an'\n",
       "8. 'aching'\n",
       "9. 'desire'\n",
       "10. 'for'\n",
       "11. 'an'\n",
       "12. 'answer'\n",
       "13. 'does'\n",
       "14. 'not'\n",
       "15. 'ensure'\n",
       "16. 'that'\n",
       "17. 'a'\n",
       "18. 'reasonable'\n",
       "19. 'answer'\n",
       "20. 'can'\n",
       "21. 'be'\n",
       "22. 'extracted'\n",
       "23. 'from'\n",
       "24. 'a'\n",
       "25. 'given'\n",
       "26. 'body'\n",
       "27. 'of'\n",
       "28. 'data'\n",
       "\n",
       "\n"
      ],
      "text/plain": [
       " [1] \"The\"         \"combination\" \"of\"          \"some\"        \"data\"       \n",
       " [6] \"and\"         \"an\"          \"aching\"      \"desire\"      \"for\"        \n",
       "[11] \"an\"          \"answer\"      \"does\"        \"not\"         \"ensure\"     \n",
       "[16] \"that\"        \"a\"           \"reasonable\"  \"answer\"      \"can\"        \n",
       "[21] \"be\"          \"extracted\"   \"from\"        \"a\"           \"given\"      \n",
       "[26] \"body\"        \"of\"          \"data\"       "
      ]
     },
     "metadata": {},
     "output_type": "display_data"
    }
   ],
   "source": [
    "sunset <- scan(\"../ST2195 Course Files/Block 2/sunset-salvo-sem\", what = character(), sep = ';') \n",
    "sunset"
   ]
  }
 ],
 "metadata": {
  "kernelspec": {
   "display_name": "R",
   "language": "R",
   "name": "ir"
  },
  "language_info": {
   "codemirror_mode": "r",
   "file_extension": ".r",
   "mimetype": "text/x-r-source",
   "name": "R",
   "pygments_lexer": "r",
   "version": "4.2.1"
  }
 },
 "nbformat": 4,
 "nbformat_minor": 5
}
