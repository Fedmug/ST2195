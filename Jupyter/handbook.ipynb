{
 "cells": [
  {
   "cell_type": "code",
   "execution_count": 1,
   "id": "57488d1b",
   "metadata": {},
   "outputs": [
    {
     "name": "stdout",
     "output_type": "stream",
     "text": [
      "Введите пароль для входа: 220\n",
      "Введите пароль для входа: feri\n",
      "Введите пароль для входа: right_password\n",
      "Пароль верный. Вход разрешён.\n"
     ]
    }
   ],
   "source": [
    "saved_pwd = \"right_password\"\n",
    "pwd = input(\"Введите пароль для входа: \")\n",
    "while pwd != saved_pwd:\n",
    "    pwd = input(\"Введите пароль для входа: \")\n",
    "print(\"Пароль верный. Вход разрешён.\")"
   ]
  },
  {
   "cell_type": "code",
   "execution_count": 2,
   "id": "3ae7b047",
   "metadata": {},
   "outputs": [
    {
     "name": "stdout",
     "output_type": "stream",
     "text": [
      "Введите пароль для входа: wrong\n",
      "Введите пароль для входа: right\n",
      "Введите пароль для входа: saved_pwd = \"right_password\" while input(\"Введите пароль для входа: \") != saved_pwd:     pass print(\"Пароль верный. Вход разрешён.\")\n",
      "Введите пароль для входа: right_password\n",
      "Пароль верный. Вход разрешён.\n"
     ]
    }
   ],
   "source": [
    "saved_pwd = \"right_password\"\n",
    "while input(\"Введите пароль для входа: \") != saved_pwd:\n",
    "    pass\n",
    "print(\"Пароль верный. Вход разрешён.\")"
   ]
  },
  {
   "cell_type": "code",
   "execution_count": 3,
   "id": "8bc81dc0",
   "metadata": {},
   "outputs": [
    {
     "name": "stdout",
     "output_type": "stream",
     "text": [
      "Введите имя: Alice\n",
      "Привет, Alice!\n",
      "Введите имя: Bob\n",
      "Привет, Bob!\n",
      "Введите имя: ovalur\n",
      "Привет, ovalur!\n",
      "Введите имя: STOP\n",
      "Привет, STOP!\n",
      "Введите имя: СТОП\n",
      "Программа завершена.\n"
     ]
    }
   ],
   "source": [
    "name = input(\"Введите имя: \")\n",
    "while name != \"СТОП\":\n",
    "    print(f\"Привет, {name}!\")\n",
    "    name = input(\"Введите имя: \")\n",
    "print(\"Программа завершена.\")"
   ]
  },
  {
   "cell_type": "code",
   "execution_count": 4,
   "id": "d1e8abe6",
   "metadata": {},
   "outputs": [
    {
     "name": "stdout",
     "output_type": "stream",
     "text": [
      "Введите имя: Pbpe\n",
      "Привет, Pbpe!\n",
      "Введите имя: Зизу\n",
      "Привет, Зизу!\n",
      "Введите имя: СТОП\n",
      "Программа завершена.\n"
     ]
    }
   ],
   "source": [
    "while (name := input(\"Введите имя: \")) != \"СТОП\":\n",
    "    print(f\"Привет, {name}!\")\n",
    "print(\"Программа завершена.\")"
   ]
  },
  {
   "cell_type": "code",
   "execution_count": 7,
   "id": "794d2160",
   "metadata": {},
   "outputs": [
    {
     "name": "stdout",
     "output_type": "stream",
     "text": [
      "1 2 3 4\n",
      "4 5 67\n",
      "5 4 67\n",
      "34\n",
      "34\n",
      "[[1, 2, 3, 4], [4, 5, 67], [5, 4, 67], [34], [34]]\n"
     ]
    }
   ],
   "source": [
    "matrix = [[int(x) for x in input().split()] for i in range(5)]\n",
    "print(matrix)"
   ]
  }
 ],
 "metadata": {
  "kernelspec": {
   "display_name": "Python 3 (ipykernel)",
   "language": "python",
   "name": "python3"
  },
  "language_info": {
   "codemirror_mode": {
    "name": "ipython",
    "version": 3
   },
   "file_extension": ".py",
   "mimetype": "text/x-python",
   "name": "python",
   "nbconvert_exporter": "python",
   "pygments_lexer": "ipython3",
   "version": "3.10.5"
  }
 },
 "nbformat": 4,
 "nbformat_minor": 5
}
