{
 "cells": [
  {
   "cell_type": "code",
   "execution_count": 7,
   "id": "d0e5d876",
   "metadata": {},
   "outputs": [],
   "source": [
    "import dataclasses\n",
    "from numpy.testing import assert_array_equal\n",
    "import numpy as np\n",
    "import pandas as pd\n",
    "import numpy.typing as npt"
   ]
  },
  {
   "cell_type": "markdown",
   "id": "92d0fe82",
   "metadata": {},
   "source": [
    "## Construct array from index arrays"
   ]
  },
  {
   "cell_type": "code",
   "execution_count": 8,
   "id": "bfafbf8e",
   "metadata": {},
   "outputs": [],
   "source": [
    "def construct_array(\n",
    "        matrix: npt.NDArray[np.int_],\n",
    "        row_indices: npt.NDArray[np.int_] | list[int],\n",
    "        col_indices: npt.NDArray[np.int_] | list[int]\n",
    ") -> npt.NDArray[np.int_]:\n",
    "    \"\"\"\n",
    "    Construct slice of given matrix by indices row_indices and col_indices:\n",
    "    [matrix[row_indices[0], col_indices[0]], ... , matrix[row_indices[N-1], col_indices[N-1]]]\n",
    "    :param matrix: input matrix\n",
    "    :param row_indices: list of row indices\n",
    "    :param col_indices: list of column indices\n",
    "    :return: matrix slice\n",
    "    \"\"\"\n",
    "    return matrix[row_indices, col_indices]"
   ]
  },
  {
   "cell_type": "code",
   "execution_count": 9,
   "id": "43431df9",
   "metadata": {},
   "outputs": [
    {
     "data": {
      "text/plain": [
       "array([[10, 16, 65, 29],\n",
       "       [90, 94, 30,  9],\n",
       "       [74,  1, 41, 37]])"
      ]
     },
     "execution_count": 9,
     "metadata": {},
     "output_type": "execute_result"
    }
   ],
   "source": [
    "np.random.seed(10)\n",
    "A = np.random.randint(1, 100, size=(3, 4))\n",
    "A"
   ]
  },
  {
   "cell_type": "code",
   "execution_count": 10,
   "id": "2bdc369f",
   "metadata": {},
   "outputs": [
    {
     "data": {
      "text/plain": [
       "array([ 1, 29, 65])"
      ]
     },
     "execution_count": 10,
     "metadata": {},
     "output_type": "execute_result"
    }
   ],
   "source": [
    "construct_array(A, [2, 0, 0], [1, 3, 2])"
   ]
  },
  {
   "cell_type": "code",
   "execution_count": 11,
   "id": "bfdf5a82",
   "metadata": {},
   "outputs": [
    {
     "data": {
      "text/plain": [
       "array([16, 30, 37])"
      ]
     },
     "execution_count": 11,
     "metadata": {},
     "output_type": "execute_result"
    }
   ],
   "source": [
    "construct_array(A, np.arange(3), np.arange(1, 4))"
   ]
  },
  {
   "cell_type": "code",
   "execution_count": 12,
   "id": "6e0877ba",
   "metadata": {},
   "outputs": [],
   "source": [
    "# TESTING AREA\n",
    "\n",
    "@dataclasses.dataclass\n",
    "class ConstructArrayCase:\n",
    "    matrix: npt.NDArray[np.int_]\n",
    "    row_indices: npt.NDArray[np.int_] | list[int]\n",
    "    col_indices: npt.NDArray[np.int_] | list[int]\n",
    "    result: npt.NDArray[np.int_]\n",
    "\n",
    "\n",
    "CONSTRUCT_ARRAY_TEST_CASES = [\n",
    "    ConstructArrayCase(matrix=np.array(range(25)).reshape(5, 5),\n",
    "                       row_indices=[0, 1, 2],\n",
    "                       col_indices=[0, 1, 2],\n",
    "                       result=np.array([0, 6, 12])),\n",
    "    ConstructArrayCase(matrix=np.arange(-10, 10).reshape((5, 4)),\n",
    "                       row_indices=[1, 2, 3, 3],\n",
    "                       col_indices=[3, 2, 1, 2],\n",
    "                       result=np.array([-3, 0, 3, 4])),\n",
    "    ConstructArrayCase(matrix=np.arange(42).reshape((7, 6)),\n",
    "                       row_indices=[],\n",
    "                       col_indices=[],\n",
    "                       result=np.array([])),\n",
    "    ConstructArrayCase(matrix=np.arange(42).reshape((7, 6)),\n",
    "                       row_indices=np.arange(4),\n",
    "                       col_indices=np.arange(4),\n",
    "                       result=np.array(np.arange(4)) * 7),\n",
    "    ConstructArrayCase(matrix=np.arange(42).reshape((42, 1)),\n",
    "                       row_indices=[0, 1, 41],\n",
    "                       col_indices=[0, 0, 0],\n",
    "                       result=np.array([0, 1, 41]))\n",
    "]\n",
    "\n",
    "for t in CONSTRUCT_ARRAY_TEST_CASES:\n",
    "    assert_array_equal(construct_array(t.matrix, t.row_indices, t.col_indices), t.result)"
   ]
  },
  {
   "cell_type": "markdown",
   "id": "ef0aef6b",
   "metadata": {},
   "source": [
    "## Detect identic arrays"
   ]
  },
  {
   "cell_type": "code",
   "execution_count": 29,
   "id": "8e4ed591",
   "metadata": {},
   "outputs": [],
   "source": [
    "def detect_identic(\n",
    "        lhs_array: npt.ArrayLike,\n",
    "        rhs_array: npt.ArrayLike\n",
    ") -> bool:\n",
    "    \"\"\"\n",
    "    Check whether two arrays are equal or not\n",
    "    :param lhs_array: first array\n",
    "    :param rhs_array: second array\n",
    "    :return: True if input arrays are equal, False otherwise\n",
    "    \"\"\"\n",
    "    return np.array_equal(lhs_array, rhs_array)"
   ]
  },
  {
   "cell_type": "code",
   "execution_count": 30,
   "id": "cfd2c076",
   "metadata": {},
   "outputs": [
    {
     "data": {
      "text/plain": [
       "True"
      ]
     },
     "execution_count": 30,
     "metadata": {},
     "output_type": "execute_result"
    }
   ],
   "source": [
    "detect_identic(5, 5.0)"
   ]
  },
  {
   "cell_type": "code",
   "execution_count": 31,
   "id": "b79f5f8c",
   "metadata": {},
   "outputs": [
    {
     "data": {
      "text/plain": [
       "True"
      ]
     },
     "execution_count": 31,
     "metadata": {},
     "output_type": "execute_result"
    }
   ],
   "source": [
    "detect_identic('xyz', \"xyz\")"
   ]
  },
  {
   "cell_type": "code",
   "execution_count": 32,
   "id": "11cebef8",
   "metadata": {},
   "outputs": [
    {
     "data": {
      "text/plain": [
       "True"
      ]
     },
     "execution_count": 32,
     "metadata": {},
     "output_type": "execute_result"
    }
   ],
   "source": [
    "detect_identic([1, 2, 45], [1, 2, 45])"
   ]
  },
  {
   "cell_type": "code",
   "execution_count": 33,
   "id": "30d74e9b",
   "metadata": {},
   "outputs": [
    {
     "data": {
      "text/plain": [
       "True"
      ]
     },
     "execution_count": 33,
     "metadata": {},
     "output_type": "execute_result"
    }
   ],
   "source": [
    "detect_identic(np.zeros(10), np.ones(10) - 1)"
   ]
  },
  {
   "cell_type": "code",
   "execution_count": 34,
   "id": "f99c87c3",
   "metadata": {},
   "outputs": [
    {
     "data": {
      "text/plain": [
       "False"
      ]
     },
     "execution_count": 34,
     "metadata": {},
     "output_type": "execute_result"
    }
   ],
   "source": [
    "detect_identic([[0, 1], [2, 3]], np.arange(4))"
   ]
  },
  {
   "cell_type": "code",
   "execution_count": 35,
   "id": "723f24b2",
   "metadata": {},
   "outputs": [
    {
     "data": {
      "text/plain": [
       "True"
      ]
     },
     "execution_count": 35,
     "metadata": {},
     "output_type": "execute_result"
    }
   ],
   "source": [
    "detect_identic([[0, 1], [2, 3]], np.arange(4).reshape((2, 2)))"
   ]
  },
  {
   "cell_type": "code",
   "execution_count": 36,
   "id": "ce763dd7",
   "metadata": {},
   "outputs": [],
   "source": [
    "# TESTING AREA\n",
    "\n",
    "@dataclasses.dataclass\n",
    "class DetectIdenticCase:\n",
    "    lhs_array: npt.ArrayLike\n",
    "    rhs_array: npt.ArrayLike\n",
    "    result: bool\n",
    "\n",
    "\n",
    "DETECT_IDENTIC_TEST_CASES = [\n",
    "    DetectIdenticCase(\n",
    "        lhs_array=np.array([1, 2]),\n",
    "        rhs_array=np.array([1, 2]),\n",
    "        result=True),\n",
    "    DetectIdenticCase(\n",
    "        lhs_array=np.array([1., 2]),\n",
    "        rhs_array=np.array([1, 2.]),\n",
    "        result=True),\n",
    "    DetectIdenticCase(\n",
    "        lhs_array=np.array([1, 2]),\n",
    "        rhs_array=np.array([1.0001, 2]),\n",
    "        result=False),\n",
    "    DetectIdenticCase(\n",
    "        lhs_array=np.array([1, 2]),\n",
    "        rhs_array=np.array([[1, 2]]),\n",
    "        result=False),\n",
    "    DetectIdenticCase(\n",
    "        lhs_array=np.array([[1, 2, 3]]),\n",
    "        rhs_array=np.array([[1, 2]]),\n",
    "        result=False),\n",
    "    DetectIdenticCase(\n",
    "        lhs_array=np.array([]),\n",
    "        rhs_array=np.array([]),\n",
    "        result=True),\n",
    "    DetectIdenticCase(\n",
    "        lhs_array=3,\n",
    "        rhs_array=3,\n",
    "        result=True),\n",
    "    DetectIdenticCase(\n",
    "        lhs_array=np.array(range(3)),\n",
    "        rhs_array=np.array(range(3))[np.newaxis, :],\n",
    "        result=False),\n",
    "]\n",
    "\n",
    "for t in DETECT_IDENTIC_TEST_CASES:\n",
    "    assert_array_equal(detect_identic(t.lhs_array, t.rhs_array), t.result)"
   ]
  },
  {
   "cell_type": "markdown",
   "id": "02b2ee72",
   "metadata": {},
   "source": [
    "## Mean channel"
   ]
  },
  {
   "cell_type": "code",
   "execution_count": 50,
   "id": "b0584bb5",
   "metadata": {},
   "outputs": [],
   "source": [
    "def mean_channel(X: npt.NDArray[np.float_]) -> npt.NDArray[np.float_]:\n",
    "    \"\"\"\n",
    "    Given color image (3-dimensional array of size (n, m, 3).\n",
    "    Compute average value for all 3 channels\n",
    "    :param X: color image\n",
    "    :return: array of size 3 with average values\n",
    "    \"\"\"\n",
    "    return np.mean(X, axis=(0, 1))"
   ]
  },
  {
   "cell_type": "code",
   "execution_count": 45,
   "id": "dd8bc5a1",
   "metadata": {},
   "outputs": [],
   "source": [
    "A = np.arange(60).reshape(4, 5, 3)"
   ]
  },
  {
   "cell_type": "code",
   "execution_count": 49,
   "id": "c5c5e316",
   "metadata": {},
   "outputs": [
    {
     "data": {
      "text/plain": [
       "array([28.5, 29.5, 30.5])"
      ]
     },
     "execution_count": 49,
     "metadata": {},
     "output_type": "execute_result"
    }
   ],
   "source": [
    "np.mean(A, axis=(0, 1))"
   ]
  },
  {
   "cell_type": "code",
   "execution_count": 51,
   "id": "2c7c458f",
   "metadata": {},
   "outputs": [
    {
     "data": {
      "text/plain": [
       "array([22.5, 23.5, 24.5])"
      ]
     },
     "execution_count": 51,
     "metadata": {},
     "output_type": "execute_result"
    }
   ],
   "source": [
    "A = np.arange(48).reshape(4, 4, 3)\n",
    "mean_channel(A)"
   ]
  },
  {
   "cell_type": "code",
   "execution_count": 52,
   "id": "5c318a2a",
   "metadata": {},
   "outputs": [
    {
     "data": {
      "text/plain": [
       "array([0.50007022, 0.50073281, 0.49993379])"
      ]
     },
     "execution_count": 52,
     "metadata": {},
     "output_type": "execute_result"
    }
   ],
   "source": [
    "A = np.random.rand(1920, 1080, 3)\n",
    "mean_channel(A)"
   ]
  },
  {
   "cell_type": "code",
   "execution_count": 53,
   "id": "4ea8682e",
   "metadata": {},
   "outputs": [
    {
     "name": "stderr",
     "output_type": "stream",
     "text": [
      "/Library/Frameworks/Python.framework/Versions/3.10/lib/python3.10/site-packages/numpy/core/fromnumeric.py:3432: RuntimeWarning: Mean of empty slice.\n",
      "  return _methods._mean(a, axis=axis, dtype=dtype,\n",
      "/Library/Frameworks/Python.framework/Versions/3.10/lib/python3.10/site-packages/numpy/core/_methods.py:182: RuntimeWarning: invalid value encountered in divide\n",
      "  ret = um.true_divide(\n"
     ]
    }
   ],
   "source": [
    "# TESTING AREA\n",
    "\n",
    "@dataclasses.dataclass\n",
    "class MeanChannelCase:\n",
    "    X: npt.NDArray[np.float_]\n",
    "    result: npt.NDArray[np.float_]\n",
    "\n",
    "\n",
    "MEAN_CHANNEL_TEST_CASES = [\n",
    "    MeanChannelCase(\n",
    "        X=np.array(range(5 * 5 * 3)).reshape(5, 5, 3),\n",
    "        result=np.array([36, 37, 38])),\n",
    "    MeanChannelCase(\n",
    "        X=np.dstack((\n",
    "            (np.arange(320 * 240) % 64).reshape(320, 240),\n",
    "            (np.arange(320 * 240) % 64).reshape(320, 240) * 2,\n",
    "            (np.arange(320 * 240) % 64).reshape(320, 240) * 3)),\n",
    "        result=np.array([31.5, 63., 94.5])),\n",
    "    MeanChannelCase(\n",
    "        X=np.array([]).reshape(0, 0, 3),\n",
    "        result=np.array([np.nan, np.nan, np.nan]))\n",
    "]\n",
    "\n",
    "for t in MEAN_CHANNEL_TEST_CASES:\n",
    "    assert_array_equal(mean_channel(t.X), t.result)"
   ]
  },
  {
   "cell_type": "markdown",
   "id": "bebf786b",
   "metadata": {},
   "source": [
    "## Unique rows"
   ]
  },
  {
   "cell_type": "code",
   "execution_count": 79,
   "id": "460c86d9",
   "metadata": {},
   "outputs": [],
   "source": [
    "def get_unique_rows(X: npt.NDArray[np.int_]) -> npt.NDArray[np.int_]:\n",
    "    \"\"\"\n",
    "    Compute unique rows of matrix\n",
    "    :param X: matrix\n",
    "    :return: matrix of unique rows\n",
    "    \"\"\"\n",
    "    return np.unique(X, axis=0)"
   ]
  },
  {
   "cell_type": "code",
   "execution_count": 72,
   "id": "93cd6b91",
   "metadata": {},
   "outputs": [
    {
     "data": {
      "text/plain": [
       "array([[1, 2],\n",
       "       [2, 1],\n",
       "       [1, 2]])"
      ]
     },
     "execution_count": 72,
     "metadata": {},
     "output_type": "execute_result"
    }
   ],
   "source": [
    "A = np.array([[1, 2], [2, 1], [1, 2]])\n",
    "A"
   ]
  },
  {
   "cell_type": "code",
   "execution_count": 73,
   "id": "6185656f",
   "metadata": {},
   "outputs": [
    {
     "data": {
      "text/plain": [
       "array([[1, 2],\n",
       "       [2, 1],\n",
       "       [1, 2]])"
      ]
     },
     "execution_count": 73,
     "metadata": {},
     "output_type": "execute_result"
    }
   ],
   "source": [
    "get_unique_rows(A)"
   ]
  },
  {
   "cell_type": "code",
   "execution_count": 54,
   "id": "2f8a8ebc",
   "metadata": {},
   "outputs": [
    {
     "data": {
      "text/plain": [
       "array([1, 2, 3, 1, 2, 3, 1, 2, 3, 1, 2, 3])"
      ]
     },
     "execution_count": 54,
     "metadata": {},
     "output_type": "execute_result"
    }
   ],
   "source": [
    "np.tile([1, 2, 3], 4)"
   ]
  },
  {
   "cell_type": "code",
   "execution_count": 55,
   "id": "ca8f09f4",
   "metadata": {},
   "outputs": [
    {
     "data": {
      "text/plain": [
       "array([1, 1, 1, 1, 2, 2, 2, 2, 3, 3, 3, 3])"
      ]
     },
     "execution_count": 55,
     "metadata": {},
     "output_type": "execute_result"
    }
   ],
   "source": [
    "np.repeat([1, 2, 3], 4)"
   ]
  },
  {
   "cell_type": "code",
   "execution_count": 74,
   "id": "07965c5c",
   "metadata": {},
   "outputs": [
    {
     "data": {
      "text/plain": [
       "array([[1, 2, 4, 8],\n",
       "       [1, 2, 4, 8],\n",
       "       [1, 2, 4, 8],\n",
       "       [1, 2, 4, 8],\n",
       "       [1, 2, 4, 8]])"
      ]
     },
     "execution_count": 74,
     "metadata": {},
     "output_type": "execute_result"
    }
   ],
   "source": [
    "A = np.tile([1, 2, 4, 8], 5).reshape((5, -1))\n",
    "A"
   ]
  },
  {
   "cell_type": "code",
   "execution_count": 75,
   "id": "4b34cb83",
   "metadata": {},
   "outputs": [
    {
     "data": {
      "text/plain": [
       "array([[1, 2, 4, 8],\n",
       "       [1, 2, 4, 8],\n",
       "       [1, 2, 4, 8],\n",
       "       [1, 2, 4, 8],\n",
       "       [1, 2, 4, 8]])"
      ]
     },
     "execution_count": 75,
     "metadata": {},
     "output_type": "execute_result"
    }
   ],
   "source": [
    "get_unique_rows(A)"
   ]
  },
  {
   "cell_type": "code",
   "execution_count": 76,
   "id": "63829fe9",
   "metadata": {},
   "outputs": [
    {
     "data": {
      "text/plain": [
       "array([[1, 1, 1, 1, 1],\n",
       "       [2, 2, 2, 2, 2],\n",
       "       [4, 4, 4, 4, 4],\n",
       "       [8, 8, 8, 8, 8]])"
      ]
     },
     "execution_count": 76,
     "metadata": {},
     "output_type": "execute_result"
    }
   ],
   "source": [
    "A = np.repeat([1, 2, 4, 8], 5).reshape((-1, 5))\n",
    "A"
   ]
  },
  {
   "cell_type": "code",
   "execution_count": 77,
   "id": "8b9e13e7",
   "metadata": {},
   "outputs": [
    {
     "data": {
      "text/plain": [
       "array([[1],\n",
       "       [2],\n",
       "       [4],\n",
       "       [8]])"
      ]
     },
     "execution_count": 77,
     "metadata": {},
     "output_type": "execute_result"
    }
   ],
   "source": [
    "get_unique_rows(A)"
   ]
  },
  {
   "cell_type": "code",
   "execution_count": 80,
   "id": "bbe86eaf",
   "metadata": {},
   "outputs": [],
   "source": [
    "# TESTING AREA\n",
    "\n",
    "@dataclasses.dataclass\n",
    "class GetUniqueRowsCase:\n",
    "    X: npt.NDArray[np.int_]\n",
    "    result: npt.NDArray[np.int_]\n",
    "\n",
    "\n",
    "GET_UNIQUE_ROWS_TEST_CASES = [\n",
    "    GetUniqueRowsCase(\n",
    "        X=np.array([[1, 2, 3]]),\n",
    "        result=np.array([[1, 2, 3]])),\n",
    "    GetUniqueRowsCase(\n",
    "        X=np.array([[4, 5, 6], [0, 1, 2], [1, 2, 3], [0, 1, 2], [4, 5, 6], [1, 2, 3]]),\n",
    "        result=np.array([[0, 1, 2], [1, 2, 3], [4, 5, 6]])),\n",
    "]\n",
    "\n",
    "for t in GET_UNIQUE_ROWS_TEST_CASES:\n",
    "    assert_array_equal(get_unique_rows(t.X), t.result)"
   ]
  },
  {
   "cell_type": "markdown",
   "id": "726ccafb",
   "metadata": {},
   "source": [
    "## Construct matrix"
   ]
  },
  {
   "cell_type": "code",
   "execution_count": 189,
   "id": "97fea5f8",
   "metadata": {},
   "outputs": [],
   "source": [
    "def construct_matrix(\n",
    "        first_array: npt.NDArray[np.int_], second_array: npt.NDArray[np.int_]\n",
    ") -> npt.NDArray[np.int_]:\n",
    "    \"\"\"\n",
    "    Construct matrix from pair of arrays\n",
    "    :param first_array: first array\n",
    "    :param second_array: second array\n",
    "    :return: constructed matrix\n",
    "    \"\"\""
   ]
  },
  {
   "cell_type": "code",
   "execution_count": 188,
   "id": "80948bb7",
   "metadata": {},
   "outputs": [
    {
     "data": {
      "text/plain": [
       "array([[-1, 10],\n",
       "       [-2, 20],\n",
       "       [-3, 30]])"
      ]
     },
     "execution_count": 188,
     "metadata": {},
     "output_type": "execute_result"
    }
   ],
   "source": [
    "construct_matrix([-1, -2, -3], [10, 20, 30])"
   ]
  },
  {
   "cell_type": "code",
   "execution_count": 184,
   "id": "c2f52cc6",
   "metadata": {},
   "outputs": [],
   "source": [
    "@dataclasses.dataclass\n",
    "class ConstructMatrixCase:\n",
    "    first_array: npt.NDArray[np.int_]\n",
    "    second_array: npt.NDArray[np.int_]\n",
    "    result: npt.NDArray[np.int_]\n",
    "\n",
    "\n",
    "CONSTRUCT_MATRIX_TEST_CASES = [\n",
    "    ConstructMatrixCase(\n",
    "        first_array=np.array([1, 2, 3]),\n",
    "        second_array=np.array([4, 5, 6]),\n",
    "        result=np.array([[1, 4], [2, 5], [3, 6]])),\n",
    "    ConstructMatrixCase(\n",
    "        first_array=np.array([]),\n",
    "        second_array=np.array([]),\n",
    "        result=np.array([]).reshape(0, 2)),\n",
    "    ConstructMatrixCase(\n",
    "        first_array=np.array([1]),\n",
    "        second_array=np.array([2]),\n",
    "        result=np.array([[1, 2]])),\n",
    "    ConstructMatrixCase(\n",
    "        first_array=np.arange(0, 100, 2),\n",
    "        second_array=np.arange(1, 100, 2),\n",
    "        result=np.arange(100).reshape(50, 2))\n",
    "]\n",
    "\n",
    "for t in CONSTRUCT_MATRIX_TEST_CASES:\n",
    "    assert_array_equal(construct_matrix(t.first_array, t.second_array), t.result)"
   ]
  },
  {
   "cell_type": "markdown",
   "id": "f31f9fdf",
   "metadata": {},
   "source": [
    "## Add zeros"
   ]
  },
  {
   "cell_type": "code",
   "execution_count": 90,
   "id": "192b6908",
   "metadata": {},
   "outputs": [],
   "source": [
    "import numpy as np\n",
    "import numpy.typing as npt\n",
    "\n",
    "\n",
    "def add_zeros(x: npt.NDArray[np.int_]) -> npt.NDArray[np.int_]:\n",
    "    \"\"\"\n",
    "    Add zeros between values of given array\n",
    "    E.g.: [-1, 3, 5] -> [-1, 0, 3, 0, 5]\n",
    "    :param x: array,\n",
    "    :return: array with zeros inserted\n",
    "    \"\"\"\n",
    "    n = len(x)\n",
    "    if n == 0:\n",
    "        return np.array([], dtype=int)\n",
    "    result = np.zeros(2*n - 1, dtype=int)\n",
    "    result[::2] = x\n",
    "    return result"
   ]
  },
  {
   "cell_type": "code",
   "execution_count": 87,
   "id": "8234fb7e",
   "metadata": {},
   "outputs": [
    {
     "data": {
      "text/plain": [
       "array([-1,  0,  3,  0,  5,  0,  2])"
      ]
     },
     "execution_count": 87,
     "metadata": {},
     "output_type": "execute_result"
    }
   ],
   "source": [
    "add_zeros([-1, 3, 5, 2])"
   ]
  },
  {
   "cell_type": "code",
   "execution_count": 88,
   "id": "1ac12d04",
   "metadata": {},
   "outputs": [
    {
     "data": {
      "text/plain": [
       "array([1])"
      ]
     },
     "execution_count": 88,
     "metadata": {},
     "output_type": "execute_result"
    }
   ],
   "source": [
    "add_zeros([1])"
   ]
  },
  {
   "cell_type": "code",
   "execution_count": 91,
   "id": "316878f3",
   "metadata": {},
   "outputs": [
    {
     "data": {
      "text/plain": [
       "array([], dtype=int64)"
      ]
     },
     "execution_count": 91,
     "metadata": {},
     "output_type": "execute_result"
    }
   ],
   "source": [
    "add_zeros([])"
   ]
  },
  {
   "cell_type": "markdown",
   "id": "955f4af6",
   "metadata": {},
   "source": [
    "## Max element after 0"
   ]
  },
  {
   "cell_type": "code",
   "execution_count": 53,
   "id": "eb0a79c5",
   "metadata": {},
   "outputs": [],
   "source": [
    "def max_element(array: npt.NDArray[np.int_]) -> int | None:\n",
    "    \"\"\"\n",
    "    Return max element after zero for input array.\n",
    "    If appropriate elements are absent, then return None\n",
    "    E.g., [6, 2, 0, 3, 0, 0, 5, 7, 0] -> 5\n",
    "    :param array: array,\n",
    "    :return: max element value or None\n",
    "    \"\"\""
   ]
  },
  {
   "cell_type": "markdown",
   "id": "59436751",
   "metadata": {},
   "source": [
    "## Nearest value"
   ]
  },
  {
   "cell_type": "code",
   "execution_count": 109,
   "id": "ad2f3047",
   "metadata": {},
   "outputs": [],
   "source": [
    "def nearest_value(matrix: npt.NDArray[np.float_], value: float) -> float | None:\n",
    "    \"\"\"\n",
    "    Find nearest value in matrix.\n",
    "    If matrix is empty return None\n",
    "    E.g., matrix = np.arange(0,10).reshape((2, 5)) and value = 3.6 give 4\n",
    "    :param matrix: input matrix\n",
    "    :param value: value to find\n",
    "    :return: nearest value in matrix or None\n",
    "    \"\"\"\n",
    "    if matrix.size == 0:\n",
    "        return None\n",
    "    return matrix.ravel()[np.argmin(np.abs(matrix - value))]"
   ]
  },
  {
   "cell_type": "code",
   "execution_count": 110,
   "id": "f9888d7c",
   "metadata": {},
   "outputs": [
    {
     "data": {
      "text/plain": [
       "array([[0, 1, 2, 3, 4],\n",
       "       [5, 6, 7, 8, 9]])"
      ]
     },
     "execution_count": 110,
     "metadata": {},
     "output_type": "execute_result"
    }
   ],
   "source": [
    "matrix = np.arange(0,10).reshape((2, 5))\n",
    "matrix"
   ]
  },
  {
   "cell_type": "code",
   "execution_count": 113,
   "id": "ebd88c97",
   "metadata": {},
   "outputs": [
    {
     "data": {
      "text/plain": [
       "9"
      ]
     },
     "execution_count": 113,
     "metadata": {},
     "output_type": "execute_result"
    }
   ],
   "source": [
    "nearest_value(matrix, 12.3)"
   ]
  },
  {
   "cell_type": "code",
   "execution_count": 93,
   "id": "ec7f156e",
   "metadata": {},
   "outputs": [
    {
     "data": {
      "text/plain": [
       "10"
      ]
     },
     "execution_count": 93,
     "metadata": {},
     "output_type": "execute_result"
    }
   ],
   "source": [
    "matrix.size"
   ]
  },
  {
   "cell_type": "code",
   "execution_count": 97,
   "id": "09b496d4",
   "metadata": {},
   "outputs": [
    {
     "data": {
      "text/plain": [
       "array([[3.6, 2.6, 1.6, 0.6, 0.4],\n",
       "       [1.4, 2.4, 3.4, 4.4, 5.4]])"
      ]
     },
     "execution_count": 97,
     "metadata": {},
     "output_type": "execute_result"
    }
   ],
   "source": [
    "np.abs(matrix - 3.6)"
   ]
  },
  {
   "cell_type": "code",
   "execution_count": 98,
   "id": "850c4892",
   "metadata": {},
   "outputs": [
    {
     "data": {
      "text/plain": [
       "0.3999999999999999"
      ]
     },
     "execution_count": 98,
     "metadata": {},
     "output_type": "execute_result"
    }
   ],
   "source": [
    "np.min(np.abs(matrix - 3.6))"
   ]
  },
  {
   "cell_type": "code",
   "execution_count": 99,
   "id": "026d31fc",
   "metadata": {},
   "outputs": [
    {
     "data": {
      "text/plain": [
       "4"
      ]
     },
     "execution_count": 99,
     "metadata": {},
     "output_type": "execute_result"
    }
   ],
   "source": [
    "np.argmin(np.abs(matrix - 3.6))"
   ]
  },
  {
   "cell_type": "code",
   "execution_count": 100,
   "id": "3cafbe77",
   "metadata": {},
   "outputs": [
    {
     "data": {
      "text/plain": [
       "array([[0.4182803 , 0.90114094, 0.68363347, 0.28737984, 0.97927751],\n",
       "       [0.43466453, 0.77360153, 0.89142257, 0.26800294, 0.33989471]])"
      ]
     },
     "execution_count": 100,
     "metadata": {},
     "output_type": "execute_result"
    }
   ],
   "source": [
    "B = np.random.rand(2, 5)\n",
    "B"
   ]
  },
  {
   "cell_type": "code",
   "execution_count": 103,
   "id": "51341622",
   "metadata": {},
   "outputs": [
    {
     "data": {
      "text/plain": [
       "array([3, 3])"
      ]
     },
     "execution_count": 103,
     "metadata": {},
     "output_type": "execute_result"
    }
   ],
   "source": [
    "np.argmin(B, axis=1)"
   ]
  },
  {
   "cell_type": "markdown",
   "id": "ab927824",
   "metadata": {},
   "source": [
    "## Nonzero value"
   ]
  },
  {
   "cell_type": "code",
   "execution_count": 126,
   "id": "0d068374",
   "metadata": {},
   "outputs": [],
   "source": [
    "def nonzero_product(matrix: npt.NDArray[np.int_]) -> int | None:\n",
    "    \"\"\"\n",
    "    Compute product of nonzero diagonal elements of matrix\n",
    "    If all diagonal elements are zeros, then return None\n",
    "    :param matrix: array,\n",
    "    :return: product value or None\n",
    "    \"\"\"\n",
    "    diag = np.diag(matrix)\n",
    "    nonzero_diag = diag[diag > 0]\n",
    "    if nonzero_diag.size == 0:\n",
    "        return None\n",
    "    return diag[diag > 0].prod()"
   ]
  },
  {
   "cell_type": "code",
   "execution_count": 114,
   "id": "7c452da1",
   "metadata": {},
   "outputs": [
    {
     "data": {
      "text/plain": [
       "array([[ 5.97353067,  1.93997272,  1.67749668, -1.29113379],\n",
       "       [-4.0039145 ,  3.67314016,  3.35010369, -2.43998486],\n",
       "       [ 3.09972675,  3.42472   ,  1.68171891,  1.74381176]])"
      ]
     },
     "execution_count": 114,
     "metadata": {},
     "output_type": "execute_result"
    }
   ],
   "source": [
    "A = np.random.normal(2, 4, (3, 4))\n",
    "A"
   ]
  },
  {
   "cell_type": "code",
   "execution_count": 115,
   "id": "0ca87a79",
   "metadata": {},
   "outputs": [
    {
     "data": {
      "text/plain": [
       "array([5.97353067, 3.67314016, 1.68171891])"
      ]
     },
     "execution_count": 115,
     "metadata": {},
     "output_type": "execute_result"
    }
   ],
   "source": [
    "np.diag(A)"
   ]
  },
  {
   "cell_type": "code",
   "execution_count": 122,
   "id": "91f32a3a",
   "metadata": {},
   "outputs": [
    {
     "data": {
      "text/plain": [
       "36.89962954880613"
      ]
     },
     "execution_count": 122,
     "metadata": {},
     "output_type": "execute_result"
    }
   ],
   "source": [
    "nonzero_product(A)"
   ]
  },
  {
   "cell_type": "code",
   "execution_count": 118,
   "id": "3e5df37a",
   "metadata": {},
   "outputs": [
    {
     "data": {
      "text/plain": [
       "array([[1, 2],\n",
       "       [3, 0]])"
      ]
     },
     "execution_count": 118,
     "metadata": {},
     "output_type": "execute_result"
    }
   ],
   "source": [
    "B = np.array([[1, 2], [3, 0]])\n",
    "B"
   ]
  },
  {
   "cell_type": "code",
   "execution_count": 123,
   "id": "a7a914ff",
   "metadata": {},
   "outputs": [
    {
     "data": {
      "text/plain": [
       "1"
      ]
     },
     "execution_count": 123,
     "metadata": {},
     "output_type": "execute_result"
    }
   ],
   "source": [
    "nonzero_product(B)"
   ]
  },
  {
   "cell_type": "code",
   "execution_count": 120,
   "id": "fd1e1de7",
   "metadata": {},
   "outputs": [
    {
     "data": {
      "text/plain": [
       "array([[0, 2],\n",
       "       [3, 0]])"
      ]
     },
     "execution_count": 120,
     "metadata": {},
     "output_type": "execute_result"
    }
   ],
   "source": [
    "C = np.array([[0, 2], [3, 0]])\n",
    "C"
   ]
  },
  {
   "cell_type": "code",
   "execution_count": 128,
   "id": "e638dc2c",
   "metadata": {},
   "outputs": [
    {
     "name": "stdout",
     "output_type": "stream",
     "text": [
      "None\n"
     ]
    }
   ],
   "source": [
    "print(nonzero_product(C))"
   ]
  },
  {
   "cell_type": "markdown",
   "id": "7eb223c8",
   "metadata": {},
   "source": [
    "## Titanic"
   ]
  },
  {
   "cell_type": "code",
   "execution_count": 130,
   "id": "b4d072d6",
   "metadata": {},
   "outputs": [
    {
     "data": {
      "text/plain": [
       "(156, 12)"
      ]
     },
     "execution_count": 130,
     "metadata": {},
     "output_type": "execute_result"
    }
   ],
   "source": [
    "df = pd.read_csv('titanic.csv', sep='\\t')\n",
    "df.shape"
   ]
  },
  {
   "cell_type": "code",
   "execution_count": 140,
   "id": "5bd9d044",
   "metadata": {},
   "outputs": [
    {
     "name": "stdout",
     "output_type": "stream",
     "text": [
      "<class 'pandas.core.frame.DataFrame'>\n",
      "RangeIndex: 156 entries, 0 to 155\n",
      "Data columns (total 12 columns):\n",
      " #   Column       Non-Null Count  Dtype  \n",
      "---  ------       --------------  -----  \n",
      " 0   PassengerId  156 non-null    int64  \n",
      " 1   Survived     156 non-null    int64  \n",
      " 2   Pclass       156 non-null    int64  \n",
      " 3   Name         156 non-null    object \n",
      " 4   Sex          156 non-null    object \n",
      " 5   Age          126 non-null    float64\n",
      " 6   SibSp        156 non-null    int64  \n",
      " 7   Parch        156 non-null    int64  \n",
      " 8   Ticket       156 non-null    object \n",
      " 9   Fare         156 non-null    float64\n",
      " 10  Cabin        31 non-null     object \n",
      " 11  Embarked     155 non-null    object \n",
      "dtypes: float64(2), int64(5), object(5)\n",
      "memory usage: 14.8+ KB\n"
     ]
    }
   ],
   "source": [
    "df.info()"
   ]
  },
  {
   "cell_type": "code",
   "execution_count": 144,
   "id": "de52ae77",
   "metadata": {},
   "outputs": [
    {
     "data": {
      "text/plain": [
       "Index(['Age', 'Cabin', 'Embarked'], dtype='object')"
      ]
     },
     "execution_count": 144,
     "metadata": {},
     "output_type": "execute_result"
    }
   ],
   "source": [
    "df.columns[df.isna().any()]"
   ]
  },
  {
   "cell_type": "code",
   "execution_count": 142,
   "id": "8e9aab14",
   "metadata": {},
   "outputs": [
    {
     "data": {
      "text/plain": [
       "PassengerId    False\n",
       "Survived       False\n",
       "Pclass         False\n",
       "Name           False\n",
       "Sex            False\n",
       "Age             True\n",
       "SibSp          False\n",
       "Parch          False\n",
       "Ticket         False\n",
       "Fare           False\n",
       "Cabin           True\n",
       "Embarked        True\n",
       "dtype: bool"
      ]
     },
     "execution_count": 142,
     "metadata": {},
     "output_type": "execute_result"
    }
   ],
   "source": [
    "df.isna().any()"
   ]
  },
  {
   "cell_type": "code",
   "execution_count": 131,
   "id": "0f6a4ade",
   "metadata": {},
   "outputs": [
    {
     "data": {
      "text/html": [
       "<div>\n",
       "<style scoped>\n",
       "    .dataframe tbody tr th:only-of-type {\n",
       "        vertical-align: middle;\n",
       "    }\n",
       "\n",
       "    .dataframe tbody tr th {\n",
       "        vertical-align: top;\n",
       "    }\n",
       "\n",
       "    .dataframe thead th {\n",
       "        text-align: right;\n",
       "    }\n",
       "</style>\n",
       "<table border=\"1\" class=\"dataframe\">\n",
       "  <thead>\n",
       "    <tr style=\"text-align: right;\">\n",
       "      <th></th>\n",
       "      <th>PassengerId</th>\n",
       "      <th>Survived</th>\n",
       "      <th>Pclass</th>\n",
       "      <th>Name</th>\n",
       "      <th>Sex</th>\n",
       "      <th>Age</th>\n",
       "      <th>SibSp</th>\n",
       "      <th>Parch</th>\n",
       "      <th>Ticket</th>\n",
       "      <th>Fare</th>\n",
       "      <th>Cabin</th>\n",
       "      <th>Embarked</th>\n",
       "    </tr>\n",
       "  </thead>\n",
       "  <tbody>\n",
       "    <tr>\n",
       "      <th>0</th>\n",
       "      <td>1</td>\n",
       "      <td>0</td>\n",
       "      <td>3</td>\n",
       "      <td>Braund, Mr. Owen Harris</td>\n",
       "      <td>male</td>\n",
       "      <td>22.0</td>\n",
       "      <td>1</td>\n",
       "      <td>0</td>\n",
       "      <td>A/5 21171</td>\n",
       "      <td>7.2500</td>\n",
       "      <td>NaN</td>\n",
       "      <td>S</td>\n",
       "    </tr>\n",
       "    <tr>\n",
       "      <th>1</th>\n",
       "      <td>2</td>\n",
       "      <td>1</td>\n",
       "      <td>1</td>\n",
       "      <td>Cumings, Mrs. John Bradley (Florence Briggs Th...</td>\n",
       "      <td>female</td>\n",
       "      <td>38.0</td>\n",
       "      <td>1</td>\n",
       "      <td>0</td>\n",
       "      <td>PC 17599</td>\n",
       "      <td>71.2833</td>\n",
       "      <td>C85</td>\n",
       "      <td>C</td>\n",
       "    </tr>\n",
       "    <tr>\n",
       "      <th>2</th>\n",
       "      <td>3</td>\n",
       "      <td>1</td>\n",
       "      <td>3</td>\n",
       "      <td>Heikkinen, Miss. Laina</td>\n",
       "      <td>female</td>\n",
       "      <td>26.0</td>\n",
       "      <td>0</td>\n",
       "      <td>0</td>\n",
       "      <td>STON/O2. 3101282</td>\n",
       "      <td>7.9250</td>\n",
       "      <td>NaN</td>\n",
       "      <td>S</td>\n",
       "    </tr>\n",
       "    <tr>\n",
       "      <th>3</th>\n",
       "      <td>4</td>\n",
       "      <td>1</td>\n",
       "      <td>1</td>\n",
       "      <td>Futrelle, Mrs. Jacques Heath (Lily May Peel)</td>\n",
       "      <td>female</td>\n",
       "      <td>35.0</td>\n",
       "      <td>1</td>\n",
       "      <td>0</td>\n",
       "      <td>113803</td>\n",
       "      <td>53.1000</td>\n",
       "      <td>C123</td>\n",
       "      <td>S</td>\n",
       "    </tr>\n",
       "    <tr>\n",
       "      <th>4</th>\n",
       "      <td>5</td>\n",
       "      <td>0</td>\n",
       "      <td>3</td>\n",
       "      <td>Allen, Mr. William Henry</td>\n",
       "      <td>male</td>\n",
       "      <td>35.0</td>\n",
       "      <td>0</td>\n",
       "      <td>0</td>\n",
       "      <td>373450</td>\n",
       "      <td>8.0500</td>\n",
       "      <td>NaN</td>\n",
       "      <td>S</td>\n",
       "    </tr>\n",
       "    <tr>\n",
       "      <th>5</th>\n",
       "      <td>6</td>\n",
       "      <td>0</td>\n",
       "      <td>3</td>\n",
       "      <td>Moran, Mr. James</td>\n",
       "      <td>male</td>\n",
       "      <td>NaN</td>\n",
       "      <td>0</td>\n",
       "      <td>0</td>\n",
       "      <td>330877</td>\n",
       "      <td>8.4583</td>\n",
       "      <td>NaN</td>\n",
       "      <td>Q</td>\n",
       "    </tr>\n",
       "    <tr>\n",
       "      <th>6</th>\n",
       "      <td>7</td>\n",
       "      <td>0</td>\n",
       "      <td>1</td>\n",
       "      <td>McCarthy, Mr. Timothy J</td>\n",
       "      <td>male</td>\n",
       "      <td>54.0</td>\n",
       "      <td>0</td>\n",
       "      <td>0</td>\n",
       "      <td>17463</td>\n",
       "      <td>51.8625</td>\n",
       "      <td>E46</td>\n",
       "      <td>S</td>\n",
       "    </tr>\n",
       "    <tr>\n",
       "      <th>7</th>\n",
       "      <td>8</td>\n",
       "      <td>0</td>\n",
       "      <td>3</td>\n",
       "      <td>Palsson, Master. Gosta Leonard</td>\n",
       "      <td>male</td>\n",
       "      <td>2.0</td>\n",
       "      <td>3</td>\n",
       "      <td>1</td>\n",
       "      <td>349909</td>\n",
       "      <td>21.0750</td>\n",
       "      <td>NaN</td>\n",
       "      <td>S</td>\n",
       "    </tr>\n",
       "    <tr>\n",
       "      <th>8</th>\n",
       "      <td>9</td>\n",
       "      <td>1</td>\n",
       "      <td>3</td>\n",
       "      <td>Johnson, Mrs. Oscar W (Elisabeth Vilhelmina Berg)</td>\n",
       "      <td>female</td>\n",
       "      <td>27.0</td>\n",
       "      <td>0</td>\n",
       "      <td>2</td>\n",
       "      <td>347742</td>\n",
       "      <td>11.1333</td>\n",
       "      <td>NaN</td>\n",
       "      <td>S</td>\n",
       "    </tr>\n",
       "    <tr>\n",
       "      <th>9</th>\n",
       "      <td>10</td>\n",
       "      <td>1</td>\n",
       "      <td>2</td>\n",
       "      <td>Nasser, Mrs. Nicholas (Adele Achem)</td>\n",
       "      <td>female</td>\n",
       "      <td>14.0</td>\n",
       "      <td>1</td>\n",
       "      <td>0</td>\n",
       "      <td>237736</td>\n",
       "      <td>30.0708</td>\n",
       "      <td>NaN</td>\n",
       "      <td>C</td>\n",
       "    </tr>\n",
       "    <tr>\n",
       "      <th>10</th>\n",
       "      <td>11</td>\n",
       "      <td>1</td>\n",
       "      <td>3</td>\n",
       "      <td>Sandstrom, Miss. Marguerite Rut</td>\n",
       "      <td>female</td>\n",
       "      <td>4.0</td>\n",
       "      <td>1</td>\n",
       "      <td>1</td>\n",
       "      <td>PP 9549</td>\n",
       "      <td>16.7000</td>\n",
       "      <td>G6</td>\n",
       "      <td>S</td>\n",
       "    </tr>\n",
       "  </tbody>\n",
       "</table>\n",
       "</div>"
      ],
      "text/plain": [
       "    PassengerId  Survived  Pclass  \\\n",
       "0             1         0       3   \n",
       "1             2         1       1   \n",
       "2             3         1       3   \n",
       "3             4         1       1   \n",
       "4             5         0       3   \n",
       "5             6         0       3   \n",
       "6             7         0       1   \n",
       "7             8         0       3   \n",
       "8             9         1       3   \n",
       "9            10         1       2   \n",
       "10           11         1       3   \n",
       "\n",
       "                                                 Name     Sex   Age  SibSp  \\\n",
       "0                             Braund, Mr. Owen Harris    male  22.0      1   \n",
       "1   Cumings, Mrs. John Bradley (Florence Briggs Th...  female  38.0      1   \n",
       "2                              Heikkinen, Miss. Laina  female  26.0      0   \n",
       "3        Futrelle, Mrs. Jacques Heath (Lily May Peel)  female  35.0      1   \n",
       "4                            Allen, Mr. William Henry    male  35.0      0   \n",
       "5                                    Moran, Mr. James    male   NaN      0   \n",
       "6                             McCarthy, Mr. Timothy J    male  54.0      0   \n",
       "7                      Palsson, Master. Gosta Leonard    male   2.0      3   \n",
       "8   Johnson, Mrs. Oscar W (Elisabeth Vilhelmina Berg)  female  27.0      0   \n",
       "9                 Nasser, Mrs. Nicholas (Adele Achem)  female  14.0      1   \n",
       "10                    Sandstrom, Miss. Marguerite Rut  female   4.0      1   \n",
       "\n",
       "    Parch            Ticket     Fare Cabin Embarked  \n",
       "0       0         A/5 21171   7.2500   NaN        S  \n",
       "1       0          PC 17599  71.2833   C85        C  \n",
       "2       0  STON/O2. 3101282   7.9250   NaN        S  \n",
       "3       0            113803  53.1000  C123        S  \n",
       "4       0            373450   8.0500   NaN        S  \n",
       "5       0            330877   8.4583   NaN        Q  \n",
       "6       0             17463  51.8625   E46        S  \n",
       "7       1            349909  21.0750   NaN        S  \n",
       "8       2            347742  11.1333   NaN        S  \n",
       "9       0            237736  30.0708   NaN        C  \n",
       "10      1           PP 9549  16.7000    G6        S  "
      ]
     },
     "execution_count": 131,
     "metadata": {},
     "output_type": "execute_result"
    }
   ],
   "source": [
    "df.head(11)"
   ]
  },
  {
   "cell_type": "code",
   "execution_count": 161,
   "id": "13225809",
   "metadata": {},
   "outputs": [
    {
     "data": {
      "text/plain": [
       "Pclass\n",
       "1    30\n",
       "2    30\n",
       "3    96\n",
       "Name: Pclass, dtype: int64"
      ]
     },
     "execution_count": 161,
     "metadata": {},
     "output_type": "execute_result"
    }
   ],
   "source": [
    "counts = df.groupby('Pclass')['Pclass'].count()\n",
    "counts"
   ]
  },
  {
   "cell_type": "code",
   "execution_count": 162,
   "id": "0cfa0ef1",
   "metadata": {},
   "outputs": [
    {
     "data": {
      "text/plain": [
       "Pclass\n",
       "1    0.192308\n",
       "2    0.192308\n",
       "3    0.615385\n",
       "Name: Pclass, dtype: float64"
      ]
     },
     "execution_count": 162,
     "metadata": {},
     "output_type": "execute_result"
    }
   ],
   "source": [
    "counts / df.shape[0]"
   ]
  },
  {
   "cell_type": "code",
   "execution_count": 148,
   "id": "cc890e43",
   "metadata": {},
   "outputs": [
    {
     "data": {
      "text/html": [
       "<div>\n",
       "<style scoped>\n",
       "    .dataframe tbody tr th:only-of-type {\n",
       "        vertical-align: middle;\n",
       "    }\n",
       "\n",
       "    .dataframe tbody tr th {\n",
       "        vertical-align: top;\n",
       "    }\n",
       "\n",
       "    .dataframe thead th {\n",
       "        text-align: right;\n",
       "    }\n",
       "</style>\n",
       "<table border=\"1\" class=\"dataframe\">\n",
       "  <thead>\n",
       "    <tr style=\"text-align: right;\">\n",
       "      <th></th>\n",
       "      <th>PassengerId</th>\n",
       "      <th>Survived</th>\n",
       "      <th>Pclass</th>\n",
       "      <th>Name</th>\n",
       "      <th>Sex</th>\n",
       "      <th>Age</th>\n",
       "      <th>SibSp</th>\n",
       "      <th>Parch</th>\n",
       "      <th>Ticket</th>\n",
       "      <th>Fare</th>\n",
       "      <th>Cabin</th>\n",
       "      <th>Embarked</th>\n",
       "      <th>Family</th>\n",
       "    </tr>\n",
       "  </thead>\n",
       "  <tbody>\n",
       "    <tr>\n",
       "      <th>0</th>\n",
       "      <td>1</td>\n",
       "      <td>0</td>\n",
       "      <td>3</td>\n",
       "      <td>Braund, Mr. Owen Harris</td>\n",
       "      <td>male</td>\n",
       "      <td>22.0</td>\n",
       "      <td>1</td>\n",
       "      <td>0</td>\n",
       "      <td>A/5 21171</td>\n",
       "      <td>7.2500</td>\n",
       "      <td>NaN</td>\n",
       "      <td>S</td>\n",
       "      <td>Braund</td>\n",
       "    </tr>\n",
       "    <tr>\n",
       "      <th>1</th>\n",
       "      <td>2</td>\n",
       "      <td>1</td>\n",
       "      <td>1</td>\n",
       "      <td>Cumings, Mrs. John Bradley (Florence Briggs Th...</td>\n",
       "      <td>female</td>\n",
       "      <td>38.0</td>\n",
       "      <td>1</td>\n",
       "      <td>0</td>\n",
       "      <td>PC 17599</td>\n",
       "      <td>71.2833</td>\n",
       "      <td>C85</td>\n",
       "      <td>C</td>\n",
       "      <td>Cumings</td>\n",
       "    </tr>\n",
       "    <tr>\n",
       "      <th>2</th>\n",
       "      <td>3</td>\n",
       "      <td>1</td>\n",
       "      <td>3</td>\n",
       "      <td>Heikkinen, Miss. Laina</td>\n",
       "      <td>female</td>\n",
       "      <td>26.0</td>\n",
       "      <td>0</td>\n",
       "      <td>0</td>\n",
       "      <td>STON/O2. 3101282</td>\n",
       "      <td>7.9250</td>\n",
       "      <td>NaN</td>\n",
       "      <td>S</td>\n",
       "      <td>Heikkinen</td>\n",
       "    </tr>\n",
       "    <tr>\n",
       "      <th>3</th>\n",
       "      <td>4</td>\n",
       "      <td>1</td>\n",
       "      <td>1</td>\n",
       "      <td>Futrelle, Mrs. Jacques Heath (Lily May Peel)</td>\n",
       "      <td>female</td>\n",
       "      <td>35.0</td>\n",
       "      <td>1</td>\n",
       "      <td>0</td>\n",
       "      <td>113803</td>\n",
       "      <td>53.1000</td>\n",
       "      <td>C123</td>\n",
       "      <td>S</td>\n",
       "      <td>Futrelle</td>\n",
       "    </tr>\n",
       "    <tr>\n",
       "      <th>4</th>\n",
       "      <td>5</td>\n",
       "      <td>0</td>\n",
       "      <td>3</td>\n",
       "      <td>Allen, Mr. William Henry</td>\n",
       "      <td>male</td>\n",
       "      <td>35.0</td>\n",
       "      <td>0</td>\n",
       "      <td>0</td>\n",
       "      <td>373450</td>\n",
       "      <td>8.0500</td>\n",
       "      <td>NaN</td>\n",
       "      <td>S</td>\n",
       "      <td>Allen</td>\n",
       "    </tr>\n",
       "  </tbody>\n",
       "</table>\n",
       "</div>"
      ],
      "text/plain": [
       "   PassengerId  Survived  Pclass  \\\n",
       "0            1         0       3   \n",
       "1            2         1       1   \n",
       "2            3         1       3   \n",
       "3            4         1       1   \n",
       "4            5         0       3   \n",
       "\n",
       "                                                Name     Sex   Age  SibSp  \\\n",
       "0                            Braund, Mr. Owen Harris    male  22.0      1   \n",
       "1  Cumings, Mrs. John Bradley (Florence Briggs Th...  female  38.0      1   \n",
       "2                             Heikkinen, Miss. Laina  female  26.0      0   \n",
       "3       Futrelle, Mrs. Jacques Heath (Lily May Peel)  female  35.0      1   \n",
       "4                           Allen, Mr. William Henry    male  35.0      0   \n",
       "\n",
       "   Parch            Ticket     Fare Cabin Embarked     Family  \n",
       "0      0         A/5 21171   7.2500   NaN        S     Braund  \n",
       "1      0          PC 17599  71.2833   C85        C    Cumings  \n",
       "2      0  STON/O2. 3101282   7.9250   NaN        S  Heikkinen  \n",
       "3      0            113803  53.1000  C123        S   Futrelle  \n",
       "4      0            373450   8.0500   NaN        S      Allen  "
      ]
     },
     "execution_count": 148,
     "metadata": {},
     "output_type": "execute_result"
    }
   ],
   "source": [
    "df['Family'] = df.apply(lambda row: row['Name'].split(\",\")[0], axis=1)\n",
    "df.head()"
   ]
  },
  {
   "cell_type": "code",
   "execution_count": 155,
   "id": "e3ea2308",
   "metadata": {},
   "outputs": [
    {
     "data": {
      "text/plain": [
       "141"
      ]
     },
     "execution_count": 155,
     "metadata": {},
     "output_type": "execute_result"
    }
   ],
   "source": [
    "(df['Family'].value_counts() > 0).sum()"
   ]
  },
  {
   "cell_type": "code",
   "execution_count": 146,
   "id": "b1773dfa",
   "metadata": {},
   "outputs": [
    {
     "data": {
      "text/plain": [
       "'Braund'"
      ]
     },
     "execution_count": 146,
     "metadata": {},
     "output_type": "execute_result"
    }
   ],
   "source": [
    "s = \"Braund, Mr. Owen Harris\"\n",
    "s.split(\",\")[0]"
   ]
  },
  {
   "cell_type": "code",
   "execution_count": 139,
   "id": "1de22d1c",
   "metadata": {},
   "outputs": [
    {
     "data": {
      "text/plain": [
       "30.0"
      ]
     },
     "execution_count": 139,
     "metadata": {},
     "output_type": "execute_result"
    }
   ],
   "source": [
    "df[(df['Sex'] == 'male') & (df['Survived'] == 1) & (df['Embarked'] == 'S') & (df['Fare'] > 30)][\"Age\"].mean()"
   ]
  },
  {
   "cell_type": "code",
   "execution_count": null,
   "id": "8558ef02",
   "metadata": {},
   "outputs": [],
   "source": []
  },
  {
   "cell_type": "code",
   "execution_count": 156,
   "id": "9218856b",
   "metadata": {},
   "outputs": [
    {
     "ename": "NameError",
     "evalue": "name 'tp' is not defined",
     "output_type": "error",
     "traceback": [
      "\u001b[0;31m---------------------------------------------------------------------------\u001b[0m",
      "\u001b[0;31mNameError\u001b[0m                                 Traceback (most recent call last)",
      "Input \u001b[0;32mIn [156]\u001b[0m, in \u001b[0;36m<cell line: 10>\u001b[0;34m()\u001b[0m\n\u001b[1;32m      2\u001b[0m     \u001b[38;5;124;03m\"\"\"\u001b[39;00m\n\u001b[1;32m      3\u001b[0m \u001b[38;5;124;03m    Return mean age of survived men, embarked in Southampton with fare > 30\u001b[39;00m\n\u001b[1;32m      4\u001b[0m \u001b[38;5;124;03m    :param df: dataframe\u001b[39;00m\n\u001b[1;32m      5\u001b[0m \u001b[38;5;124;03m    :return: mean age\u001b[39;00m\n\u001b[1;32m      6\u001b[0m \u001b[38;5;124;03m    \"\"\"\u001b[39;00m\n\u001b[1;32m      7\u001b[0m     \u001b[38;5;28;01mreturn\u001b[39;00m df[(df[\u001b[38;5;124m'\u001b[39m\u001b[38;5;124mSex\u001b[39m\u001b[38;5;124m'\u001b[39m] \u001b[38;5;241m==\u001b[39m \u001b[38;5;124m'\u001b[39m\u001b[38;5;124mmale\u001b[39m\u001b[38;5;124m'\u001b[39m) \u001b[38;5;241m&\u001b[39m (df[\u001b[38;5;124m'\u001b[39m\u001b[38;5;124mSurvived\u001b[39m\u001b[38;5;124m'\u001b[39m] \u001b[38;5;241m==\u001b[39m \u001b[38;5;241m1\u001b[39m) \u001b[38;5;241m&\u001b[39m (df[\u001b[38;5;124m'\u001b[39m\u001b[38;5;124mEmbarked\u001b[39m\u001b[38;5;124m'\u001b[39m] \u001b[38;5;241m==\u001b[39m \u001b[38;5;124m'\u001b[39m\u001b[38;5;124mS\u001b[39m\u001b[38;5;124m'\u001b[39m) \u001b[38;5;241m&\u001b[39m \n\u001b[1;32m      8\u001b[0m            (df[\u001b[38;5;124m'\u001b[39m\u001b[38;5;124mFare\u001b[39m\u001b[38;5;124m'\u001b[39m] \u001b[38;5;241m>\u001b[39m \u001b[38;5;241m30\u001b[39m)][\u001b[38;5;124m\"\u001b[39m\u001b[38;5;124mAge\u001b[39m\u001b[38;5;124m\"\u001b[39m]\u001b[38;5;241m.\u001b[39mmean()\n\u001b[0;32m---> 10\u001b[0m \u001b[38;5;28;01mdef\u001b[39;00m \u001b[38;5;21mnan_columns\u001b[39m(df: pd\u001b[38;5;241m.\u001b[39mDataFrame) \u001b[38;5;241m-\u001b[39m\u001b[38;5;241m>\u001b[39m \u001b[43mtp\u001b[49m\u001b[38;5;241m.\u001b[39mIterable[\u001b[38;5;28mstr\u001b[39m]:\n\u001b[1;32m     11\u001b[0m     \u001b[38;5;124;03m\"\"\"\u001b[39;00m\n\u001b[1;32m     12\u001b[0m \u001b[38;5;124;03m    Return list of columns containing nans\u001b[39;00m\n\u001b[1;32m     13\u001b[0m \u001b[38;5;124;03m    :param df: dataframe\u001b[39;00m\n\u001b[1;32m     14\u001b[0m \u001b[38;5;124;03m    :return: series of columns\u001b[39;00m\n\u001b[1;32m     15\u001b[0m \u001b[38;5;124;03m    \"\"\"\u001b[39;00m\n\u001b[1;32m     16\u001b[0m     \u001b[38;5;28;01mreturn\u001b[39;00m df\u001b[38;5;241m.\u001b[39mcolumns[df\u001b[38;5;241m.\u001b[39misna()\u001b[38;5;241m.\u001b[39many()]\u001b[38;5;241m.\u001b[39mtolist()\n",
      "\u001b[0;31mNameError\u001b[0m: name 'tp' is not defined"
     ]
    }
   ],
   "source": [
    "def male_age(df: pd.DataFrame) -> float:\n",
    "    \"\"\"\n",
    "    Return mean age of survived men, embarked in Southampton with fare > 30\n",
    "    :param df: dataframe\n",
    "    :return: mean age\n",
    "    \"\"\"\n",
    "    return df[(df['Sex'] == 'male') & (df['Survived'] == 1) & (df['Embarked'] == 'S') & \n",
    "           (df['Fare'] > 30)][\"Age\"].mean()\n",
    "\n",
    "def nan_columns(df: pd.DataFrame) -> tp.Iterable[str]:\n",
    "    \"\"\"\n",
    "    Return list of columns containing nans\n",
    "    :param df: dataframe\n",
    "    :return: series of columns\n",
    "    \"\"\"\n",
    "    return df.columns[df.isna().any()].tolist()\n",
    "    \n",
    "\n",
    "def class_distribution(df: pd.DataFrame) -> pd.Series:\n",
    "    \"\"\"\n",
    "    Return Pclass distrubution\n",
    "    :param df: dataframe\n",
    "    :return: series with ratios\n",
    "    \"\"\"\n",
    "    counts = df.groupby('Pclass')['Pclass'].count()\n",
    "    counts.index.name = None\n",
    "    return counts / df.shape[0]\n",
    "    \n",
    "def families_count(df: pd.DataFrame, k: int) -> int:\n",
    "    \"\"\"\n",
    "    Compute number of families with more than k members\n",
    "    :param df: dataframe,\n",
    "    :param k: number of members,\n",
    "    :return: number of families\n",
    "    \"\"\"\n",
    "    df['Family'] = df.apply(lambda row: row['Name'].split(\",\")[0], axis=1)\n",
    "    return (df['Family'].value_counts() > k).sum()\n",
    "\n",
    "def mean_price(df: pd.DataFrame, tickets: tp.Iterable[str]) -> float:\n",
    "    \"\"\"\n",
    "    Return mean price for specific tickets list\n",
    "    :param df: dataframe,\n",
    "    :param tickets: list of tickets,\n",
    "    :return: mean fare for this tickets\n",
    "    \"\"\""
   ]
  }
 ],
 "metadata": {
  "kernelspec": {
   "display_name": "Python 3 (ipykernel)",
   "language": "python",
   "name": "python3"
  },
  "language_info": {
   "codemirror_mode": {
    "name": "ipython",
    "version": 3
   },
   "file_extension": ".py",
   "mimetype": "text/x-python",
   "name": "python",
   "nbconvert_exporter": "python",
   "pygments_lexer": "ipython3",
   "version": "3.10.5"
  }
 },
 "nbformat": 4,
 "nbformat_minor": 5
}
