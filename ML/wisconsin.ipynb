{
 "cells": [
  {
   "cell_type": "code",
   "execution_count": 4,
   "id": "33401453",
   "metadata": {},
   "outputs": [],
   "source": [
    "from sklearn.datasets import load_breast_cancer \n",
    "the_data = load_breast_cancer()    "
   ]
  },
  {
   "cell_type": "code",
   "execution_count": 12,
   "id": "cd38c2c4",
   "metadata": {},
   "outputs": [
    {
     "name": "stdout",
     "output_type": "stream",
     "text": [
      ".. _breast_cancer_dataset:\n",
      "\n",
      "Breast cancer wisconsin (diagnostic) dataset\n",
      "--------------------------------------------\n",
      "\n",
      "**Data Set Characteristics:**\n",
      "\n",
      "    :Number of Instances: 569\n",
      "\n",
      "    :Number of Attributes: 30 numeric, predictive attributes and the class\n",
      "\n",
      "    :Attribute Information:\n",
      "        - radius (mean of distances from center to points on the perimeter)\n",
      "        - texture (standard deviation of gray-scale values)\n",
      "        - perimeter\n",
      "        - area\n",
      "        - smoothness (local variation in radius lengths)\n",
      "        - compactness (perimeter^2 / area - 1.0)\n",
      "        - concavity (severity of concave portions of the contour)\n",
      "        - concave points (number of concave portions of the contour)\n",
      "        - symmetry\n",
      "        - fractal dimension (\"coastline approximation\" - 1)\n",
      "\n",
      "        The mean, standard error, and \"worst\" or largest (mean of the three\n",
      "        worst/largest values) of these features were computed for each image,\n",
      "        resulting in 30 features.  For instance, field 0 is Mean Radius, field\n",
      "        10 is Radius SE, field 20 is Worst Radius.\n",
      "\n",
      "        - class:\n",
      "                - WDBC-Malignant\n",
      "                - WDBC-Benign\n",
      "\n",
      "    :Summary Statistics:\n",
      "\n",
      "    ===================================== ====== ======\n",
      "                                           Min    Max\n",
      "    ===================================== ====== ======\n",
      "    radius (mean):                        6.981  28.11\n",
      "    texture (mean):                       9.71   39.28\n",
      "    perimeter (mean):                     43.79  188.5\n",
      "    area (mean):                          143.5  2501.0\n",
      "    smoothness (mean):                    0.053  0.163\n",
      "    compactness (mean):                   0.019  0.345\n",
      "    concavity (mean):                     0.0    0.427\n",
      "    concave points (mean):                0.0    0.201\n",
      "    symmetry (mean):                      0.106  0.304\n",
      "    fractal dimension (mean):             0.05   0.097\n",
      "    radius (standard error):              0.112  2.873\n",
      "    texture (standard error):             0.36   4.885\n",
      "    perimeter (standard error):           0.757  21.98\n",
      "    area (standard error):                6.802  542.2\n",
      "    smoothness (standard error):          0.002  0.031\n",
      "    compactness (standard error):         0.002  0.135\n",
      "    concavity (standard error):           0.0    0.396\n",
      "    concave points (standard error):      0.0    0.053\n",
      "    symmetry (standard error):            0.008  0.079\n",
      "    fractal dimension (standard error):   0.001  0.03\n",
      "    radius (worst):                       7.93   36.04\n",
      "    texture (worst):                      12.02  49.54\n",
      "    perimeter (worst):                    50.41  251.2\n",
      "    area (worst):                         185.2  4254.0\n",
      "    smoothness (worst):                   0.071  0.223\n",
      "    compactness (worst):                  0.027  1.058\n",
      "    concavity (worst):                    0.0    1.252\n",
      "    concave points (worst):               0.0    0.291\n",
      "    symmetry (worst):                     0.156  0.664\n",
      "    fractal dimension (worst):            0.055  0.208\n",
      "    ===================================== ====== ======\n",
      "\n",
      "    :Missing Attribute Values: None\n",
      "\n",
      "    :Class Distribution: 212 - Malignant, 357 - Benign\n",
      "\n",
      "    :Creator:  Dr. William H. Wolberg, W. Nick Street, Olvi L. Mangasarian\n",
      "\n",
      "    :Donor: Nick Street\n",
      "\n",
      "    :Date: November, 1995\n",
      "\n",
      "This is a copy of UCI ML Breast Cancer Wisconsin (Diagnostic) datasets.\n",
      "https://goo.gl/U2Uwz2\n",
      "\n",
      "Features are computed from a digitized image of a fine needle\n",
      "aspirate (FNA) of a breast mass.  They describe\n",
      "characteristics of the cell nuclei present in the image.\n",
      "\n",
      "Separating plane described above was obtained using\n",
      "Multisurface Method-Tree (MSM-T) [K. P. Bennett, \"Decision Tree\n",
      "Construction Via Linear Programming.\" Proceedings of the 4th\n",
      "Midwest Artificial Intelligence and Cognitive Science Society,\n",
      "pp. 97-101, 1992], a classification method which uses linear\n",
      "programming to construct a decision tree.  Relevant features\n",
      "were selected using an exhaustive search in the space of 1-4\n",
      "features and 1-3 separating planes.\n",
      "\n",
      "The actual linear program used to obtain the separating plane\n",
      "in the 3-dimensional space is that described in:\n",
      "[K. P. Bennett and O. L. Mangasarian: \"Robust Linear\n",
      "Programming Discrimination of Two Linearly Inseparable Sets\",\n",
      "Optimization Methods and Software 1, 1992, 23-34].\n",
      "\n",
      "This database is also available through the UW CS ftp server:\n",
      "\n",
      "ftp ftp.cs.wisc.edu\n",
      "cd math-prog/cpo-dataset/machine-learn/WDBC/\n",
      "\n",
      ".. topic:: References\n",
      "\n",
      "   - W.N. Street, W.H. Wolberg and O.L. Mangasarian. Nuclear feature extraction \n",
      "     for breast tumor diagnosis. IS&T/SPIE 1993 International Symposium on \n",
      "     Electronic Imaging: Science and Technology, volume 1905, pages 861-870,\n",
      "     San Jose, CA, 1993.\n",
      "   - O.L. Mangasarian, W.N. Street and W.H. Wolberg. Breast cancer diagnosis and \n",
      "     prognosis via linear programming. Operations Research, 43(4), pages 570-577, \n",
      "     July-August 1995.\n",
      "   - W.H. Wolberg, W.N. Street, and O.L. Mangasarian. Machine learning techniques\n",
      "     to diagnose breast cancer from fine-needle aspirates. Cancer Letters 77 (1994) \n",
      "     163-171.\n"
     ]
    }
   ],
   "source": [
    "print(the_data['DESCR'])"
   ]
  },
  {
   "cell_type": "code",
   "execution_count": 13,
   "id": "2e188be9",
   "metadata": {},
   "outputs": [],
   "source": [
    "# 0 – \"benign\" \n",
    "# 1 – \"malignant\" \n",
    "relabeled_target = 1 - the_data[\"target\"] \n",
    "\n",
    "from sklearn.model_selection import train_test_split \n",
    "X = the_data[\"data\"] \n",
    "y = relabeled_target \n",
    "X_train, X_test, y_train, y_test = train_test_split(X, y, random_state=0)"
   ]
  },
  {
   "cell_type": "markdown",
   "id": "5bd5263f",
   "metadata": {},
   "source": [
    "About 37% of data are attributed to class `malignant`:"
   ]
  },
  {
   "cell_type": "code",
   "execution_count": 14,
   "id": "a2b76d42",
   "metadata": {},
   "outputs": [
    {
     "data": {
      "text/plain": [
       "(0.3732394366197183, 0.3706293706293706)"
      ]
     },
     "execution_count": 14,
     "metadata": {},
     "output_type": "execute_result"
    }
   ],
   "source": [
    "y_train.mean(), y_test.mean()"
   ]
  },
  {
   "cell_type": "markdown",
   "id": "8e3fc3cf",
   "metadata": {},
   "source": [
    "### Dummy classifier"
   ]
  },
  {
   "cell_type": "code",
   "execution_count": 15,
   "id": "2fc099ea",
   "metadata": {},
   "outputs": [
    {
     "data": {
      "text/html": [
       "<style>#sk-container-id-1 {color: black;background-color: white;}#sk-container-id-1 pre{padding: 0;}#sk-container-id-1 div.sk-toggleable {background-color: white;}#sk-container-id-1 label.sk-toggleable__label {cursor: pointer;display: block;width: 100%;margin-bottom: 0;padding: 0.3em;box-sizing: border-box;text-align: center;}#sk-container-id-1 label.sk-toggleable__label-arrow:before {content: \"▸\";float: left;margin-right: 0.25em;color: #696969;}#sk-container-id-1 label.sk-toggleable__label-arrow:hover:before {color: black;}#sk-container-id-1 div.sk-estimator:hover label.sk-toggleable__label-arrow:before {color: black;}#sk-container-id-1 div.sk-toggleable__content {max-height: 0;max-width: 0;overflow: hidden;text-align: left;background-color: #f0f8ff;}#sk-container-id-1 div.sk-toggleable__content pre {margin: 0.2em;color: black;border-radius: 0.25em;background-color: #f0f8ff;}#sk-container-id-1 input.sk-toggleable__control:checked~div.sk-toggleable__content {max-height: 200px;max-width: 100%;overflow: auto;}#sk-container-id-1 input.sk-toggleable__control:checked~label.sk-toggleable__label-arrow:before {content: \"▾\";}#sk-container-id-1 div.sk-estimator input.sk-toggleable__control:checked~label.sk-toggleable__label {background-color: #d4ebff;}#sk-container-id-1 div.sk-label input.sk-toggleable__control:checked~label.sk-toggleable__label {background-color: #d4ebff;}#sk-container-id-1 input.sk-hidden--visually {border: 0;clip: rect(1px 1px 1px 1px);clip: rect(1px, 1px, 1px, 1px);height: 1px;margin: -1px;overflow: hidden;padding: 0;position: absolute;width: 1px;}#sk-container-id-1 div.sk-estimator {font-family: monospace;background-color: #f0f8ff;border: 1px dotted black;border-radius: 0.25em;box-sizing: border-box;margin-bottom: 0.5em;}#sk-container-id-1 div.sk-estimator:hover {background-color: #d4ebff;}#sk-container-id-1 div.sk-parallel-item::after {content: \"\";width: 100%;border-bottom: 1px solid gray;flex-grow: 1;}#sk-container-id-1 div.sk-label:hover label.sk-toggleable__label {background-color: #d4ebff;}#sk-container-id-1 div.sk-serial::before {content: \"\";position: absolute;border-left: 1px solid gray;box-sizing: border-box;top: 0;bottom: 0;left: 50%;z-index: 0;}#sk-container-id-1 div.sk-serial {display: flex;flex-direction: column;align-items: center;background-color: white;padding-right: 0.2em;padding-left: 0.2em;position: relative;}#sk-container-id-1 div.sk-item {position: relative;z-index: 1;}#sk-container-id-1 div.sk-parallel {display: flex;align-items: stretch;justify-content: center;background-color: white;position: relative;}#sk-container-id-1 div.sk-item::before, #sk-container-id-1 div.sk-parallel-item::before {content: \"\";position: absolute;border-left: 1px solid gray;box-sizing: border-box;top: 0;bottom: 0;left: 50%;z-index: -1;}#sk-container-id-1 div.sk-parallel-item {display: flex;flex-direction: column;z-index: 1;position: relative;background-color: white;}#sk-container-id-1 div.sk-parallel-item:first-child::after {align-self: flex-end;width: 50%;}#sk-container-id-1 div.sk-parallel-item:last-child::after {align-self: flex-start;width: 50%;}#sk-container-id-1 div.sk-parallel-item:only-child::after {width: 0;}#sk-container-id-1 div.sk-dashed-wrapped {border: 1px dashed gray;margin: 0 0.4em 0.5em 0.4em;box-sizing: border-box;padding-bottom: 0.4em;background-color: white;}#sk-container-id-1 div.sk-label label {font-family: monospace;font-weight: bold;display: inline-block;line-height: 1.2em;}#sk-container-id-1 div.sk-label-container {text-align: center;}#sk-container-id-1 div.sk-container {/* jupyter's `normalize.less` sets `[hidden] { display: none; }` but bootstrap.min.css set `[hidden] { display: none !important; }` so we also need the `!important` here to be able to override the default hidden behavior on the sphinx rendered scikit-learn.org. See: https://github.com/scikit-learn/scikit-learn/issues/21755 */display: inline-block !important;position: relative;}#sk-container-id-1 div.sk-text-repr-fallback {display: none;}</style><div id=\"sk-container-id-1\" class=\"sk-top-container\"><div class=\"sk-text-repr-fallback\"><pre>DummyClassifier(strategy=&#x27;most_frequent&#x27;)</pre><b>In a Jupyter environment, please rerun this cell to show the HTML representation or trust the notebook. <br />On GitHub, the HTML representation is unable to render, please try loading this page with nbviewer.org.</b></div><div class=\"sk-container\" hidden><div class=\"sk-item\"><div class=\"sk-estimator sk-toggleable\"><input class=\"sk-toggleable__control sk-hidden--visually\" id=\"sk-estimator-id-1\" type=\"checkbox\" checked><label for=\"sk-estimator-id-1\" class=\"sk-toggleable__label sk-toggleable__label-arrow\">DummyClassifier</label><div class=\"sk-toggleable__content\"><pre>DummyClassifier(strategy=&#x27;most_frequent&#x27;)</pre></div></div></div></div></div>"
      ],
      "text/plain": [
       "DummyClassifier(strategy='most_frequent')"
      ]
     },
     "execution_count": 15,
     "metadata": {},
     "output_type": "execute_result"
    }
   ],
   "source": [
    "from sklearn.dummy import DummyClassifier \n",
    "dc_mf = DummyClassifier(strategy=\"most_frequent\") \n",
    "dc_mf.fit(X_train, y_train) "
   ]
  },
  {
   "cell_type": "markdown",
   "id": "1bdca1a1",
   "metadata": {},
   "source": [
    "### Confusion matrix"
   ]
  },
  {
   "cell_type": "code",
   "execution_count": 58,
   "id": "71f23025",
   "metadata": {},
   "outputs": [],
   "source": [
    "from sklearn.metrics import confusion_matrix, recall_score, precision_score, f1_score, accuracy_score, roc_auc_score\n",
    "import pandas as pd\n",
    "\n",
    "def confusion_matrix2df(y_true, y_pred):\n",
    "    dc_mf_tn, dc_mf_fp, dc_mf_fn, dc_mf_tp = confusion_matrix(y_true, y_pred, labels = [0, 1]).ravel() \n",
    "    return pd.DataFrame([[dc_mf_tp, dc_mf_fn], [dc_mf_fp, dc_mf_tn]], columns=['Pred +', 'Pred -'], index=[\"True +\", \"True -\"])"
   ]
  },
  {
   "cell_type": "code",
   "execution_count": 49,
   "id": "8eeefc24",
   "metadata": {},
   "outputs": [
    {
     "data": {
      "text/html": [
       "<div>\n",
       "<style scoped>\n",
       "    .dataframe tbody tr th:only-of-type {\n",
       "        vertical-align: middle;\n",
       "    }\n",
       "\n",
       "    .dataframe tbody tr th {\n",
       "        vertical-align: top;\n",
       "    }\n",
       "\n",
       "    .dataframe thead th {\n",
       "        text-align: right;\n",
       "    }\n",
       "</style>\n",
       "<table border=\"1\" class=\"dataframe\">\n",
       "  <thead>\n",
       "    <tr style=\"text-align: right;\">\n",
       "      <th></th>\n",
       "      <th>Pred +</th>\n",
       "      <th>Pred -</th>\n",
       "    </tr>\n",
       "  </thead>\n",
       "  <tbody>\n",
       "    <tr>\n",
       "      <th>True +</th>\n",
       "      <td>0</td>\n",
       "      <td>53</td>\n",
       "    </tr>\n",
       "    <tr>\n",
       "      <th>True -</th>\n",
       "      <td>0</td>\n",
       "      <td>90</td>\n",
       "    </tr>\n",
       "  </tbody>\n",
       "</table>\n",
       "</div>"
      ],
      "text/plain": [
       "        Pred +  Pred -\n",
       "True +       0      53\n",
       "True -       0      90"
      ]
     },
     "execution_count": 49,
     "metadata": {},
     "output_type": "execute_result"
    }
   ],
   "source": [
    "y_pred = dc_mf.predict(X_test)\n",
    "confusion_matrix2df(y_test, y_pred)"
   ]
  },
  {
   "cell_type": "code",
   "execution_count": 60,
   "id": "98d1f0cc",
   "metadata": {},
   "outputs": [],
   "source": [
    "def print_metrics(y_true, y_pred):\n",
    "    print(\"Accuracy:\", accuracy_score(y_true, y_pred))\n",
    "    print(\"Precision:\", precision_score(y_true, y_pred))\n",
    "    print(\"Recall:\", recall_score(y_true, y_pred))\n",
    "    print(\"f1_score:\", f1_score(y_true, y_pred))\n",
    "    print(\"roc_auc_score:\", roc_auc_score(y_true, y_pred))"
   ]
  },
  {
   "cell_type": "code",
   "execution_count": 61,
   "id": "0b1d5c3c",
   "metadata": {},
   "outputs": [
    {
     "name": "stdout",
     "output_type": "stream",
     "text": [
      "Accuracy: 0.6293706293706294\n",
      "Precision: 0.0\n",
      "Recall: 0.0\n",
      "f1_score: 0.0\n",
      "roc_auc_score: 0.5\n"
     ]
    },
    {
     "name": "stderr",
     "output_type": "stream",
     "text": [
      "/Library/Frameworks/Python.framework/Versions/3.10/lib/python3.10/site-packages/sklearn/metrics/_classification.py:1344: UndefinedMetricWarning: Precision is ill-defined and being set to 0.0 due to no predicted samples. Use `zero_division` parameter to control this behavior.\n",
      "  _warn_prf(average, modifier, msg_start, len(result))\n"
     ]
    }
   ],
   "source": [
    "print_metrics(y_true, y_pred)"
   ]
  },
  {
   "cell_type": "markdown",
   "id": "b5cdf221",
   "metadata": {},
   "source": [
    "### Random Forest"
   ]
  },
  {
   "cell_type": "code",
   "execution_count": 63,
   "id": "3a2ebe0c",
   "metadata": {},
   "outputs": [
    {
     "data": {
      "text/html": [
       "<div>\n",
       "<style scoped>\n",
       "    .dataframe tbody tr th:only-of-type {\n",
       "        vertical-align: middle;\n",
       "    }\n",
       "\n",
       "    .dataframe tbody tr th {\n",
       "        vertical-align: top;\n",
       "    }\n",
       "\n",
       "    .dataframe thead th {\n",
       "        text-align: right;\n",
       "    }\n",
       "</style>\n",
       "<table border=\"1\" class=\"dataframe\">\n",
       "  <thead>\n",
       "    <tr style=\"text-align: right;\">\n",
       "      <th></th>\n",
       "      <th>Pred +</th>\n",
       "      <th>Pred -</th>\n",
       "    </tr>\n",
       "  </thead>\n",
       "  <tbody>\n",
       "    <tr>\n",
       "      <th>True +</th>\n",
       "      <td>51</td>\n",
       "      <td>2</td>\n",
       "    </tr>\n",
       "    <tr>\n",
       "      <th>True -</th>\n",
       "      <td>2</td>\n",
       "      <td>88</td>\n",
       "    </tr>\n",
       "  </tbody>\n",
       "</table>\n",
       "</div>"
      ],
      "text/plain": [
       "        Pred +  Pred -\n",
       "True +      51       2\n",
       "True -       2      88"
      ]
     },
     "execution_count": 63,
     "metadata": {},
     "output_type": "execute_result"
    }
   ],
   "source": [
    "from sklearn.ensemble import RandomForestClassifier \n",
    "rfc = RandomForestClassifier()       \n",
    "rfc.fit(X_train, y_train)       \n",
    "y_true = y_test       \n",
    "y_pred = rfc.predict(X_test)       \n",
    "confusion_matrix2df(y_true, y_pred)"
   ]
  },
  {
   "cell_type": "code",
   "execution_count": 65,
   "id": "35a0f66d",
   "metadata": {},
   "outputs": [
    {
     "name": "stdout",
     "output_type": "stream",
     "text": [
      "Accuracy: 0.972027972027972\n",
      "Precision: 0.9622641509433962\n",
      "Recall: 0.9622641509433962\n",
      "f1_score: 0.9622641509433962\n",
      "roc_auc_score: 0.9700209643605869\n"
     ]
    }
   ],
   "source": [
    "print_metrics(y_true, y_pred)"
   ]
  },
  {
   "cell_type": "markdown",
   "id": "0db01cdb",
   "metadata": {},
   "source": [
    "### SVM"
   ]
  },
  {
   "cell_type": "code",
   "execution_count": 67,
   "id": "5b6f22ea",
   "metadata": {},
   "outputs": [
    {
     "data": {
      "text/html": [
       "<div>\n",
       "<style scoped>\n",
       "    .dataframe tbody tr th:only-of-type {\n",
       "        vertical-align: middle;\n",
       "    }\n",
       "\n",
       "    .dataframe tbody tr th {\n",
       "        vertical-align: top;\n",
       "    }\n",
       "\n",
       "    .dataframe thead th {\n",
       "        text-align: right;\n",
       "    }\n",
       "</style>\n",
       "<table border=\"1\" class=\"dataframe\">\n",
       "  <thead>\n",
       "    <tr style=\"text-align: right;\">\n",
       "      <th></th>\n",
       "      <th>Pred +</th>\n",
       "      <th>Pred -</th>\n",
       "    </tr>\n",
       "  </thead>\n",
       "  <tbody>\n",
       "    <tr>\n",
       "      <th>True +</th>\n",
       "      <td>50</td>\n",
       "      <td>3</td>\n",
       "    </tr>\n",
       "    <tr>\n",
       "      <th>True -</th>\n",
       "      <td>1</td>\n",
       "      <td>89</td>\n",
       "    </tr>\n",
       "  </tbody>\n",
       "</table>\n",
       "</div>"
      ],
      "text/plain": [
       "        Pred +  Pred -\n",
       "True +      50       3\n",
       "True -       1      89"
      ]
     },
     "execution_count": 67,
     "metadata": {},
     "output_type": "execute_result"
    }
   ],
   "source": [
    "from sklearn.svm import LinearSVC\n",
    "from sklearn.preprocessing import StandardScaler \n",
    "ss = StandardScaler() \n",
    "ss.fit(X_train) \n",
    "scaled_linsvc = LinearSVC(C=0.01,random_state=42) \n",
    "scaled_linsvc.fit(ss.transform(X_train), y_train) \n",
    "y_true = y_test \n",
    "y_pred = scaled_linsvc.predict(ss.transform(X_test)) \n",
    "confusion_matrix2df(y_true, y_pred)"
   ]
  },
  {
   "cell_type": "code",
   "execution_count": 68,
   "id": "8ea826e4",
   "metadata": {},
   "outputs": [
    {
     "name": "stdout",
     "output_type": "stream",
     "text": [
      "Accuracy: 0.972027972027972\n",
      "Precision: 0.9803921568627451\n",
      "Recall: 0.9433962264150944\n",
      "f1_score: 0.9615384615384616\n",
      "roc_auc_score: 0.9661425576519916\n"
     ]
    }
   ],
   "source": [
    "print_metrics(y_true, y_pred)"
   ]
  },
  {
   "cell_type": "markdown",
   "id": "07d09fbd",
   "metadata": {},
   "source": [
    "### Logistic Regression"
   ]
  },
  {
   "cell_type": "code",
   "execution_count": 69,
   "id": "be8b0bc2",
   "metadata": {},
   "outputs": [
    {
     "data": {
      "text/html": [
       "<div>\n",
       "<style scoped>\n",
       "    .dataframe tbody tr th:only-of-type {\n",
       "        vertical-align: middle;\n",
       "    }\n",
       "\n",
       "    .dataframe tbody tr th {\n",
       "        vertical-align: top;\n",
       "    }\n",
       "\n",
       "    .dataframe thead th {\n",
       "        text-align: right;\n",
       "    }\n",
       "</style>\n",
       "<table border=\"1\" class=\"dataframe\">\n",
       "  <thead>\n",
       "    <tr style=\"text-align: right;\">\n",
       "      <th></th>\n",
       "      <th>Pred +</th>\n",
       "      <th>Pred -</th>\n",
       "    </tr>\n",
       "  </thead>\n",
       "  <tbody>\n",
       "    <tr>\n",
       "      <th>True +</th>\n",
       "      <td>52</td>\n",
       "      <td>1</td>\n",
       "    </tr>\n",
       "    <tr>\n",
       "      <th>True -</th>\n",
       "      <td>6</td>\n",
       "      <td>84</td>\n",
       "    </tr>\n",
       "  </tbody>\n",
       "</table>\n",
       "</div>"
      ],
      "text/plain": [
       "        Pred +  Pred -\n",
       "True +      52       1\n",
       "True -       6      84"
      ]
     },
     "execution_count": 69,
     "metadata": {},
     "output_type": "execute_result"
    }
   ],
   "source": [
    "from sklearn.linear_model import LogisticRegression\n",
    "\n",
    "lrc = LogisticRegression(max_iter=10000)       \n",
    "lrc.fit(X_train, y_train)       \n",
    "y_true = y_test       \n",
    "y_pred = lrc.predict(X_test)       \n",
    "confusion_matrix2df(y_true, y_pred)"
   ]
  },
  {
   "cell_type": "code",
   "execution_count": 70,
   "id": "f779b7b1",
   "metadata": {},
   "outputs": [
    {
     "name": "stdout",
     "output_type": "stream",
     "text": [
      "Accuracy: 0.951048951048951\n",
      "Precision: 0.896551724137931\n",
      "Recall: 0.9811320754716981\n",
      "f1_score: 0.9369369369369369\n",
      "roc_auc_score: 0.9572327044025157\n"
     ]
    }
   ],
   "source": [
    "print_metrics(y_true, y_pred)"
   ]
  },
  {
   "cell_type": "markdown",
   "id": "75465817",
   "metadata": {},
   "source": [
    "### Using threshold for predictions"
   ]
  },
  {
   "cell_type": "code",
   "execution_count": 78,
   "id": "e9e1238f",
   "metadata": {},
   "outputs": [
    {
     "name": "stdout",
     "output_type": "stream",
     "text": [
      "0.05\n",
      "Accuracy: 0.8601398601398601\n",
      "Precision: 0.726027397260274\n",
      "Recall: 1.0\n",
      "f1_score: 0.8412698412698413\n",
      "roc_auc_score: 0.8888888888888888\n",
      "0.1\n",
      "Accuracy: 0.8811188811188811\n",
      "Precision: 0.7571428571428571\n",
      "Recall: 1.0\n",
      "f1_score: 0.8617886178861789\n",
      "roc_auc_score: 0.9055555555555556\n",
      "0.15000000000000002\n",
      "Accuracy: 0.8951048951048951\n",
      "Precision: 0.7794117647058824\n",
      "Recall: 1.0\n",
      "f1_score: 0.8760330578512397\n",
      "roc_auc_score: 0.9166666666666667\n",
      "0.2\n",
      "Accuracy: 0.9090909090909091\n",
      "Precision: 0.803030303030303\n",
      "Recall: 1.0\n",
      "f1_score: 0.8907563025210083\n",
      "roc_auc_score: 0.9277777777777778\n",
      "0.25\n",
      "Accuracy: 0.9230769230769231\n",
      "Precision: 0.8387096774193549\n",
      "Recall: 0.9811320754716981\n",
      "f1_score: 0.9043478260869565\n",
      "roc_auc_score: 0.9350104821802934\n",
      "0.3\n",
      "Accuracy: 0.9300699300699301\n",
      "Precision: 0.8524590163934426\n",
      "Recall: 0.9811320754716981\n",
      "f1_score: 0.912280701754386\n",
      "roc_auc_score: 0.940566037735849\n",
      "0.35000000000000003\n",
      "Accuracy: 0.9300699300699301\n",
      "Precision: 0.8524590163934426\n",
      "Recall: 0.9811320754716981\n",
      "f1_score: 0.912280701754386\n",
      "roc_auc_score: 0.940566037735849\n",
      "0.4\n",
      "Accuracy: 0.9440559440559441\n",
      "Precision: 0.8813559322033898\n",
      "Recall: 0.9811320754716981\n",
      "f1_score: 0.9285714285714285\n",
      "roc_auc_score: 0.9516771488469602\n",
      "0.45\n",
      "Accuracy: 0.951048951048951\n",
      "Precision: 0.896551724137931\n",
      "Recall: 0.9811320754716981\n",
      "f1_score: 0.9369369369369369\n",
      "roc_auc_score: 0.9572327044025157\n",
      "0.5\n",
      "Accuracy: 0.951048951048951\n",
      "Precision: 0.896551724137931\n",
      "Recall: 0.9811320754716981\n",
      "f1_score: 0.9369369369369369\n",
      "roc_auc_score: 0.9572327044025157\n",
      "0.55\n",
      "Accuracy: 0.951048951048951\n",
      "Precision: 0.896551724137931\n",
      "Recall: 0.9811320754716981\n",
      "f1_score: 0.9369369369369369\n",
      "roc_auc_score: 0.9572327044025157\n",
      "0.6000000000000001\n",
      "Accuracy: 0.958041958041958\n",
      "Precision: 0.9122807017543859\n",
      "Recall: 0.9811320754716981\n",
      "f1_score: 0.9454545454545454\n",
      "roc_auc_score: 0.9627882599580713\n",
      "0.6500000000000001\n",
      "Accuracy: 0.965034965034965\n",
      "Precision: 0.9285714285714286\n",
      "Recall: 0.9811320754716981\n",
      "f1_score: 0.9541284403669724\n",
      "roc_auc_score: 0.9683438155136268\n",
      "0.7000000000000001\n",
      "Accuracy: 0.958041958041958\n",
      "Precision: 0.9272727272727272\n",
      "Recall: 0.9622641509433962\n",
      "f1_score: 0.9444444444444444\n",
      "roc_auc_score: 0.958909853249476\n",
      "0.7500000000000001\n",
      "Accuracy: 0.958041958041958\n",
      "Precision: 0.9433962264150944\n",
      "Recall: 0.9433962264150944\n",
      "f1_score: 0.9433962264150944\n",
      "roc_auc_score: 0.9550314465408805\n",
      "0.8\n",
      "Accuracy: 0.972027972027972\n",
      "Precision: 0.9803921568627451\n",
      "Recall: 0.9433962264150944\n",
      "f1_score: 0.9615384615384616\n",
      "roc_auc_score: 0.9661425576519916\n",
      "0.8500000000000001\n",
      "Accuracy: 0.972027972027972\n",
      "Precision: 0.9803921568627451\n",
      "Recall: 0.9433962264150944\n",
      "f1_score: 0.9615384615384616\n",
      "roc_auc_score: 0.9661425576519916\n",
      "0.9000000000000001\n",
      "Accuracy: 0.951048951048951\n",
      "Precision: 0.9791666666666666\n",
      "Recall: 0.8867924528301887\n",
      "f1_score: 0.9306930693069307\n",
      "roc_auc_score: 0.9378406708595388\n",
      "0.9500000000000001\n",
      "Accuracy: 0.9370629370629371\n",
      "Precision: 1.0\n",
      "Recall: 0.8301886792452831\n",
      "f1_score: 0.9072164948453608\n",
      "roc_auc_score: 0.9150943396226415\n"
     ]
    }
   ],
   "source": [
    "import numpy as np\n",
    "\n",
    "for threshold in np.arange(0.05, 1, step=0.05):\n",
    "    probs = lrc.predict_proba(X_test)\n",
    "    y_pred = (probs[:, 1] > threshold).astype(float)\n",
    "    print(threshold)\n",
    "    print_metrics(y_true, y_pred)"
   ]
  }
 ],
 "metadata": {
  "kernelspec": {
   "display_name": "Python 3 (ipykernel)",
   "language": "python",
   "name": "python3"
  },
  "language_info": {
   "codemirror_mode": {
    "name": "ipython",
    "version": 3
   },
   "file_extension": ".py",
   "mimetype": "text/x-python",
   "name": "python",
   "nbconvert_exporter": "python",
   "pygments_lexer": "ipython3",
   "version": "3.10.5"
  }
 },
 "nbformat": 4,
 "nbformat_minor": 5
}
