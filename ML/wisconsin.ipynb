{
 "cells": [
  {
   "cell_type": "code",
   "execution_count": 79,
   "id": "62e37b75",
   "metadata": {},
   "outputs": [],
   "source": [
    "from sklearn.datasets import load_breast_cancer \n",
    "the_data = load_breast_cancer()    "
   ]
  },
  {
   "cell_type": "code",
   "execution_count": 80,
   "id": "c384b19a",
   "metadata": {},
   "outputs": [
    {
     "name": "stdout",
     "output_type": "stream",
     "text": [
      ".. _breast_cancer_dataset:\n",
      "\n",
      "Breast cancer wisconsin (diagnostic) dataset\n",
      "--------------------------------------------\n",
      "\n",
      "**Data Set Characteristics:**\n",
      "\n",
      "    :Number of Instances: 569\n",
      "\n",
      "    :Number of Attributes: 30 numeric, predictive attributes and the class\n",
      "\n",
      "    :Attribute Information:\n",
      "        - radius (mean of distances from center to points on the perimeter)\n",
      "        - texture (standard deviation of gray-scale values)\n",
      "        - perimeter\n",
      "        - area\n",
      "        - smoothness (local variation in radius lengths)\n",
      "        - compactness (perimeter^2 / area - 1.0)\n",
      "        - concavity (severity of concave portions of the contour)\n",
      "        - concave points (number of concave portions of the contour)\n",
      "        - symmetry\n",
      "        - fractal dimension (\"coastline approximation\" - 1)\n",
      "\n",
      "        The mean, standard error, and \"worst\" or largest (mean of the three\n",
      "        worst/largest values) of these features were computed for each image,\n",
      "        resulting in 30 features.  For instance, field 0 is Mean Radius, field\n",
      "        10 is Radius SE, field 20 is Worst Radius.\n",
      "\n",
      "        - class:\n",
      "                - WDBC-Malignant\n",
      "                - WDBC-Benign\n",
      "\n",
      "    :Summary Statistics:\n",
      "\n",
      "    ===================================== ====== ======\n",
      "                                           Min    Max\n",
      "    ===================================== ====== ======\n",
      "    radius (mean):                        6.981  28.11\n",
      "    texture (mean):                       9.71   39.28\n",
      "    perimeter (mean):                     43.79  188.5\n",
      "    area (mean):                          143.5  2501.0\n",
      "    smoothness (mean):                    0.053  0.163\n",
      "    compactness (mean):                   0.019  0.345\n",
      "    concavity (mean):                     0.0    0.427\n",
      "    concave points (mean):                0.0    0.201\n",
      "    symmetry (mean):                      0.106  0.304\n",
      "    fractal dimension (mean):             0.05   0.097\n",
      "    radius (standard error):              0.112  2.873\n",
      "    texture (standard error):             0.36   4.885\n",
      "    perimeter (standard error):           0.757  21.98\n",
      "    area (standard error):                6.802  542.2\n",
      "    smoothness (standard error):          0.002  0.031\n",
      "    compactness (standard error):         0.002  0.135\n",
      "    concavity (standard error):           0.0    0.396\n",
      "    concave points (standard error):      0.0    0.053\n",
      "    symmetry (standard error):            0.008  0.079\n",
      "    fractal dimension (standard error):   0.001  0.03\n",
      "    radius (worst):                       7.93   36.04\n",
      "    texture (worst):                      12.02  49.54\n",
      "    perimeter (worst):                    50.41  251.2\n",
      "    area (worst):                         185.2  4254.0\n",
      "    smoothness (worst):                   0.071  0.223\n",
      "    compactness (worst):                  0.027  1.058\n",
      "    concavity (worst):                    0.0    1.252\n",
      "    concave points (worst):               0.0    0.291\n",
      "    symmetry (worst):                     0.156  0.664\n",
      "    fractal dimension (worst):            0.055  0.208\n",
      "    ===================================== ====== ======\n",
      "\n",
      "    :Missing Attribute Values: None\n",
      "\n",
      "    :Class Distribution: 212 - Malignant, 357 - Benign\n",
      "\n",
      "    :Creator:  Dr. William H. Wolberg, W. Nick Street, Olvi L. Mangasarian\n",
      "\n",
      "    :Donor: Nick Street\n",
      "\n",
      "    :Date: November, 1995\n",
      "\n",
      "This is a copy of UCI ML Breast Cancer Wisconsin (Diagnostic) datasets.\n",
      "https://goo.gl/U2Uwz2\n",
      "\n",
      "Features are computed from a digitized image of a fine needle\n",
      "aspirate (FNA) of a breast mass.  They describe\n",
      "characteristics of the cell nuclei present in the image.\n",
      "\n",
      "Separating plane described above was obtained using\n",
      "Multisurface Method-Tree (MSM-T) [K. P. Bennett, \"Decision Tree\n",
      "Construction Via Linear Programming.\" Proceedings of the 4th\n",
      "Midwest Artificial Intelligence and Cognitive Science Society,\n",
      "pp. 97-101, 1992], a classification method which uses linear\n",
      "programming to construct a decision tree.  Relevant features\n",
      "were selected using an exhaustive search in the space of 1-4\n",
      "features and 1-3 separating planes.\n",
      "\n",
      "The actual linear program used to obtain the separating plane\n",
      "in the 3-dimensional space is that described in:\n",
      "[K. P. Bennett and O. L. Mangasarian: \"Robust Linear\n",
      "Programming Discrimination of Two Linearly Inseparable Sets\",\n",
      "Optimization Methods and Software 1, 1992, 23-34].\n",
      "\n",
      "This database is also available through the UW CS ftp server:\n",
      "\n",
      "ftp ftp.cs.wisc.edu\n",
      "cd math-prog/cpo-dataset/machine-learn/WDBC/\n",
      "\n",
      ".. topic:: References\n",
      "\n",
      "   - W.N. Street, W.H. Wolberg and O.L. Mangasarian. Nuclear feature extraction \n",
      "     for breast tumor diagnosis. IS&T/SPIE 1993 International Symposium on \n",
      "     Electronic Imaging: Science and Technology, volume 1905, pages 861-870,\n",
      "     San Jose, CA, 1993.\n",
      "   - O.L. Mangasarian, W.N. Street and W.H. Wolberg. Breast cancer diagnosis and \n",
      "     prognosis via linear programming. Operations Research, 43(4), pages 570-577, \n",
      "     July-August 1995.\n",
      "   - W.H. Wolberg, W.N. Street, and O.L. Mangasarian. Machine learning techniques\n",
      "     to diagnose breast cancer from fine-needle aspirates. Cancer Letters 77 (1994) \n",
      "     163-171.\n"
     ]
    }
   ],
   "source": [
    "print(the_data['DESCR'])"
   ]
  },
  {
   "cell_type": "code",
   "execution_count": 81,
   "id": "b272e953",
   "metadata": {},
   "outputs": [],
   "source": [
    "# 0 – \"benign\" \n",
    "# 1 – \"malignant\" \n",
    "relabeled_target = 1 - the_data[\"target\"] \n",
    "\n",
    "from sklearn.model_selection import train_test_split \n",
    "X = the_data[\"data\"] \n",
    "y = relabeled_target \n",
    "X_train, X_test, y_train, y_test = train_test_split(X, y, random_state=0)"
   ]
  },
  {
   "cell_type": "markdown",
   "id": "6949f445",
   "metadata": {},
   "source": [
    "About 37% of data are attributed to class `malignant`:"
   ]
  },
  {
   "cell_type": "code",
   "execution_count": 82,
   "id": "f8a947a6",
   "metadata": {},
   "outputs": [
    {
     "data": {
      "text/plain": [
       "(0.3732394366197183, 0.3706293706293706)"
      ]
     },
     "execution_count": 82,
     "metadata": {},
     "output_type": "execute_result"
    }
   ],
   "source": [
    "y_train.mean(), y_test.mean()"
   ]
  },
  {
   "cell_type": "markdown",
   "id": "9cb9d10a",
   "metadata": {},
   "source": [
    "### Dummy classifier"
   ]
  },
  {
   "cell_type": "code",
   "execution_count": 83,
   "id": "137550b3",
   "metadata": {},
   "outputs": [
    {
     "data": {
      "text/html": [
       "<style>#sk-container-id-2 {color: black;background-color: white;}#sk-container-id-2 pre{padding: 0;}#sk-container-id-2 div.sk-toggleable {background-color: white;}#sk-container-id-2 label.sk-toggleable__label {cursor: pointer;display: block;width: 100%;margin-bottom: 0;padding: 0.3em;box-sizing: border-box;text-align: center;}#sk-container-id-2 label.sk-toggleable__label-arrow:before {content: \"▸\";float: left;margin-right: 0.25em;color: #696969;}#sk-container-id-2 label.sk-toggleable__label-arrow:hover:before {color: black;}#sk-container-id-2 div.sk-estimator:hover label.sk-toggleable__label-arrow:before {color: black;}#sk-container-id-2 div.sk-toggleable__content {max-height: 0;max-width: 0;overflow: hidden;text-align: left;background-color: #f0f8ff;}#sk-container-id-2 div.sk-toggleable__content pre {margin: 0.2em;color: black;border-radius: 0.25em;background-color: #f0f8ff;}#sk-container-id-2 input.sk-toggleable__control:checked~div.sk-toggleable__content {max-height: 200px;max-width: 100%;overflow: auto;}#sk-container-id-2 input.sk-toggleable__control:checked~label.sk-toggleable__label-arrow:before {content: \"▾\";}#sk-container-id-2 div.sk-estimator input.sk-toggleable__control:checked~label.sk-toggleable__label {background-color: #d4ebff;}#sk-container-id-2 div.sk-label input.sk-toggleable__control:checked~label.sk-toggleable__label {background-color: #d4ebff;}#sk-container-id-2 input.sk-hidden--visually {border: 0;clip: rect(1px 1px 1px 1px);clip: rect(1px, 1px, 1px, 1px);height: 1px;margin: -1px;overflow: hidden;padding: 0;position: absolute;width: 1px;}#sk-container-id-2 div.sk-estimator {font-family: monospace;background-color: #f0f8ff;border: 1px dotted black;border-radius: 0.25em;box-sizing: border-box;margin-bottom: 0.5em;}#sk-container-id-2 div.sk-estimator:hover {background-color: #d4ebff;}#sk-container-id-2 div.sk-parallel-item::after {content: \"\";width: 100%;border-bottom: 1px solid gray;flex-grow: 1;}#sk-container-id-2 div.sk-label:hover label.sk-toggleable__label {background-color: #d4ebff;}#sk-container-id-2 div.sk-serial::before {content: \"\";position: absolute;border-left: 1px solid gray;box-sizing: border-box;top: 0;bottom: 0;left: 50%;z-index: 0;}#sk-container-id-2 div.sk-serial {display: flex;flex-direction: column;align-items: center;background-color: white;padding-right: 0.2em;padding-left: 0.2em;position: relative;}#sk-container-id-2 div.sk-item {position: relative;z-index: 1;}#sk-container-id-2 div.sk-parallel {display: flex;align-items: stretch;justify-content: center;background-color: white;position: relative;}#sk-container-id-2 div.sk-item::before, #sk-container-id-2 div.sk-parallel-item::before {content: \"\";position: absolute;border-left: 1px solid gray;box-sizing: border-box;top: 0;bottom: 0;left: 50%;z-index: -1;}#sk-container-id-2 div.sk-parallel-item {display: flex;flex-direction: column;z-index: 1;position: relative;background-color: white;}#sk-container-id-2 div.sk-parallel-item:first-child::after {align-self: flex-end;width: 50%;}#sk-container-id-2 div.sk-parallel-item:last-child::after {align-self: flex-start;width: 50%;}#sk-container-id-2 div.sk-parallel-item:only-child::after {width: 0;}#sk-container-id-2 div.sk-dashed-wrapped {border: 1px dashed gray;margin: 0 0.4em 0.5em 0.4em;box-sizing: border-box;padding-bottom: 0.4em;background-color: white;}#sk-container-id-2 div.sk-label label {font-family: monospace;font-weight: bold;display: inline-block;line-height: 1.2em;}#sk-container-id-2 div.sk-label-container {text-align: center;}#sk-container-id-2 div.sk-container {/* jupyter's `normalize.less` sets `[hidden] { display: none; }` but bootstrap.min.css set `[hidden] { display: none !important; }` so we also need the `!important` here to be able to override the default hidden behavior on the sphinx rendered scikit-learn.org. See: https://github.com/scikit-learn/scikit-learn/issues/21755 */display: inline-block !important;position: relative;}#sk-container-id-2 div.sk-text-repr-fallback {display: none;}</style><div id=\"sk-container-id-2\" class=\"sk-top-container\"><div class=\"sk-text-repr-fallback\"><pre>DummyClassifier(strategy=&#x27;most_frequent&#x27;)</pre><b>In a Jupyter environment, please rerun this cell to show the HTML representation or trust the notebook. <br />On GitHub, the HTML representation is unable to render, please try loading this page with nbviewer.org.</b></div><div class=\"sk-container\" hidden><div class=\"sk-item\"><div class=\"sk-estimator sk-toggleable\"><input class=\"sk-toggleable__control sk-hidden--visually\" id=\"sk-estimator-id-2\" type=\"checkbox\" checked><label for=\"sk-estimator-id-2\" class=\"sk-toggleable__label sk-toggleable__label-arrow\">DummyClassifier</label><div class=\"sk-toggleable__content\"><pre>DummyClassifier(strategy=&#x27;most_frequent&#x27;)</pre></div></div></div></div></div>"
      ],
      "text/plain": [
       "DummyClassifier(strategy='most_frequent')"
      ]
     },
     "execution_count": 83,
     "metadata": {},
     "output_type": "execute_result"
    }
   ],
   "source": [
    "from sklearn.dummy import DummyClassifier \n",
    "dc_mf = DummyClassifier(strategy=\"most_frequent\") \n",
    "dc_mf.fit(X_train, y_train) "
   ]
  },
  {
   "cell_type": "markdown",
   "id": "76907aa4",
   "metadata": {},
   "source": [
    "### Confusion matrix"
   ]
  },
  {
   "cell_type": "code",
   "execution_count": 84,
   "id": "6de3af77",
   "metadata": {},
   "outputs": [],
   "source": [
    "from sklearn.metrics import confusion_matrix, recall_score, precision_score, f1_score, accuracy_score, roc_auc_score\n",
    "import pandas as pd\n",
    "\n",
    "def confusion_matrix2df(y_true, y_pred):\n",
    "    dc_mf_tn, dc_mf_fp, dc_mf_fn, dc_mf_tp = confusion_matrix(y_true, y_pred, labels = [0, 1]).ravel() \n",
    "    return pd.DataFrame([[dc_mf_tp, dc_mf_fn], [dc_mf_fp, dc_mf_tn]], columns=['Pred +', 'Pred -'], index=[\"True +\", \"True -\"])"
   ]
  },
  {
   "cell_type": "code",
   "execution_count": 85,
   "id": "7cf62fc9",
   "metadata": {},
   "outputs": [
    {
     "data": {
      "text/html": [
       "<div>\n",
       "<style scoped>\n",
       "    .dataframe tbody tr th:only-of-type {\n",
       "        vertical-align: middle;\n",
       "    }\n",
       "\n",
       "    .dataframe tbody tr th {\n",
       "        vertical-align: top;\n",
       "    }\n",
       "\n",
       "    .dataframe thead th {\n",
       "        text-align: right;\n",
       "    }\n",
       "</style>\n",
       "<table border=\"1\" class=\"dataframe\">\n",
       "  <thead>\n",
       "    <tr style=\"text-align: right;\">\n",
       "      <th></th>\n",
       "      <th>Pred +</th>\n",
       "      <th>Pred -</th>\n",
       "    </tr>\n",
       "  </thead>\n",
       "  <tbody>\n",
       "    <tr>\n",
       "      <th>True +</th>\n",
       "      <td>0</td>\n",
       "      <td>53</td>\n",
       "    </tr>\n",
       "    <tr>\n",
       "      <th>True -</th>\n",
       "      <td>0</td>\n",
       "      <td>90</td>\n",
       "    </tr>\n",
       "  </tbody>\n",
       "</table>\n",
       "</div>"
      ],
      "text/plain": [
       "        Pred +  Pred -\n",
       "True +       0      53\n",
       "True -       0      90"
      ]
     },
     "execution_count": 85,
     "metadata": {},
     "output_type": "execute_result"
    }
   ],
   "source": [
    "y_pred = dc_mf.predict(X_test)\n",
    "confusion_matrix2df(y_test, y_pred)"
   ]
  },
  {
   "cell_type": "code",
   "execution_count": 86,
   "id": "98264825",
   "metadata": {},
   "outputs": [],
   "source": [
    "def print_metrics(y_true, y_pred):\n",
    "    print(\"Accuracy:\", accuracy_score(y_true, y_pred))\n",
    "    print(\"Precision:\", precision_score(y_true, y_pred))\n",
    "    print(\"Recall:\", recall_score(y_true, y_pred))\n",
    "    print(\"f1_score:\", f1_score(y_true, y_pred))\n",
    "    print(\"roc_auc_score:\", roc_auc_score(y_true, y_pred))"
   ]
  },
  {
   "cell_type": "code",
   "execution_count": 87,
   "id": "93b64288",
   "metadata": {},
   "outputs": [
    {
     "name": "stdout",
     "output_type": "stream",
     "text": [
      "Accuracy: 0.6293706293706294\n",
      "Precision: 0.0\n",
      "Recall: 0.0\n",
      "f1_score: 0.0\n",
      "roc_auc_score: 0.5\n"
     ]
    },
    {
     "name": "stderr",
     "output_type": "stream",
     "text": [
      "/Library/Frameworks/Python.framework/Versions/3.10/lib/python3.10/site-packages/sklearn/metrics/_classification.py:1344: UndefinedMetricWarning: Precision is ill-defined and being set to 0.0 due to no predicted samples. Use `zero_division` parameter to control this behavior.\n",
      "  _warn_prf(average, modifier, msg_start, len(result))\n"
     ]
    }
   ],
   "source": [
    "print_metrics(y_true, y_pred)"
   ]
  },
  {
   "cell_type": "markdown",
   "id": "46750a5c",
   "metadata": {},
   "source": [
    "### Random Forest"
   ]
  },
  {
   "cell_type": "code",
   "execution_count": 88,
   "id": "e516a5e4",
   "metadata": {},
   "outputs": [
    {
     "data": {
      "text/html": [
       "<div>\n",
       "<style scoped>\n",
       "    .dataframe tbody tr th:only-of-type {\n",
       "        vertical-align: middle;\n",
       "    }\n",
       "\n",
       "    .dataframe tbody tr th {\n",
       "        vertical-align: top;\n",
       "    }\n",
       "\n",
       "    .dataframe thead th {\n",
       "        text-align: right;\n",
       "    }\n",
       "</style>\n",
       "<table border=\"1\" class=\"dataframe\">\n",
       "  <thead>\n",
       "    <tr style=\"text-align: right;\">\n",
       "      <th></th>\n",
       "      <th>Pred +</th>\n",
       "      <th>Pred -</th>\n",
       "    </tr>\n",
       "  </thead>\n",
       "  <tbody>\n",
       "    <tr>\n",
       "      <th>True +</th>\n",
       "      <td>52</td>\n",
       "      <td>1</td>\n",
       "    </tr>\n",
       "    <tr>\n",
       "      <th>True -</th>\n",
       "      <td>4</td>\n",
       "      <td>86</td>\n",
       "    </tr>\n",
       "  </tbody>\n",
       "</table>\n",
       "</div>"
      ],
      "text/plain": [
       "        Pred +  Pred -\n",
       "True +      52       1\n",
       "True -       4      86"
      ]
     },
     "execution_count": 88,
     "metadata": {},
     "output_type": "execute_result"
    }
   ],
   "source": [
    "from sklearn.ensemble import RandomForestClassifier \n",
    "rfc = RandomForestClassifier()       \n",
    "rfc.fit(X_train, y_train)       \n",
    "y_true = y_test       \n",
    "y_pred = rfc.predict(X_test)       \n",
    "confusion_matrix2df(y_true, y_pred)"
   ]
  },
  {
   "cell_type": "code",
   "execution_count": 89,
   "id": "b50354f9",
   "metadata": {},
   "outputs": [
    {
     "name": "stdout",
     "output_type": "stream",
     "text": [
      "Accuracy: 0.965034965034965\n",
      "Precision: 0.9285714285714286\n",
      "Recall: 0.9811320754716981\n",
      "f1_score: 0.9541284403669724\n",
      "roc_auc_score: 0.9683438155136268\n"
     ]
    }
   ],
   "source": [
    "print_metrics(y_true, y_pred)"
   ]
  },
  {
   "cell_type": "markdown",
   "id": "0648a87a",
   "metadata": {},
   "source": [
    "### SVM"
   ]
  },
  {
   "cell_type": "code",
   "execution_count": 90,
   "id": "14eb8263",
   "metadata": {},
   "outputs": [
    {
     "data": {
      "text/html": [
       "<div>\n",
       "<style scoped>\n",
       "    .dataframe tbody tr th:only-of-type {\n",
       "        vertical-align: middle;\n",
       "    }\n",
       "\n",
       "    .dataframe tbody tr th {\n",
       "        vertical-align: top;\n",
       "    }\n",
       "\n",
       "    .dataframe thead th {\n",
       "        text-align: right;\n",
       "    }\n",
       "</style>\n",
       "<table border=\"1\" class=\"dataframe\">\n",
       "  <thead>\n",
       "    <tr style=\"text-align: right;\">\n",
       "      <th></th>\n",
       "      <th>Pred +</th>\n",
       "      <th>Pred -</th>\n",
       "    </tr>\n",
       "  </thead>\n",
       "  <tbody>\n",
       "    <tr>\n",
       "      <th>True +</th>\n",
       "      <td>50</td>\n",
       "      <td>3</td>\n",
       "    </tr>\n",
       "    <tr>\n",
       "      <th>True -</th>\n",
       "      <td>1</td>\n",
       "      <td>89</td>\n",
       "    </tr>\n",
       "  </tbody>\n",
       "</table>\n",
       "</div>"
      ],
      "text/plain": [
       "        Pred +  Pred -\n",
       "True +      50       3\n",
       "True -       1      89"
      ]
     },
     "execution_count": 90,
     "metadata": {},
     "output_type": "execute_result"
    }
   ],
   "source": [
    "from sklearn.svm import LinearSVC\n",
    "from sklearn.preprocessing import StandardScaler \n",
    "ss = StandardScaler() \n",
    "ss.fit(X_train) \n",
    "scaled_linsvc = LinearSVC(C=0.01,random_state=42) \n",
    "scaled_linsvc.fit(ss.transform(X_train), y_train) \n",
    "y_true = y_test \n",
    "y_pred = scaled_linsvc.predict(ss.transform(X_test)) \n",
    "confusion_matrix2df(y_true, y_pred)"
   ]
  },
  {
   "cell_type": "code",
   "execution_count": 91,
   "id": "4c60fced",
   "metadata": {},
   "outputs": [
    {
     "name": "stdout",
     "output_type": "stream",
     "text": [
      "Accuracy: 0.972027972027972\n",
      "Precision: 0.9803921568627451\n",
      "Recall: 0.9433962264150944\n",
      "f1_score: 0.9615384615384616\n",
      "roc_auc_score: 0.9661425576519916\n"
     ]
    }
   ],
   "source": [
    "print_metrics(y_true, y_pred)"
   ]
  },
  {
   "cell_type": "markdown",
   "id": "f16b3533",
   "metadata": {},
   "source": [
    "### Logistic Regression"
   ]
  },
  {
   "cell_type": "code",
   "execution_count": 92,
   "id": "4f2b7c66",
   "metadata": {},
   "outputs": [
    {
     "data": {
      "text/html": [
       "<div>\n",
       "<style scoped>\n",
       "    .dataframe tbody tr th:only-of-type {\n",
       "        vertical-align: middle;\n",
       "    }\n",
       "\n",
       "    .dataframe tbody tr th {\n",
       "        vertical-align: top;\n",
       "    }\n",
       "\n",
       "    .dataframe thead th {\n",
       "        text-align: right;\n",
       "    }\n",
       "</style>\n",
       "<table border=\"1\" class=\"dataframe\">\n",
       "  <thead>\n",
       "    <tr style=\"text-align: right;\">\n",
       "      <th></th>\n",
       "      <th>Pred +</th>\n",
       "      <th>Pred -</th>\n",
       "    </tr>\n",
       "  </thead>\n",
       "  <tbody>\n",
       "    <tr>\n",
       "      <th>True +</th>\n",
       "      <td>52</td>\n",
       "      <td>1</td>\n",
       "    </tr>\n",
       "    <tr>\n",
       "      <th>True -</th>\n",
       "      <td>6</td>\n",
       "      <td>84</td>\n",
       "    </tr>\n",
       "  </tbody>\n",
       "</table>\n",
       "</div>"
      ],
      "text/plain": [
       "        Pred +  Pred -\n",
       "True +      52       1\n",
       "True -       6      84"
      ]
     },
     "execution_count": 92,
     "metadata": {},
     "output_type": "execute_result"
    }
   ],
   "source": [
    "from sklearn.linear_model import LogisticRegression\n",
    "\n",
    "lrc = LogisticRegression(max_iter=10000)       \n",
    "lrc.fit(X_train, y_train)       \n",
    "y_true = y_test       \n",
    "y_pred = lrc.predict(X_test)       \n",
    "confusion_matrix2df(y_true, y_pred)"
   ]
  },
  {
   "cell_type": "code",
   "execution_count": 93,
   "id": "627d0964",
   "metadata": {},
   "outputs": [
    {
     "name": "stdout",
     "output_type": "stream",
     "text": [
      "Accuracy: 0.951048951048951\n",
      "Precision: 0.896551724137931\n",
      "Recall: 0.9811320754716981\n",
      "f1_score: 0.9369369369369369\n",
      "roc_auc_score: 0.9572327044025157\n"
     ]
    }
   ],
   "source": [
    "print_metrics(y_true, y_pred)"
   ]
  },
  {
   "cell_type": "code",
   "execution_count": 94,
   "id": "2af7a366",
   "metadata": {},
   "outputs": [
    {
     "data": {
      "text/plain": [
       "array([[4.77319937e-03, 9.95226801e-01],\n",
       "       [9.67991011e-01, 3.20089888e-02],\n",
       "       [9.98480703e-01, 1.51929660e-03],\n",
       "       [8.40969821e-01, 1.59030179e-01],\n",
       "       [9.99966717e-01, 3.32825821e-05],\n",
       "       [9.99301768e-01, 6.98231789e-04],\n",
       "       [9.96966046e-01, 3.03395422e-03],\n",
       "       [9.99441118e-01, 5.58881570e-04],\n",
       "       [9.99898476e-01, 1.01523690e-04],\n",
       "       [9.99984471e-01, 1.55291036e-05],\n",
       "       [2.60605021e-01, 7.39394979e-01],\n",
       "       [7.94048937e-01, 2.05951063e-01],\n",
       "       [9.99913207e-01, 8.67934428e-05],\n",
       "       [2.47335496e-01, 7.52664504e-01],\n",
       "       [6.40254026e-01, 3.59745974e-01],\n",
       "       [8.07639707e-03, 9.91923603e-01],\n",
       "       [9.99544412e-01, 4.55587615e-04],\n",
       "       [1.56533192e-07, 9.99999843e-01],\n",
       "       [3.75852099e-03, 9.96241479e-01],\n",
       "       [3.38148398e-10, 1.00000000e+00],\n",
       "       [6.07931873e-05, 9.99939207e-01],\n",
       "       [3.27231757e-02, 9.67276824e-01],\n",
       "       [9.97895308e-01, 2.10469163e-03],\n",
       "       [9.95815512e-01, 4.18448756e-03],\n",
       "       [1.37943466e-01, 8.62056534e-01],\n",
       "       [9.95875567e-01, 4.12443304e-03],\n",
       "       [9.99765032e-01, 2.34968280e-04],\n",
       "       [7.61312698e-02, 9.23868730e-01],\n",
       "       [9.97773984e-01, 2.22601621e-03],\n",
       "       [4.49803750e-10, 1.00000000e+00],\n",
       "       [9.99864312e-01, 1.35687552e-04],\n",
       "       [6.56665635e-06, 9.99993433e-01],\n",
       "       [7.11523664e-01, 2.88476336e-01],\n",
       "       [3.51828848e-04, 9.99648171e-01],\n",
       "       [9.99995569e-01, 4.43136749e-06],\n",
       "       [1.00429530e-03, 9.98995705e-01],\n",
       "       [9.42336949e-01, 5.76630506e-02],\n",
       "       [2.35260540e-05, 9.99976474e-01],\n",
       "       [9.93176363e-01, 6.82363749e-03],\n",
       "       [2.34136049e-04, 9.99765864e-01],\n",
       "       [5.03696975e-02, 9.49630302e-01],\n",
       "       [9.99940481e-01, 5.95186847e-05],\n",
       "       [2.05174099e-03, 9.97948259e-01],\n",
       "       [9.99935306e-01, 6.46941168e-05],\n",
       "       [7.29157947e-02, 9.27084205e-01],\n",
       "       [7.29115435e-10, 9.99999999e-01],\n",
       "       [9.99998427e-01, 1.57305169e-06],\n",
       "       [9.51751169e-01, 4.82488308e-02],\n",
       "       [9.99582638e-01, 4.17362432e-04],\n",
       "       [1.65634888e-04, 9.99834365e-01],\n",
       "       [9.25829739e-07, 9.99999074e-01],\n",
       "       [1.05611440e-01, 8.94388560e-01],\n",
       "       [4.07322199e-06, 9.99995927e-01],\n",
       "       [9.98822928e-01, 1.17707243e-03],\n",
       "       [9.94245845e-01, 5.75415495e-03],\n",
       "       [9.99793463e-01, 2.06536930e-04],\n",
       "       [9.96987445e-01, 3.01255480e-03],\n",
       "       [9.83919905e-01, 1.60800954e-02],\n",
       "       [9.88958943e-01, 1.10410571e-02],\n",
       "       [1.13242749e-14, 1.00000000e+00],\n",
       "       [3.52452794e-03, 9.96475472e-01],\n",
       "       [9.45866681e-05, 9.99905413e-01],\n",
       "       [9.99708680e-01, 2.91319573e-04],\n",
       "       [9.97105092e-01, 2.89490788e-03],\n",
       "       [1.16220572e-07, 9.99999884e-01],\n",
       "       [9.21627927e-01, 7.83720732e-02],\n",
       "       [2.22044605e-16, 1.00000000e+00],\n",
       "       [1.83764165e-06, 9.99998162e-01],\n",
       "       [3.13470459e-07, 9.99999687e-01],\n",
       "       [9.99515801e-01, 4.84199278e-04],\n",
       "       [3.80373893e-01, 6.19626107e-01],\n",
       "       [2.37785541e-06, 9.99997622e-01],\n",
       "       [9.99229056e-01, 7.70944143e-04],\n",
       "       [7.76923071e-01, 2.23076929e-01],\n",
       "       [6.40269816e-06, 9.99993597e-01],\n",
       "       [9.76315341e-01, 2.36846589e-02],\n",
       "       [9.99985061e-01, 1.49386828e-05],\n",
       "       [9.85977479e-01, 1.40225209e-02],\n",
       "       [9.98742585e-01, 1.25741534e-03],\n",
       "       [9.99909277e-01, 9.07228656e-05],\n",
       "       [1.67171606e-03, 9.98328284e-01],\n",
       "       [2.02349693e-10, 1.00000000e+00],\n",
       "       [1.00440918e-05, 9.99989956e-01],\n",
       "       [9.99892761e-01, 1.07238995e-04],\n",
       "       [4.31290204e-02, 9.56870980e-01],\n",
       "       [9.99681541e-01, 3.18458632e-04],\n",
       "       [9.98497340e-01, 1.50265971e-03],\n",
       "       [9.99994286e-01, 5.71438134e-06],\n",
       "       [5.48596888e-05, 9.99945140e-01],\n",
       "       [1.52482471e-11, 1.00000000e+00],\n",
       "       [9.99993438e-01, 6.56203429e-06],\n",
       "       [3.26061190e-01, 6.73938810e-01],\n",
       "       [2.31858870e-01, 7.68141130e-01],\n",
       "       [5.27315753e-05, 9.99947268e-01],\n",
       "       [9.99228785e-01, 7.71215154e-04],\n",
       "       [9.99354433e-01, 6.45567093e-04],\n",
       "       [7.54951657e-15, 1.00000000e+00],\n",
       "       [8.93308100e-01, 1.06691900e-01],\n",
       "       [9.86861748e-01, 1.31382517e-02],\n",
       "       [9.95555855e-01, 4.44414498e-03],\n",
       "       [9.99981073e-01, 1.89270209e-05],\n",
       "       [9.97022830e-01, 2.97717021e-03],\n",
       "       [9.92453960e-01, 7.54603979e-03],\n",
       "       [7.56846420e-01, 2.43153580e-01],\n",
       "       [6.85189077e-07, 9.99999315e-01],\n",
       "       [9.99910782e-01, 8.92178980e-05],\n",
       "       [1.99731582e-05, 9.99980027e-01],\n",
       "       [6.46627644e-01, 3.53372356e-01],\n",
       "       [1.38323294e-01, 8.61676706e-01],\n",
       "       [2.76936576e-01, 7.23063424e-01],\n",
       "       [9.76969306e-01, 2.30306942e-02],\n",
       "       [5.27227245e-03, 9.94727728e-01],\n",
       "       [4.95373424e-05, 9.99950463e-01],\n",
       "       [7.88690284e-01, 2.11309716e-01],\n",
       "       [9.99588731e-01, 4.11269057e-04],\n",
       "       [9.61207028e-01, 3.87929721e-02],\n",
       "       [9.40450051e-01, 5.95499492e-02],\n",
       "       [9.99771872e-01, 2.28127620e-04],\n",
       "       [8.75381285e-01, 1.24618715e-01],\n",
       "       [9.97480512e-01, 2.51948793e-03],\n",
       "       [9.97284023e-01, 2.71597716e-03],\n",
       "       [9.98980534e-01, 1.01946585e-03],\n",
       "       [1.45290948e-02, 9.85470905e-01],\n",
       "       [9.97405706e-01, 2.59429425e-03],\n",
       "       [4.62418125e-08, 9.99999954e-01],\n",
       "       [9.66818533e-01, 3.31814670e-02],\n",
       "       [4.47584669e-01, 5.52415331e-01],\n",
       "       [9.99927370e-01, 7.26298000e-05],\n",
       "       [9.99951881e-01, 4.81192250e-05],\n",
       "       [9.99837897e-01, 1.62103058e-04],\n",
       "       [4.57211968e-06, 9.99995428e-01],\n",
       "       [9.99202291e-01, 7.97708902e-04],\n",
       "       [9.98708311e-01, 1.29168907e-03],\n",
       "       [8.38350139e-01, 1.61649861e-01],\n",
       "       [9.61924049e-01, 3.80759508e-02],\n",
       "       [9.99968173e-01, 3.18268881e-05],\n",
       "       [5.70310344e-01, 4.29689656e-01],\n",
       "       [5.99787224e-02, 9.40021278e-01],\n",
       "       [0.00000000e+00, 1.00000000e+00],\n",
       "       [9.99917260e-01, 8.27398599e-05],\n",
       "       [9.99222161e-01, 7.77839060e-04],\n",
       "       [9.99590145e-01, 4.09855228e-04],\n",
       "       [1.59934288e-11, 1.00000000e+00]])"
      ]
     },
     "execution_count": 94,
     "metadata": {},
     "output_type": "execute_result"
    }
   ],
   "source": [
    "lrc.predict_proba(X_test) "
   ]
  },
  {
   "cell_type": "markdown",
   "id": "b13438ad",
   "metadata": {},
   "source": [
    "### Using threshold for predictions"
   ]
  },
  {
   "cell_type": "code",
   "execution_count": 95,
   "id": "e99fa580",
   "metadata": {},
   "outputs": [
    {
     "name": "stdout",
     "output_type": "stream",
     "text": [
      "0.05\n",
      "Accuracy: 0.8601398601398601\n",
      "Precision: 0.726027397260274\n",
      "Recall: 1.0\n",
      "f1_score: 0.8412698412698413\n",
      "roc_auc_score: 0.8888888888888888\n",
      "0.1\n",
      "Accuracy: 0.8811188811188811\n",
      "Precision: 0.7571428571428571\n",
      "Recall: 1.0\n",
      "f1_score: 0.8617886178861789\n",
      "roc_auc_score: 0.9055555555555556\n",
      "0.15000000000000002\n",
      "Accuracy: 0.8951048951048951\n",
      "Precision: 0.7794117647058824\n",
      "Recall: 1.0\n",
      "f1_score: 0.8760330578512397\n",
      "roc_auc_score: 0.9166666666666667\n",
      "0.2\n",
      "Accuracy: 0.9090909090909091\n",
      "Precision: 0.803030303030303\n",
      "Recall: 1.0\n",
      "f1_score: 0.8907563025210083\n",
      "roc_auc_score: 0.9277777777777778\n",
      "0.25\n",
      "Accuracy: 0.9230769230769231\n",
      "Precision: 0.8387096774193549\n",
      "Recall: 0.9811320754716981\n",
      "f1_score: 0.9043478260869565\n",
      "roc_auc_score: 0.9350104821802934\n",
      "0.3\n",
      "Accuracy: 0.9300699300699301\n",
      "Precision: 0.8524590163934426\n",
      "Recall: 0.9811320754716981\n",
      "f1_score: 0.912280701754386\n",
      "roc_auc_score: 0.940566037735849\n",
      "0.35000000000000003\n",
      "Accuracy: 0.9300699300699301\n",
      "Precision: 0.8524590163934426\n",
      "Recall: 0.9811320754716981\n",
      "f1_score: 0.912280701754386\n",
      "roc_auc_score: 0.940566037735849\n",
      "0.4\n",
      "Accuracy: 0.9440559440559441\n",
      "Precision: 0.8813559322033898\n",
      "Recall: 0.9811320754716981\n",
      "f1_score: 0.9285714285714285\n",
      "roc_auc_score: 0.9516771488469602\n",
      "0.45\n",
      "Accuracy: 0.951048951048951\n",
      "Precision: 0.896551724137931\n",
      "Recall: 0.9811320754716981\n",
      "f1_score: 0.9369369369369369\n",
      "roc_auc_score: 0.9572327044025157\n",
      "0.5\n",
      "Accuracy: 0.951048951048951\n",
      "Precision: 0.896551724137931\n",
      "Recall: 0.9811320754716981\n",
      "f1_score: 0.9369369369369369\n",
      "roc_auc_score: 0.9572327044025157\n",
      "0.55\n",
      "Accuracy: 0.951048951048951\n",
      "Precision: 0.896551724137931\n",
      "Recall: 0.9811320754716981\n",
      "f1_score: 0.9369369369369369\n",
      "roc_auc_score: 0.9572327044025157\n",
      "0.6000000000000001\n",
      "Accuracy: 0.958041958041958\n",
      "Precision: 0.9122807017543859\n",
      "Recall: 0.9811320754716981\n",
      "f1_score: 0.9454545454545454\n",
      "roc_auc_score: 0.9627882599580713\n",
      "0.6500000000000001\n",
      "Accuracy: 0.965034965034965\n",
      "Precision: 0.9285714285714286\n",
      "Recall: 0.9811320754716981\n",
      "f1_score: 0.9541284403669724\n",
      "roc_auc_score: 0.9683438155136268\n",
      "0.7000000000000001\n",
      "Accuracy: 0.958041958041958\n",
      "Precision: 0.9272727272727272\n",
      "Recall: 0.9622641509433962\n",
      "f1_score: 0.9444444444444444\n",
      "roc_auc_score: 0.958909853249476\n",
      "0.7500000000000001\n",
      "Accuracy: 0.958041958041958\n",
      "Precision: 0.9433962264150944\n",
      "Recall: 0.9433962264150944\n",
      "f1_score: 0.9433962264150944\n",
      "roc_auc_score: 0.9550314465408805\n",
      "0.8\n",
      "Accuracy: 0.972027972027972\n",
      "Precision: 0.9803921568627451\n",
      "Recall: 0.9433962264150944\n",
      "f1_score: 0.9615384615384616\n",
      "roc_auc_score: 0.9661425576519916\n",
      "0.8500000000000001\n",
      "Accuracy: 0.972027972027972\n",
      "Precision: 0.9803921568627451\n",
      "Recall: 0.9433962264150944\n",
      "f1_score: 0.9615384615384616\n",
      "roc_auc_score: 0.9661425576519916\n",
      "0.9000000000000001\n",
      "Accuracy: 0.951048951048951\n",
      "Precision: 0.9791666666666666\n",
      "Recall: 0.8867924528301887\n",
      "f1_score: 0.9306930693069307\n",
      "roc_auc_score: 0.9378406708595388\n",
      "0.9500000000000001\n",
      "Accuracy: 0.9370629370629371\n",
      "Precision: 1.0\n",
      "Recall: 0.8301886792452831\n",
      "f1_score: 0.9072164948453608\n",
      "roc_auc_score: 0.9150943396226415\n"
     ]
    }
   ],
   "source": [
    "import numpy as np\n",
    "\n",
    "for threshold in np.arange(0.05, 1, step=0.05):\n",
    "    probs = lrc.predict_proba(X_test)\n",
    "    y_pred = (probs[:, 1] > threshold).astype(float)\n",
    "    print(threshold)\n",
    "    print_metrics(y_true, y_pred)"
   ]
  },
  {
   "cell_type": "code",
   "execution_count": 102,
   "id": "8b02fd70",
   "metadata": {},
   "outputs": [
    {
     "data": {
      "text/plain": [
       "array([[1, 1, 1],\n",
       "       [1, 2, 2],\n",
       "       [1, 2, 3]])"
      ]
     },
     "execution_count": 102,
     "metadata": {},
     "output_type": "execute_result"
    }
   ],
   "source": [
    "A = np.array([[1, 1, 1], [1, 2, 2], [1, 2, 3]])\n",
    "A"
   ]
  },
  {
   "cell_type": "code",
   "execution_count": 103,
   "id": "fe57bd57",
   "metadata": {},
   "outputs": [
    {
     "data": {
      "text/plain": [
       "array([[ 2., -1.,  0.],\n",
       "       [-1.,  2., -1.],\n",
       "       [ 0., -1.,  1.]])"
      ]
     },
     "execution_count": 103,
     "metadata": {},
     "output_type": "execute_result"
    }
   ],
   "source": [
    "np.linalg.inv(A)"
   ]
  },
  {
   "cell_type": "code",
   "execution_count": null,
   "id": "9f51503f",
   "metadata": {},
   "outputs": [],
   "source": []
  }
 ],
 "metadata": {
  "kernelspec": {
   "display_name": "Python 3 (ipykernel)",
   "language": "python",
   "name": "python3"
  },
  "language_info": {
   "codemirror_mode": {
    "name": "ipython",
    "version": 3
   },
   "file_extension": ".py",
   "mimetype": "text/x-python",
   "name": "python",
   "nbconvert_exporter": "python",
   "pygments_lexer": "ipython3",
   "version": "3.10.5"
  }
 },
 "nbformat": 4,
 "nbformat_minor": 5
}
