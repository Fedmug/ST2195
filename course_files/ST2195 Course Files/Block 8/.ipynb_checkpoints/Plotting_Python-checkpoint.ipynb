{
 "cells": [
  {
   "cell_type": "markdown",
   "metadata": {},
   "source": [
    "### Import packages"
   ]
  },
  {
   "cell_type": "code",
   "execution_count": 1,
   "metadata": {},
   "outputs": [],
   "source": [
    "import numpy as np\n",
    "import pandas as pd\n",
    "import matplotlib.pyplot as plt\n",
    "import seaborn as sns\n",
    "from datetime import datetime"
   ]
  },
  {
   "cell_type": "markdown",
   "metadata": {},
   "source": [
    "### Set the colour palette to colour blind friendly"
   ]
  },
  {
   "cell_type": "code",
   "execution_count": 2,
   "metadata": {
    "code_folding": []
   },
   "outputs": [],
   "source": [
    "# Set the colour palette to colour blind friendly\n",
    "sns.reset_orig()\n",
    "my_palette = sns.color_palette(\"colorblind\")\n",
    "plt.style.use('seaborn-colorblind')"
   ]
  },
  {
   "cell_type": "markdown",
   "metadata": {},
   "source": [
    "### Load data in `pandas` data frames"
   ]
  },
  {
   "cell_type": "code",
   "execution_count": 3,
   "metadata": {},
   "outputs": [],
   "source": [
    "gdp = pd.read_csv(\"gdp.csv\")\n",
    "# convert the year column from string to datatime object\n",
    "gdp['year'] = gdp['year'].apply(lambda x : datetime.strptime(x, '%Y-%M-%d'))\n",
    "# get the GDP per capita data for each country\n",
    "# reset_index so that each Series has indexes 0,1,2,3...\n",
    "gdp_uk = gdp[gdp['country']=='UK'].reset_index()\n",
    "gdp_fr = gdp[gdp['country']=='FR'].reset_index()\n",
    "\n",
    "#Wine dataset\n",
    "wine = pd.read_csv(\"wine.csv\")"
   ]
  },
  {
   "cell_type": "markdown",
   "metadata": {},
   "source": [
    "### Line plot using `plot`"
   ]
  },
  {
   "cell_type": "code",
   "execution_count": null,
   "metadata": {},
   "outputs": [],
   "source": [
    "plt.plot(gdp_uk['year'], gdp_uk['value'], label = 'U.K.')\n",
    "plt.plot(gdp_fr['year'], gdp_fr['value'], '--', label = 'France') \n",
    "plt.legend()\n",
    "\n",
    "plt.xlabel('year')\n",
    "plt.ylabel('GDP per capita (Euro)')\n",
    "plt.title(\"UK vs France\")\n",
    "\n",
    "plt.show()"
   ]
  },
  {
   "cell_type": "markdown",
   "metadata": {},
   "source": [
    "### Line plot using `ax`"
   ]
  },
  {
   "cell_type": "code",
   "execution_count": null,
   "metadata": {},
   "outputs": [],
   "source": [
    "fig, ax = plt.subplots()\n",
    "\n",
    "ax.plot(gdp_uk['year'], gdp_uk['value'], label = 'U.K.')\n",
    "ax.plot(gdp_fr['year'], gdp_fr['value'], '--', label = 'France')\n",
    "ax.legend()\n",
    "\n",
    "ax.set_xlabel('year') # note it was plt.xlabel('year') above\n",
    "ax.set_ylabel('GDP per capita (Euro)')\n",
    "\n",
    "ax.title.set_text(\"UK vs France\") # note it was plt.title(\"UK vs France\") above\n",
    "plt.show()"
   ]
  },
  {
   "cell_type": "markdown",
   "metadata": {},
   "source": [
    "### Histograms"
   ]
  },
  {
   "cell_type": "code",
   "execution_count": null,
   "metadata": {},
   "outputs": [],
   "source": [
    "fig, ax = plt.subplots()\n",
    "\n",
    "plt.hist(wine['ash'], 10, alpha = 0.6)\n",
    "plt.xlabel('Ash')\n",
    "plt.ylabel('Level')\n",
    "plt.title(\"Ash level in wine\")\n",
    "\n",
    "plt.show()"
   ]
  },
  {
   "cell_type": "markdown",
   "metadata": {},
   "source": [
    "### Boxplots"
   ]
  },
  {
   "cell_type": "code",
   "execution_count": null,
   "metadata": {},
   "outputs": [],
   "source": [
    "ig, ax = plt.subplots()\n",
    "\n",
    "ax.boxplot(wine['color_intensity'])\n",
    "ax.set_ylabel('color_intensity')\n",
    "ax.set_xticklabels([''])\n",
    "\n",
    "plt.show()"
   ]
  },
  {
   "cell_type": "markdown",
   "metadata": {},
   "source": [
    "### Side-by-side boxplots"
   ]
  },
  {
   "cell_type": "code",
   "execution_count": null,
   "metadata": {},
   "outputs": [],
   "source": [
    "fig, ax = plt.subplots(figsize = (8, 4))\n",
    "\n",
    "sns.boxplot(data = wine, x = 'target', y = 'color_intensity', width = 0.3, \n",
    "            boxprops = dict(alpha=0.6)) # note in seaborn, alpha (and other parameters) is set in a different way\n",
    "\n",
    "ax.set_xlabel(\"type of wine\")\n",
    "\n",
    "plt.show()"
   ]
  },
  {
   "cell_type": "markdown",
   "metadata": {},
   "source": [
    "### Side-by-side violin plots"
   ]
  },
  {
   "cell_type": "code",
   "execution_count": null,
   "metadata": {},
   "outputs": [],
   "source": [
    "fig, ax = plt.subplots(figsize=(8, 4))\n",
    "\n",
    "sns.violinplot(data = wine, x = 'target', y = 'color_intensity', ax = ax, width = 0.3)\n",
    "\n",
    "ax.set_xlabel(\"type of wine\")\n",
    "\n",
    "plt.show()"
   ]
  },
  {
   "cell_type": "markdown",
   "metadata": {},
   "source": [
    "### Scatter plots"
   ]
  },
  {
   "cell_type": "code",
   "execution_count": null,
   "metadata": {},
   "outputs": [],
   "source": [
    "ax = wine.plot.scatter('alcohol', 'color_intensity', figsize=(6, 6)) # use a square plot size\n",
    "\n",
    "plt.show()"
   ]
  },
  {
   "cell_type": "code",
   "execution_count": null,
   "metadata": {},
   "outputs": [],
   "source": [
    "sns.relplot(x = 'alcohol', y = 'color_intensity', hue = \"target\", data = wine)\n",
    "plt.show()"
   ]
  },
  {
   "cell_type": "code",
   "execution_count": null,
   "metadata": {},
   "outputs": [],
   "source": []
  }
 ],
 "metadata": {
  "kernelspec": {
   "display_name": "Python 3 (ipykernel)",
   "language": "python",
   "name": "python3"
  },
  "language_info": {
   "codemirror_mode": {
    "name": "ipython",
    "version": 3
   },
   "file_extension": ".py",
   "mimetype": "text/x-python",
   "name": "python",
   "nbconvert_exporter": "python",
   "pygments_lexer": "ipython3",
   "version": "3.10.5"
  }
 },
 "nbformat": 4,
 "nbformat_minor": 4
}
